{
 "cells": [
  {
   "cell_type": "code",
   "execution_count": 6,
   "id": "742aef12",
   "metadata": {},
   "outputs": [
    {
     "name": "stdout",
     "output_type": "stream",
     "text": [
      "Collecting emoji\n",
      "  Downloading emoji-2.0.0.tar.gz (197 kB)\n",
      "Building wheels for collected packages: emoji\n",
      "  Building wheel for emoji (setup.py): started\n",
      "  Building wheel for emoji (setup.py): finished with status 'done'\n",
      "  Created wheel for emoji: filename=emoji-2.0.0-py3-none-any.whl size=193022 sha256=12c986c52e37898839f9c6fc492c2435950b99d9f3d25cf05b50351e8c30f21f\n",
      "  Stored in directory: c:\\users\\clank\\appdata\\local\\pip\\cache\\wheels\\0e\\d1\\c5\\63b511b700c9da5a62bbfc758dd4a3fd9541df51b5db0694b0\n",
      "Successfully built emoji\n",
      "Installing collected packages: emoji\n",
      "Successfully installed emoji-2.0.0\n"
     ]
    }
   ],
   "source": [
    "!pip install emoji"
   ]
  },
  {
   "cell_type": "code",
   "execution_count": 1,
   "id": "d11e2126",
   "metadata": {},
   "outputs": [
    {
     "name": "stdout",
     "output_type": "stream",
     "text": [
      "\n",
      "    Выбери тип броска:\n",
      "    1 - Проверка\n",
      "    2 - Атака/защита\n",
      "    ----------------\n",
      "    0 - Прервать программу\n",
      "    1\n",
      "Шаманю на проверку.......\n",
      "Кидаю кубик..\n"
     ]
    },
    {
     "name": "stderr",
     "output_type": "stream",
     "text": [
      "100%|████████████████████████████████████████████████████████████████████████████████████| 2/2 [00:02<00:00,  1.01s/it]\n"
     ]
    },
    {
     "name": "stdout",
     "output_type": "stream",
     "text": [
      "И вот результат\n",
      "⭐, ⭐, ➕, ➕\n",
      "⭐, ⭐, ⭐\n",
      "\n",
      "    Выбери тип броска:\n",
      "    1 - Проверка\n",
      "    2 - Атака/защита\n",
      "    ----------------\n",
      "    0 - Прервать программу\n",
      "    1\n",
      "Шаманю на проверку.......\n",
      "Кидаю кубик..\n"
     ]
    },
    {
     "name": "stderr",
     "output_type": "stream",
     "text": [
      "100%|████████████████████████████████████████████████████████████████████████████████████| 2/2 [00:02<00:00,  1.01s/it]\n"
     ]
    },
    {
     "name": "stdout",
     "output_type": "stream",
     "text": [
      "И вот результат\n",
      "⭐, ⭐\n",
      "⭐, ⭐, ⭐\n",
      "\n",
      "    Выбери тип броска:\n",
      "    1 - Проверка\n",
      "    2 - Атака/защита\n",
      "    ----------------\n",
      "    0 - Прервать программу\n",
      "    1\n",
      "Шаманю на проверку.......\n",
      "Кидаю кубик..\n"
     ]
    },
    {
     "name": "stderr",
     "output_type": "stream",
     "text": [
      "100%|████████████████████████████████████████████████████████████████████████████████████| 2/2 [00:02<00:00,  1.00s/it]\n"
     ]
    },
    {
     "name": "stdout",
     "output_type": "stream",
     "text": [
      "И вот результат\n",
      "⭐, ⭐\n",
      "⭐, ⭐, ⭐\n",
      "\n",
      "    Выбери тип броска:\n",
      "    1 - Проверка\n",
      "    2 - Атака/защита\n",
      "    ----------------\n",
      "    0 - Прервать программу\n",
      "    1\n",
      "Шаманю на проверку.......\n",
      "Кидаю кубик..\n"
     ]
    },
    {
     "name": "stderr",
     "output_type": "stream",
     "text": [
      "100%|████████████████████████████████████████████████████████████████████████████████████| 2/2 [00:02<00:00,  1.01s/it]\n"
     ]
    },
    {
     "name": "stdout",
     "output_type": "stream",
     "text": [
      "И вот результат\n",
      "⭐, ⚡\n",
      "⭐, ⭐\n",
      "\n",
      "    Выбери тип броска:\n",
      "    1 - Проверка\n",
      "    2 - Атака/защита\n",
      "    ----------------\n",
      "    0 - Прервать программу\n",
      "    2\n",
      "Шаманю на защиту или атаку.......\n",
      "Кидаю кубик..\n"
     ]
    },
    {
     "name": "stderr",
     "output_type": "stream",
     "text": [
      "100%|████████████████████████████████████████████████████████████████████████████████████| 2/2 [00:02<00:00,  1.01s/it]\n"
     ]
    },
    {
     "name": "stdout",
     "output_type": "stream",
     "text": [
      "И вот результат\n",
      "⭐, ⭐, ⭐\n",
      "\n",
      "    Выбери тип броска:\n",
      "    1 - Проверка\n",
      "    2 - Атака/защита\n",
      "    ----------------\n",
      "    0 - Прервать программу\n",
      "    0\n"
     ]
    }
   ],
   "source": [
    "from random import randint\n",
    "import emoji \n",
    "import time\n",
    "from tqdm import tqdm\n",
    "\n",
    "def replace(line, old_new_num):\n",
    "    # при итерации по списку распаковываем кортежи на\n",
    "    # старое и новое значения, а так же `n` - количество замен\n",
    "    for vals in old_new_num:\n",
    "        # если кортежа имеет 3 элемента,\n",
    "        # значит присутствует количество замен\n",
    "        if len(vals) == 3:\n",
    "            # распаковываем кортеж\n",
    "            old, new, n = vals\n",
    "            # передаем аргументы методу и \n",
    "            line = line.replace(old, new, n)\n",
    "        elif len(vals) == 2:\n",
    "            # распаковываем кортеж\n",
    "            old, new = vals\n",
    "            line = line.replace(old, new)\n",
    "        else:\n",
    "            # если в кортеже НЕ 2 или 3 элемента, \n",
    "            # то поднимаем исключение\n",
    "            raise 'кортеж должен состоять из 2-х или 3-х элементов'\n",
    "    return line\n",
    "\n",
    "def encode_cube(throw):\n",
    "    \"\"\"0 -> :heavy_plus_sign:\n",
    "       1 -> :star2:\n",
    "       2 -> :zap:\n",
    "    \"\"\"\n",
    "    replace_val = [('0', ':plus:'),\n",
    "                   ('1', ':star:'),\n",
    "                   ('2', ':high_voltage:')]\n",
    "    return replace(str(throw).strip('[').strip(']'), replace_val) \n",
    "\n",
    "\n",
    "cube = [[1, 1, 0, 0],\n",
    "        [1, 2],\n",
    "        [1, 1],\n",
    "        [1, 1, 1],\n",
    "        [1, 1, 1],\n",
    "        [1, 1]]\n",
    "\"\"\"\n",
    "0 - усиление\n",
    "1 - успех\n",
    "2 - молния\n",
    "\"\"\"\n",
    "\n",
    "while True:\n",
    "    option = input(\"\"\"\n",
    "    Выбери тип броска:\n",
    "    1 - Проверка\n",
    "    2 - Атака/защита\n",
    "    ----------------\n",
    "    0 - Прервать программу\n",
    "    \"\"\")\n",
    "    if option == '1':\n",
    "        print('Шаманю на проверку.......')\n",
    "        first = randint(0, 5)\n",
    "        second = randint(0, 5)\n",
    "        print('Кидаю кубик..')\n",
    "        for _ in tqdm(range(2)):\n",
    "            time.sleep(1)\n",
    "        print('И вот результат')\n",
    "        print (emoji.emojize(encode_cube(cube[first]))) \n",
    "        print(emoji.emojize(encode_cube(cube[second])))\n",
    "    elif option == '2':\n",
    "        print('Шаманю на защиту или атаку.......')\n",
    "        print('Кидаю кубик..')\n",
    "        for _ in tqdm(range(2)):\n",
    "            time.sleep(1)\n",
    "        print('И вот результат')\n",
    "        first = randint(0, 5)\n",
    "        print (emoji.emojize(encode_cube(cube[first]))) \n",
    "    elif option == '0':\n",
    "        break\n"
   ]
  }
 ],
 "metadata": {
  "kernelspec": {
   "display_name": "Python 3 (ipykernel)",
   "language": "python",
   "name": "python3"
  },
  "language_info": {
   "codemirror_mode": {
    "name": "ipython",
    "version": 3
   },
   "file_extension": ".py",
   "mimetype": "text/x-python",
   "name": "python",
   "nbconvert_exporter": "python",
   "pygments_lexer": "ipython3",
   "version": "3.9.12"
  }
 },
 "nbformat": 4,
 "nbformat_minor": 5
}
