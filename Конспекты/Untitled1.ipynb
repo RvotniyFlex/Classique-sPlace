{
 "cells": [
  {
   "cell_type": "markdown",
   "id": "587a89dc",
   "metadata": {},
   "source": [
    "# Статистика Уальда"
   ]
  },
  {
   "cell_type": "markdown",
   "id": "888f360d",
   "metadata": {},
   "source": [
    "$$\n",
    "H_0: a_1 + a_2 = 3; a_3 = 7\\cdot a_4 \\rightarrow \\text{переформилируем гипотезу } b_1=0; b_2=0 \\\\\n",
    "b_1= a_1 + a_2 - 3; b_2 = a_3 - 7\\cdot a_4 \\\\\n",
    "\\hat a = \\begin{pmatrix}\n",
    "  \\hat a_1 \\\\\n",
    "  ... \\\\\n",
    "  \\hat a_{pur|}\n",
    "\\end{pmatrix}\\\\\n",
    "\\hat {Var}(\\hat a) = - H^{-1}\n",
    "$$\n",
    "\n",
    "Прводим тест \n",
    "$$\n",
    "H_0: a_1 = 0 \\text{- блок параметров}\n",
    "H_1: a_1 \\neq = 0\n",
    "$$\n",
    "\n",
    "$$\n",
    "w = ||\\frac{\\hat a_1 - 0}{\\sqrt{\\hat Var (\\hat a)}}||^2 \\\\\n",
    "||V||^2 = V^T V\\\\\n",
    "\\hat a_1^T \\cdot \\hat Var^{-1/2}(\\hat a_1)\\cdot \\hat Var^{-1/2}(\\hat a_1) \\hat a_1 = w\\\\\n",
    "w = \\hat a_1^T \\hat Var^{-1}(\\hat a_1) \\cdot \\hat a_1\n",
    "$$\n",
    "\n",
    "*Упражнение*\n",
    "$$\n",
    "\\hat a_{UR} = \\begin{pmatrix}\n",
    "  5 \\\\\n",
    "  2 \\\\\n",
    "  4 \\\\\n",
    "  3 \n",
    "\\end{pmatrix}\\\\\n",
    "H= \\begin{pmatrix}\n",
    " -6 & 1 & 0 & 0 \\\\\n",
    "  1 & -4 & 0 & 0 \\\\\n",
    "  0 & 0 & -2 & 0 \\\\\n",
    "  3 & 0 & 0& -9\n",
    "\\end{pmatrix}\\\\\n",
    "\\text{Проверит гипотезу:}\\\\\n",
    "H_0: = \\begin{cases}\n",
    "a_1 = 3 \\\\\n",
    "a_3 =2 \n",
    "\\end {cases}\\Rightarrow q = 2\\\\\n",
    "H_A = \\begin{cases}\n",
    "a_1 \\neq 3 \\\\\n",
    "a_3 \\neq 2 \n",
    "\\end {cases}\\\\\n",
    "w = ((5; 4) - (3; 2))^T \\cdot [\\hat {Var}] \\cdot ((5; 4) - (3; 2))^{-1}\n",
    "$$\n"
   ]
  },
  {
   "cell_type": "code",
   "execution_count": 1,
   "id": "7bce9b23",
   "metadata": {},
   "outputs": [],
   "source": [
    "import numpy as np\n"
   ]
  },
  {
   "cell_type": "code",
   "execution_count": 5,
   "id": "0aff9cb6",
   "metadata": {},
   "outputs": [],
   "source": [
    "import scipy as sp"
   ]
  },
  {
   "cell_type": "code",
   "execution_count": null,
   "id": "323670a1",
   "metadata": {},
   "outputs": [],
   "source": [
    "sp.inv()"
   ]
  },
  {
   "cell_type": "code",
   "execution_count": 7,
   "id": "e4498a39",
   "metadata": {},
   "outputs": [
    {
     "data": {
      "text/plain": [
       "matrix([[ 0.16, -0.08, -0.02],\n",
       "        [-0.08,  0.24, -0.04],\n",
       "        [-0.02, -0.04,  0.09]])"
      ]
     },
     "execution_count": 7,
     "metadata": {},
     "output_type": "execute_result"
    }
   ],
   "source": [
    "np.linalg.inv(np.matrix(np.array([[1/0.2 + 1/0.3, 1/0.3, 1/0.3],[1/0.3, 1/0.4 + 1/0.3, 1/0.3], [1/0.3, 1/0.3, 1/0.1 + 1/0.3]])))"
   ]
  },
  {
   "cell_type": "code",
   "execution_count": null,
   "id": "789eb6b1",
   "metadata": {},
   "outputs": [],
   "source": []
  }
 ],
 "metadata": {
  "kernelspec": {
   "display_name": "Python 3 (ipykernel)",
   "language": "python",
   "name": "python3"
  },
  "language_info": {
   "codemirror_mode": {
    "name": "ipython",
    "version": 3
   },
   "file_extension": ".py",
   "mimetype": "text/x-python",
   "name": "python",
   "nbconvert_exporter": "python",
   "pygments_lexer": "ipython3",
   "version": "3.8.5"
  }
 },
 "nbformat": 4,
 "nbformat_minor": 5
}
