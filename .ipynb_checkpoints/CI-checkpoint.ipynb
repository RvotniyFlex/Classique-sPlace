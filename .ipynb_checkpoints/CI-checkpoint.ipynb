{
 "cells": [
  {
   "cell_type": "code",
   "execution_count": 1,
   "id": "bcc82567",
   "metadata": {},
   "outputs": [],
   "source": [
    "import scipy.stats as sps\n",
    "import numpy as np"
   ]
  },
  {
   "cell_type": "code",
   "execution_count": 2,
   "id": "55b9015e",
   "metadata": {},
   "outputs": [],
   "source": [
    "np.random.seed(24)\n",
    "a = sps.expon.rvs(size=30, scale=1)"
   ]
  },
  {
   "cell_type": "code",
   "execution_count": 3,
   "id": "645ec185",
   "metadata": {},
   "outputs": [
    {
     "data": {
      "text/plain": [
       "array([3.2193085 , 1.20234763, 8.92736403, 0.24854764, 0.44793902,\n",
       "       1.34646226, 5.64242168, 0.38030477, 0.14681301, 0.48447586,\n",
       "       0.38642642, 0.45636072, 1.23667357, 2.30401041, 0.7638174 ,\n",
       "       0.28408025, 1.1141521 , 0.82491808, 0.78210928, 2.23911843,\n",
       "       1.85010632, 0.36530146, 0.99741884, 1.140181  , 3.52091245,\n",
       "       2.24024103, 2.85468179, 1.02785233, 0.95359713, 0.25836052])"
      ]
     },
     "execution_count": 3,
     "metadata": {},
     "output_type": "execute_result"
    }
   ],
   "source": [
    "a"
   ]
  },
  {
   "cell_type": "code",
   "execution_count": 4,
   "id": "5c5598fc",
   "metadata": {},
   "outputs": [],
   "source": [
    "mean_x = np.mean(a)\n",
    "sigma_sq = np.sum((a - mean_x)**2)/(a.shape[0] - 1)"
   ]
  },
  {
   "cell_type": "code",
   "execution_count": 5,
   "id": "5a50c887",
   "metadata": {},
   "outputs": [
    {
     "name": "stdout",
     "output_type": "stream",
     "text": [
      "CI 95% = [0.9157240590518305; 2.2606962034834606]\n"
     ]
    }
   ],
   "source": [
    "print('CI 95% = [{}; {}]'.format(mean_x - 1.96* (sigma_sq/( a.shape[0] - 1))**(1/2),\n",
    "                                 (mean_x + 1.96* (sigma_sq/( a.shape[0] - 1))**(1/2))))"
   ]
  },
  {
   "cell_type": "code",
   "execution_count": 8,
   "id": "e3b658cb",
   "metadata": {},
   "outputs": [],
   "source": [
    "import scipy.stats as sps"
   ]
  },
  {
   "cell_type": "code",
   "execution_count": 6,
   "id": "45049efc",
   "metadata": {},
   "outputs": [],
   "source": [
    "def calc_CI (mean_x: int, sigma_sq: int, q: int = 1.96):\n",
    "    CI = []\n",
    "    left_border = mean_x - q*(sigma_sq/( a.shape[0] - 1))**(1/2)\n",
    "    CI.append(left_border)\n",
    "    right_border = mean_x + q*(sigma_sq/( a.shape[0] - 1))**(1/2)\n",
    "    CI.append(right_border)\n",
    "    return CI"
   ]
  },
  {
   "cell_type": "code",
   "execution_count": 7,
   "id": "adffc114",
   "metadata": {},
   "outputs": [],
   "source": [
    "import pandas as pd "
   ]
  },
  {
   "cell_type": "code",
   "execution_count": 64,
   "id": "6b888109",
   "metadata": {},
   "outputs": [],
   "source": [
    "La = []\n",
    "Lb = []\n",
    "for i in range(2000):\n",
    "    np.random.seed(1488 + i)\n",
    "    a = sps.expon.rvs(size=30, scale=1)\n",
    "    mean_x = np.mean(a)\n",
    "    sigma_sq = np.sum((a - mean_x)**2)/(a.shape[0] - 1)\n",
    "    standard_CI = calc_CI(mean_x, sigma_sq)\n",
    "    La.append(standard_CI[0])\n",
    "    Lb.append(standard_CI[1])"
   ]
  },
  {
   "cell_type": "code",
   "execution_count": null,
   "id": "3d915afe",
   "metadata": {},
   "outputs": [],
   "source": []
  },
  {
   "cell_type": "code",
   "execution_count": 65,
   "id": "c70c86af",
   "metadata": {},
   "outputs": [],
   "source": [
    "borders = pd.DataFrame({'La': La,\n",
    "                       'Lb': Lb})"
   ]
  },
  {
   "cell_type": "code",
   "execution_count": 66,
   "id": "44bcd962",
   "metadata": {},
   "outputs": [],
   "source": [
    "borders['A'] = (borders['La'] < 1) * (borders['Lb'] > 1)"
   ]
  },
  {
   "cell_type": "code",
   "execution_count": 67,
   "id": "a14567bd",
   "metadata": {},
   "outputs": [
    {
     "data": {
      "text/plain": [
       "0.9145"
      ]
     },
     "execution_count": 67,
     "metadata": {},
     "output_type": "execute_result"
    }
   ],
   "source": [
    "borders.A.mean()"
   ]
  },
  {
   "cell_type": "markdown",
   "id": "7ac4830e",
   "metadata": {},
   "source": [
    "### Naive bootstrap"
   ]
  },
  {
   "cell_type": "code",
   "execution_count": null,
   "id": "5d3d78f4",
   "metadata": {},
   "outputs": [],
   "source": []
  },
  {
   "cell_type": "code",
   "execution_count": 68,
   "id": "5bee7fe8",
   "metadata": {},
   "outputs": [],
   "source": [
    "import random"
   ]
  },
  {
   "cell_type": "code",
   "execution_count": 70,
   "id": "8e98e7a6",
   "metadata": {},
   "outputs": [],
   "source": [
    "from tqdm import tqdm"
   ]
  },
  {
   "cell_type": "code",
   "execution_count": 83,
   "id": "d0287883",
   "metadata": {},
   "outputs": [
    {
     "name": "stderr",
     "output_type": "stream",
     "text": [
      "100%|██████████████████████████████████████████████████████████████████████████████| 2000/2000 [02:02<00:00, 16.29it/s]\n"
     ]
    }
   ],
   "source": [
    "Ba = []\n",
    "Bb = []\n",
    "for i in tqdm(range(2000)):\n",
    "    np.random.seed(1488 + i)\n",
    "    a = sps.expon.rvs(size=30, scale=1)\n",
    "    means=[]\n",
    "    for j in range(1000):\n",
    "        boots_a = random.choices(a, k=30)    \n",
    "        means.append(np.mean(boots_a))\n",
    "    means = sorted(means)\n",
    "    Ba.append(np.quantile(means, 0.025))\n",
    "    Bb.append(np.quantile(means, 0.975))"
   ]
  },
  {
   "cell_type": "code",
   "execution_count": 84,
   "id": "03d723c1",
   "metadata": {},
   "outputs": [
    {
     "data": {
      "text/html": [
       "<div>\n",
       "<style scoped>\n",
       "    .dataframe tbody tr th:only-of-type {\n",
       "        vertical-align: middle;\n",
       "    }\n",
       "\n",
       "    .dataframe tbody tr th {\n",
       "        vertical-align: top;\n",
       "    }\n",
       "\n",
       "    .dataframe thead th {\n",
       "        text-align: right;\n",
       "    }\n",
       "</style>\n",
       "<table border=\"1\" class=\"dataframe\">\n",
       "  <thead>\n",
       "    <tr style=\"text-align: right;\">\n",
       "      <th></th>\n",
       "      <th>La</th>\n",
       "      <th>Lb</th>\n",
       "      <th>A</th>\n",
       "      <th>Ba</th>\n",
       "      <th>Bb</th>\n",
       "      <th>B</th>\n",
       "    </tr>\n",
       "  </thead>\n",
       "  <tbody>\n",
       "    <tr>\n",
       "      <th>0</th>\n",
       "      <td>0.727556</td>\n",
       "      <td>1.397114</td>\n",
       "      <td>True</td>\n",
       "      <td>0.939449</td>\n",
       "      <td>1.410374</td>\n",
       "      <td>True</td>\n",
       "    </tr>\n",
       "    <tr>\n",
       "      <th>1</th>\n",
       "      <td>0.524813</td>\n",
       "      <td>1.206287</td>\n",
       "      <td>True</td>\n",
       "      <td>0.748722</td>\n",
       "      <td>1.227931</td>\n",
       "      <td>True</td>\n",
       "    </tr>\n",
       "    <tr>\n",
       "      <th>2</th>\n",
       "      <td>0.530943</td>\n",
       "      <td>1.480398</td>\n",
       "      <td>True</td>\n",
       "      <td>0.844841</td>\n",
       "      <td>1.511640</td>\n",
       "      <td>True</td>\n",
       "    </tr>\n",
       "    <tr>\n",
       "      <th>3</th>\n",
       "      <td>0.530834</td>\n",
       "      <td>0.978572</td>\n",
       "      <td>False</td>\n",
       "      <td>0.676798</td>\n",
       "      <td>0.976954</td>\n",
       "      <td>False</td>\n",
       "    </tr>\n",
       "    <tr>\n",
       "      <th>4</th>\n",
       "      <td>0.639280</td>\n",
       "      <td>1.345701</td>\n",
       "      <td>True</td>\n",
       "      <td>0.870145</td>\n",
       "      <td>1.374632</td>\n",
       "      <td>True</td>\n",
       "    </tr>\n",
       "    <tr>\n",
       "      <th>...</th>\n",
       "      <td>...</td>\n",
       "      <td>...</td>\n",
       "      <td>...</td>\n",
       "      <td>...</td>\n",
       "      <td>...</td>\n",
       "      <td>...</td>\n",
       "    </tr>\n",
       "    <tr>\n",
       "      <th>1995</th>\n",
       "      <td>0.666941</td>\n",
       "      <td>1.749941</td>\n",
       "      <td>True</td>\n",
       "      <td>1.010449</td>\n",
       "      <td>1.849094</td>\n",
       "      <td>False</td>\n",
       "    </tr>\n",
       "    <tr>\n",
       "      <th>1996</th>\n",
       "      <td>0.889046</td>\n",
       "      <td>1.680542</td>\n",
       "      <td>True</td>\n",
       "      <td>1.150539</td>\n",
       "      <td>1.680612</td>\n",
       "      <td>False</td>\n",
       "    </tr>\n",
       "    <tr>\n",
       "      <th>1997</th>\n",
       "      <td>0.554163</td>\n",
       "      <td>1.504598</td>\n",
       "      <td>True</td>\n",
       "      <td>0.858160</td>\n",
       "      <td>1.472063</td>\n",
       "      <td>True</td>\n",
       "    </tr>\n",
       "    <tr>\n",
       "      <th>1998</th>\n",
       "      <td>0.412521</td>\n",
       "      <td>0.977237</td>\n",
       "      <td>False</td>\n",
       "      <td>0.589509</td>\n",
       "      <td>1.011049</td>\n",
       "      <td>True</td>\n",
       "    </tr>\n",
       "    <tr>\n",
       "      <th>1999</th>\n",
       "      <td>0.519384</td>\n",
       "      <td>0.972810</td>\n",
       "      <td>False</td>\n",
       "      <td>0.667762</td>\n",
       "      <td>0.974740</td>\n",
       "      <td>False</td>\n",
       "    </tr>\n",
       "  </tbody>\n",
       "</table>\n",
       "<p>2000 rows × 6 columns</p>\n",
       "</div>"
      ],
      "text/plain": [
       "            La        Lb      A        Ba        Bb      B\n",
       "0     0.727556  1.397114   True  0.939449  1.410374   True\n",
       "1     0.524813  1.206287   True  0.748722  1.227931   True\n",
       "2     0.530943  1.480398   True  0.844841  1.511640   True\n",
       "3     0.530834  0.978572  False  0.676798  0.976954  False\n",
       "4     0.639280  1.345701   True  0.870145  1.374632   True\n",
       "...        ...       ...    ...       ...       ...    ...\n",
       "1995  0.666941  1.749941   True  1.010449  1.849094  False\n",
       "1996  0.889046  1.680542   True  1.150539  1.680612  False\n",
       "1997  0.554163  1.504598   True  0.858160  1.472063   True\n",
       "1998  0.412521  0.977237  False  0.589509  1.011049   True\n",
       "1999  0.519384  0.972810  False  0.667762  0.974740  False\n",
       "\n",
       "[2000 rows x 6 columns]"
      ]
     },
     "execution_count": 84,
     "metadata": {},
     "output_type": "execute_result"
    }
   ],
   "source": [
    "borders"
   ]
  },
  {
   "cell_type": "code",
   "execution_count": 85,
   "id": "404584f6",
   "metadata": {},
   "outputs": [],
   "source": [
    "borders['Ba'] = Ba\n",
    "borders['Bb'] = Bb "
   ]
  },
  {
   "cell_type": "code",
   "execution_count": 86,
   "id": "cd85dfeb",
   "metadata": {},
   "outputs": [],
   "source": [
    "borders['B'] = (borders['Ba'] < 1) * (borders['Bb'] > 1)"
   ]
  },
  {
   "cell_type": "code",
   "execution_count": 87,
   "id": "1dad3e36",
   "metadata": {},
   "outputs": [
    {
     "data": {
      "text/plain": [
       "0.9085"
      ]
     },
     "execution_count": 87,
     "metadata": {},
     "output_type": "execute_result"
    }
   ],
   "source": [
    "borders.B.mean()"
   ]
  }
 ],
 "metadata": {
  "kernelspec": {
   "display_name": "Python 3 (ipykernel)",
   "language": "python",
   "name": "python3"
  },
  "language_info": {
   "codemirror_mode": {
    "name": "ipython",
    "version": 3
   },
   "file_extension": ".py",
   "mimetype": "text/x-python",
   "name": "python",
   "nbconvert_exporter": "python",
   "pygments_lexer": "ipython3",
   "version": "3.8.5"
  }
 },
 "nbformat": 4,
 "nbformat_minor": 5
}
