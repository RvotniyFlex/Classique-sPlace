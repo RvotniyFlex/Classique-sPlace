{
 "cells": [
  {
   "cell_type": "markdown",
   "id": "0ad9ca6f",
   "metadata": {},
   "source": [
    "Given a CPP: $X_t = \\gamma t + \\sum\\limits_{j=1}^{N_t}Y_j$, where $N_t = N_{t-1} + \\xi_t$, $p(\\xi_t) = \\lambda e^{-\\lambda x}$\n",
    "\n",
    "* $\\gamma$ is drift\n",
    "* $\\lambda$ is intensivity\n",
    "* $Y_1, Y_2, ..., Y_n \\sim F$\n",
    "\n",
    "According to Lebesque's Theoreme we can decompose $\\nu$ - Levy measure:\n",
    "\n",
    "$$\\nu = \\nu_d + \\nu_{ac}$$, where $$\\nu_d = \\sum\\limits_{j\\in\\mathcal{J}}g_j\\delta_{J_j}$$\n",
    "\n",
    "\n",
    "the only Levy processes for which the cumulative distribution\n",
    "function of this measure exists are those whose jump component is a compound Poisson\n",
    "process. \n",
    "$$N(t) := \\lambda F(t) = \\int\\limits_{-\\infty}^t\\nu(dx)$$\n",
    "\n",
    "Do measure actual weights of the jump measure $p = \\frac{q}{\\lambda}$"
   ]
  },
  {
   "cell_type": "markdown",
   "id": "326e6728",
   "metadata": {},
   "source": [
    "### Step 1. Model CPP"
   ]
  },
  {
   "cell_type": "code",
   "execution_count": 8,
   "id": "133cf434",
   "metadata": {},
   "outputs": [],
   "source": [
    "import random\n",
    "import math\n",
    "from scipy import stats as st\n",
    "import numpy as np\n",
    "import matplotlib.pyplot as plt\n",
    "import seaborn as sns"
   ]
  },
  {
   "cell_type": "markdown",
   "id": "d6d3d5ba",
   "metadata": {},
   "source": [
    "1) PP modeling"
   ]
  },
  {
   "cell_type": "code",
   "execution_count": 72,
   "id": "9290cf81",
   "metadata": {},
   "outputs": [],
   "source": [
    "_lambda = 5\n",
    "num_arrivals = 1000\n",
    "arrival_time = 0\n",
    "\n",
    "\n",
    "def get_pp_nt(_lambda, num_arrivals):\n",
    "    nt_path = np.zeros(num_arrivals)\n",
    "    pois_dist = st.poisson.rvs(size=num_arrivals-1, mu=_lambda)\n",
    "    nt_path[1:] = np.cumsum(pois_dist)     \n",
    "    return nt_path"
   ]
  },
  {
   "cell_type": "code",
   "execution_count": 73,
   "id": "96689b3c",
   "metadata": {},
   "outputs": [],
   "source": [
    "nt_path = get_pp_nt(_lambda, num_arrivals)"
   ]
  },
  {
   "cell_type": "markdown",
   "id": "84756dc4",
   "metadata": {},
   "source": [
    "2) CPP modeling"
   ]
  },
  {
   "cell_type": "code",
   "execution_count": 79,
   "id": "90eb2453",
   "metadata": {},
   "outputs": [],
   "source": [
    "y_path = st.norm.rvs(loc=0, scale=10, size=int(nt_path[-1]))"
   ]
  },
  {
   "cell_type": "code",
   "execution_count": 80,
   "id": "e37df1fb",
   "metadata": {},
   "outputs": [],
   "source": [
    "def get_cpp_path(nt_path, y_path, gamma):\n",
    "    assert len(y_path) == int(nt_path[-1])\n",
    "    X_path = np.zeros(len(nt_path))\n",
    "    for t in range(len(nt_path)):\n",
    "        j = int(nt_path[t])\n",
    "        X_path[t] = gamma*t + np.sum(y_path[:j])\n",
    "    return X_path"
   ]
  },
  {
   "cell_type": "code",
   "execution_count": 81,
   "id": "30b16864",
   "metadata": {},
   "outputs": [],
   "source": [
    "X_path = get_cpp_path(nt_path, y_path, 2)"
   ]
  },
  {
   "cell_type": "code",
   "execution_count": 82,
   "id": "b89b6ffa",
   "metadata": {},
   "outputs": [
    {
     "data": {
      "image/png": "[encoded data removed]",
      "text/plain": [
       "<Figure size 432x288 with 1 Axes>"
      ]
     },
     "metadata": {
      "needs_background": "light"
     },
     "output_type": "display_data"
    }
   ],
   "source": [
    "plt.plot(X_path);"
   ]
  },
  {
   "cell_type": "markdown",
   "id": "e646855f",
   "metadata": {},
   "source": [
    "### Step 2. Bulid estimation functions"
   ]
  },
  {
   "cell_type": "markdown",
   "id": "79624879",
   "metadata": {},
   "source": [
    "We can observe X discrettly => we know only $X_{\\Delta}, X_{2\\Delta}, ..., X_{n\\Delta}$, where $n=\\frac{T}{\\Delta}$\n",
    "\n",
    "Thus $Z_k = X_{k\\Delta} - X_{(k-1)\\Delta}$ has independent increments\n",
    "\n",
    "Derive $\\phi(Z_k) = e^{\\Delta(iu\\gamma + \\lambda \\Phi_Y(u) - \\lambda)} = e^{\\Delta(iu\\gamma + F\\nu(u) - \\lambda)}$\n",
    "\n",
    "Build an estimator: $\\frac{1}{\\Delta} \\int f(u) F^{-1} [ln(\\phi)] du = \\int f(u) \\frac{1}{2\\pi} [\\int e^{-iux}(iu\\gamma + F\\nu(u) - \\lambda) dx] du  = \\gamma f'(0) - \\lambda f(0) + \\sum\\limits_{j \\in \\mathbb{z}}f(J_j) + \\int f d\\nu_{ac}$\n",
    "\n",
    "1) Solve inner integral:\n",
    "\n",
    "I: $\\frac{\\gamma}{2\\pi}\\int e^{-iux}dx = \\gamma \\delta(0)$\n",
    "\n",
    "II: $\\frac{1}{2\\pi} \\int e^{-iux} F\\nu(x) dx = \\nu(u)$  (обратное преобразование фурье от преобразования фурье)\n",
    "\n",
    "III: $\\frac{\\lambda}{2\\pi}\\int e^{-iux} dx = -\\lambda \\delta(x)$:\n",
    "\n",
    "Мера Дирака:\n",
    "\n",
    "$$\\begin{equation*}\n",
    "\\delta(x) = \n",
    " \\begin{cases}\n",
    "   1, & x = 0\\\\\n",
    "   0 &\\text{else}\n",
    " \\end{cases}\n",
    "\\end{equation*}$$\n",
    "\n",
    "Then we can estimate parametrs of process:\n",
    "\n",
    "1) **$\\lambda$ estimation**\n",
    "\n",
    "We know that we can estimate $\\phi(u)$ with the given outcomes of Z_k: $\\hat\\phi(u)=\\frac{1}{n}\\sum\\limits_{k=1}^ne^{iuZ_k}$\n",
    "\n",
    "$$\\lambda = -\\lim\\limits_{n->\\infty} \\frac{1}{\\Delta} \\int_{\\mathbb{R}}\\mathbb{I}[|x| < \\zeta_n]\\mathcal{F}^{-1}(\\ln(\\phi(x))dx = \\lim\\limits_{n->\\infty} \\frac{1}{\\Delta} \\int_{\\mathbb{R}}\\mathbb{I}[|z| < \\zeta_n] \\frac{1}{2\\pi}\\int_{\\mathbb{R}}e^{iux}\\ln(\\phi(x))dxdz $$\n",
    "\n",
    "Simplify this formua for descrete case:\n",
    "\n",
    "$$\\hat\\lambda = \\Delta\\int\\limits_{-T}^T\\mathcal{F}^{-1}(iux + \\mathcal{F}\\nu(x) - \\lambda)dx=\\Delta\\int\\limits_{-T}^T[\\mathcal{F}^{-1}(iux  - \\lambda) + \\mathcal{F}\\nu(x)] = \\frac{\\Delta}{2\\pi} \\int\\limits_{-T}^T e^{-iux}(iux - \\lambda)dx + \\Delta\\int\\limits_{-T}^T\\nu(x)dx= \\frac{\\Delta}{2\\pi} \\int\\limits_{-T}^T (Cos(ux) - iSin(ux))(iux - \\lambda)dx + \\Delta\\int\\limits_{-T}^T\\nu(x)dx = \\frac{\\Delta}{2\\pi} [\\int\\limits_{-T}^T (Sin(ux)ux - Cos(ux)\\lambda)dx + i\\int\\limits_{-T}^T (Cos(ux)ux + Sin(ux)\\lambda)dx] + \\Delta\\int\\limits_{-T}^T\\nu(x)dx$$ (скорее всего не так понял)\n",
    "\n",
    "**Скорее всего правильный вариант**: $$\\hat\\lambda = \\int\\limits_{-T}^Te^{-iux}\\ln(\\hat\\phi(u))du = \\int\\limits_{-T}^T(Cos(ux)-i*Sin(ux))\\ln[\\frac{1}{n}\\sum\\limits_{k=1}^ne^{iuZ_k}]du$$\n",
    "\n",
    "Представим $\\ln[\\frac{1}{n}\\sum\\limits_{k=1}^ne^{iuZ_k}]$ как комбинацию действительной и мнимой функции:\n",
    "\n",
    "**Intensity estimation from PhD**:\n",
    "1) Naive/direct estimator (log function of zero observation proportion): $$\\tilde\\lambda_n := -\\frac{1}{\\Delta}log(\\frac{1}{n}\\sum\\limits_{k=1}^n\\mathbb{I}_{\\{0\\}}(Z_k))$$\n",
    "\n",
    "We can simplify this estimator buy caunting ratio of low increments $Z_k$\n",
    "\n",
    "2) Complex estimator:\n",
    "\n",
    "$\\hat\\lambda = \\frac{1}{\\Delta}\\int\\limits_\\mathbb{R}\\mathbb{I}_{[-H_n, H_n]\\backslash(-\\varepsilon_n, \\varepsilon_n)}\\mathcal{F}^{-1}[log(\\mathcal{F}dG_n)\\mathcal{F}K_{h_n}](x)dx$, where $\\mathcal{F}dG_n = \\frac{1}{n}\\sum\\limits_{k=1}^ne^{iZ_k}$\n",
    "\n",
    "\n",
    "the probability of observing an instance of Z with no jumps is $e^{-\\lambda\\Delta}$. Let us\n",
    "condition on the number of observations with jumps being $m \\in \\mathbb{N}$ and on the number of\n",
    "non-zero such observations being $\\tilde m \\in \\mathbb{N}$. Then, we have that:\n",
    "\n",
    "$$\\tilde\\lambda_n = -\\frac{1}{\\Delta}log\\frac{n-\\tilde m}{n} =  -\\frac{1}{\\Delta}log\\frac{n- m}{n}  -\\frac{1}{\\Delta}log\\frac{n-\\tilde m}{n - m}$$\n",
    "\n",
    "\n",
    "if jumps can cancel out resulting in\n",
    "zero observations, the second summand converges to a non-zero quantity and $\\tilde\\lambda_n$ cannotbe consistent\n",
    "\n",
    "\n",
    "2) **$\\gamma$ estimation**\n",
    "\n",
    "$$\\gamma = \\lim\\limits_{n->\\infty} \\frac{1}{\\Delta} \\int_{\\mathbb{R}}x\\mathbb{I}[|x| < \\zeta_n]\\mathcal{F}^{-1}(\\ln(\\phi(x))dx = \\lim\\limits_{n->\\infty} \\frac{1}{\\Delta} \\int_{\\mathbb{R}}z\\mathbb{I}[|z| < \\zeta_n] \\frac{1}{2\\pi}\\int_{\\mathbb{R}}e^{iux}\\ln(\\phi(x))dxdz $$\n",
    "\n",
    "3) **$q_j$ estimation**\n",
    "\n",
    "$$ q_j = \\lim\\limits_{n->\\infty} \\frac{1}{\\Delta} \\int_{\\mathbb{R}}x\\mathbb{I}[|x - J_j|< \\zeta_n]\\mathcal{F}^{-1}(\\ln(\\phi(x))dx  $$\n",
    "\n",
    "4) **$\\int\\limits_{-\\infty}^t\\nu_{ac}$ estimation**\n",
    "\n",
    "$$\\int\\limits_{-\\infty}^t\\nu_{ac} = \\lim\\limits_{n->\\infty} \\frac{1}{\\Delta} \\int_{\\mathbb{R}}\\mathbb{I}[|x| \\geq \\zeta_n](1 - \\sum\\limits_{j\\in \\mathbb{Z}}\\mathbb{I}[|x - J_j|< \\zeta_n])\\mathcal{F}^{-1}(\\ln(\\phi(x))dx$$\n",
    "\n",
    "5) **$N(t)$ estimation**\n",
    "\n",
    "$$N(t) =\\lim\\limits_{n->\\infty} \\frac{1}{\\Delta} \\int_{\\mathbb{R}}\\mathbb{I}[|x| \\geq \\zeta_n]\\mathcal{F}^{-1}(\\ln(\\phi(x))dx $$"
   ]
  },
  {
   "cell_type": "markdown",
   "id": "d2cb120e",
   "metadata": {},
   "source": [
    "### Estimate lambda"
   ]
  },
  {
   "cell_type": "code",
   "execution_count": 83,
   "id": "6bbfde88",
   "metadata": {},
   "outputs": [],
   "source": [
    "def naive_lambda(X_path, upper_bound, delta=1):\n",
    "    Z_k = X_path[1::2] - X_path[::2]\n",
    "    return -delta*np.log((abs(Z_k) < upper_bound).sum()/len(Z_k))"
   ]
  },
  {
   "cell_type": "code",
   "execution_count": 84,
   "id": "7d9a0846",
   "metadata": {},
   "outputs": [
    {
     "data": {
      "text/plain": [
       "4.017383521085972"
      ]
     },
     "execution_count": 84,
     "metadata": {},
     "output_type": "execute_result"
    }
   ],
   "source": [
    "naive_lambda(X_path, 0.5)"
   ]
  },
  {
   "cell_type": "code",
   "execution_count": null,
   "id": "fde737be",
   "metadata": {},
   "outputs": [],
   "source": [
    "def complex_int():\n",
    "    pass\n",
    "\n",
    "\n",
    "def real_int():\n",
    "    pass\n",
    "\n",
    "lambda = complex_int "
   ]
  },
  {
   "cell_type": "markdown",
   "id": "497711c4",
   "metadata": {},
   "source": [
    "## Вопросы для следующей встречи:\n",
    "1) Запутался с dx/du в формулах для оценки =>\n",
    "\n",
    "2) Еще раз про вывод $\\phi$\n",
    "\n",
    "3) Как разложить ряд $\\ln[\\frac{1}{n}\\sum\\limits_{k=1}^ne^{iuZ_k}]$"
   ]
  },
  {
   "cell_type": "code",
   "execution_count": null,
   "id": "70ee08ae",
   "metadata": {},
   "outputs": [],
   "source": []
  }
 ],
 "metadata": {
  "kernelspec": {
   "display_name": "Python 3 (ipykernel)",
   "language": "python",
   "name": "python3"
  },
  "language_info": {
   "codemirror_mode": {
    "name": "ipython",
    "version": 3
   },
   "file_extension": ".py",
   "mimetype": "text/x-python",
   "name": "python",
   "nbconvert_exporter": "python",
   "pygments_lexer": "ipython3",
   "version": "3.9.12"
  }
 },
 "nbformat": 4,
 "nbformat_minor": 5
}
