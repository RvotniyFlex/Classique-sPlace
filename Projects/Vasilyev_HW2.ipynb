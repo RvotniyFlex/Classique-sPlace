{
 "cells": [
  {
   "cell_type": "markdown",
   "id": "75c9a997",
   "metadata": {},
   "source": [
    "# Домашнее задание 2\n",
    "\n",
    "**Васильев Н.Н.** \n",
    "\n",
    "*Вариант 8*"
   ]
  },
  {
   "cell_type": "code",
   "execution_count": 1,
   "id": "6794dbeb",
   "metadata": {},
   "outputs": [],
   "source": [
    "import pandas as pd\n",
    "import numpy as np\n",
    "\n",
    "import matplotlib.pyplot as plt\n",
    "import seaborn as sns\n",
    "\n",
    "from scipy import stats as st\n",
    "\n",
    "sns.set_style(\"whitegrid\")\n",
    "sns.set_palette('husl')"
   ]
  },
  {
   "cell_type": "markdown",
   "id": "a26ae9b1",
   "metadata": {},
   "source": [
    "#### Задание 0"
   ]
  },
  {
   "cell_type": "code",
   "execution_count": 2,
   "id": "d32790d3",
   "metadata": {},
   "outputs": [],
   "source": [
    "df = pd.read_excel('Homework_2022.xlsx', index_col='idind')"
   ]
  },
  {
   "cell_type": "code",
   "execution_count": 3,
   "id": "fcc984d0",
   "metadata": {},
   "outputs": [
    {
     "data": {
      "text/plain": [
       "(3871, 86)"
      ]
     },
     "execution_count": 3,
     "metadata": {},
     "output_type": "execute_result"
    }
   ],
   "source": [
    "df.shape"
   ]
  },
  {
   "cell_type": "code",
   "execution_count": 4,
   "id": "7d739a11",
   "metadata": {},
   "outputs": [
    {
     "data": {
      "text/html": [
       "<div>\n",
       "<style scoped>\n",
       "    .dataframe tbody tr th:only-of-type {\n",
       "        vertical-align: middle;\n",
       "    }\n",
       "\n",
       "    .dataframe tbody tr th {\n",
       "        vertical-align: top;\n",
       "    }\n",
       "\n",
       "    .dataframe thead th {\n",
       "        text-align: right;\n",
       "    }\n",
       "</style>\n",
       "<table border=\"1\" class=\"dataframe\">\n",
       "  <thead>\n",
       "    <tr style=\"text-align: right;\">\n",
       "      <th></th>\n",
       "      <th>psu</th>\n",
       "      <th>status</th>\n",
       "      <th>age</th>\n",
       "      <th>male</th>\n",
       "      <th>industry</th>\n",
       "      <th>wage</th>\n",
       "      <th>public</th>\n",
       "      <th>internet</th>\n",
       "      <th>children</th>\n",
       "      <th>urban</th>\n",
       "      <th>...</th>\n",
       "      <th>id66</th>\n",
       "      <th>id67</th>\n",
       "      <th>id68</th>\n",
       "      <th>id69</th>\n",
       "      <th>id70</th>\n",
       "      <th>id71</th>\n",
       "      <th>id72</th>\n",
       "      <th>id73</th>\n",
       "      <th>id74</th>\n",
       "      <th>id75</th>\n",
       "    </tr>\n",
       "    <tr>\n",
       "      <th>idind</th>\n",
       "      <th></th>\n",
       "      <th></th>\n",
       "      <th></th>\n",
       "      <th></th>\n",
       "      <th></th>\n",
       "      <th></th>\n",
       "      <th></th>\n",
       "      <th></th>\n",
       "      <th></th>\n",
       "      <th></th>\n",
       "      <th></th>\n",
       "      <th></th>\n",
       "      <th></th>\n",
       "      <th></th>\n",
       "      <th></th>\n",
       "      <th></th>\n",
       "      <th></th>\n",
       "      <th></th>\n",
       "      <th></th>\n",
       "      <th></th>\n",
       "      <th></th>\n",
       "    </tr>\n",
       "  </thead>\n",
       "  <tbody>\n",
       "    <tr>\n",
       "      <th>1</th>\n",
       "      <td>Волосовский</td>\n",
       "      <td>ПГТ</td>\n",
       "      <td>60</td>\n",
       "      <td>1</td>\n",
       "      <td>НАУКА, КУЛЬТ</td>\n",
       "      <td>9500</td>\n",
       "      <td>0</td>\n",
       "      <td>1</td>\n",
       "      <td>2</td>\n",
       "      <td>1</td>\n",
       "      <td>...</td>\n",
       "      <td>0</td>\n",
       "      <td>0</td>\n",
       "      <td>0</td>\n",
       "      <td>0</td>\n",
       "      <td>0</td>\n",
       "      <td>0</td>\n",
       "      <td>0</td>\n",
       "      <td>0</td>\n",
       "      <td>1</td>\n",
       "      <td>0</td>\n",
       "    </tr>\n",
       "    <tr>\n",
       "      <th>2</th>\n",
       "      <td>Волосовский</td>\n",
       "      <td>Село</td>\n",
       "      <td>41</td>\n",
       "      <td>0</td>\n",
       "      <td>ОБРАЗОВАНИЕ</td>\n",
       "      <td>48500</td>\n",
       "      <td>1</td>\n",
       "      <td>1</td>\n",
       "      <td>1</td>\n",
       "      <td>0</td>\n",
       "      <td>...</td>\n",
       "      <td>1</td>\n",
       "      <td>0</td>\n",
       "      <td>0</td>\n",
       "      <td>0</td>\n",
       "      <td>1</td>\n",
       "      <td>0</td>\n",
       "      <td>0</td>\n",
       "      <td>0</td>\n",
       "      <td>1</td>\n",
       "      <td>0</td>\n",
       "    </tr>\n",
       "    <tr>\n",
       "      <th>3</th>\n",
       "      <td>Волосовский</td>\n",
       "      <td>Село</td>\n",
       "      <td>54</td>\n",
       "      <td>0</td>\n",
       "      <td>СЕЛЬСКОЕ ХОЗ</td>\n",
       "      <td>36500</td>\n",
       "      <td>0</td>\n",
       "      <td>1</td>\n",
       "      <td>3</td>\n",
       "      <td>0</td>\n",
       "      <td>...</td>\n",
       "      <td>0</td>\n",
       "      <td>0</td>\n",
       "      <td>0</td>\n",
       "      <td>0</td>\n",
       "      <td>0</td>\n",
       "      <td>0</td>\n",
       "      <td>0</td>\n",
       "      <td>0</td>\n",
       "      <td>0</td>\n",
       "      <td>1</td>\n",
       "    </tr>\n",
       "    <tr>\n",
       "      <th>4</th>\n",
       "      <td>Волосовский</td>\n",
       "      <td>Село</td>\n",
       "      <td>48</td>\n",
       "      <td>1</td>\n",
       "      <td>СЕЛЬСКОЕ ХОЗ</td>\n",
       "      <td>20500</td>\n",
       "      <td>0</td>\n",
       "      <td>0</td>\n",
       "      <td>1</td>\n",
       "      <td>0</td>\n",
       "      <td>...</td>\n",
       "      <td>0</td>\n",
       "      <td>0</td>\n",
       "      <td>0</td>\n",
       "      <td>0</td>\n",
       "      <td>0</td>\n",
       "      <td>0</td>\n",
       "      <td>0</td>\n",
       "      <td>0</td>\n",
       "      <td>0</td>\n",
       "      <td>1</td>\n",
       "    </tr>\n",
       "    <tr>\n",
       "      <th>5</th>\n",
       "      <td>Волосовский</td>\n",
       "      <td>Село</td>\n",
       "      <td>55</td>\n",
       "      <td>0</td>\n",
       "      <td>ЗДРАВООХРАНЕ</td>\n",
       "      <td>30500</td>\n",
       "      <td>1</td>\n",
       "      <td>1</td>\n",
       "      <td>1</td>\n",
       "      <td>0</td>\n",
       "      <td>...</td>\n",
       "      <td>1</td>\n",
       "      <td>0</td>\n",
       "      <td>0</td>\n",
       "      <td>0</td>\n",
       "      <td>0</td>\n",
       "      <td>0</td>\n",
       "      <td>0</td>\n",
       "      <td>0</td>\n",
       "      <td>1</td>\n",
       "      <td>0</td>\n",
       "    </tr>\n",
       "  </tbody>\n",
       "</table>\n",
       "<p>5 rows × 86 columns</p>\n",
       "</div>"
      ],
      "text/plain": [
       "               psu status  age  male      industry   wage  public  internet  \\\n",
       "idind                                                                         \n",
       "1      Волосовский    ПГТ   60     1  НАУКА, КУЛЬТ   9500       0         1   \n",
       "2      Волосовский   Село   41     0   ОБРАЗОВАНИЕ  48500       1         1   \n",
       "3      Волосовский   Село   54     0  СЕЛЬСКОЕ ХОЗ  36500       0         1   \n",
       "4      Волосовский   Село   48     1  СЕЛЬСКОЕ ХОЗ  20500       0         0   \n",
       "5      Волосовский   Село   55     0  ЗДРАВООХРАНЕ  30500       1         1   \n",
       "\n",
       "       children  urban  ...  id66  id67  id68  id69  id70  id71  id72  id73  \\\n",
       "idind                   ...                                                   \n",
       "1             2      1  ...     0     0     0     0     0     0     0     0   \n",
       "2             1      0  ...     1     0     0     0     1     0     0     0   \n",
       "3             3      0  ...     0     0     0     0     0     0     0     0   \n",
       "4             1      0  ...     0     0     0     0     0     0     0     0   \n",
       "5             1      0  ...     1     0     0     0     0     0     0     0   \n",
       "\n",
       "       id74  id75  \n",
       "idind              \n",
       "1         1     0  \n",
       "2         1     0  \n",
       "3         0     1  \n",
       "4         0     1  \n",
       "5         1     0  \n",
       "\n",
       "[5 rows x 86 columns]"
      ]
     },
     "execution_count": 4,
     "metadata": {},
     "output_type": "execute_result"
    }
   ],
   "source": [
    "df.head()"
   ]
  },
  {
   "cell_type": "markdown",
   "id": "5cf41c09",
   "metadata": {},
   "source": [
    "Удалим ненужные айди дамми-переменные после отбора собственного варианта (8)"
   ]
  },
  {
   "cell_type": "code",
   "execution_count": 5,
   "id": "6c1f4d2d",
   "metadata": {},
   "outputs": [],
   "source": [
    "cols_to_drop = [x for x in df.columns if 'id' in x]"
   ]
  },
  {
   "cell_type": "code",
   "execution_count": 6,
   "id": "de78fca1",
   "metadata": {},
   "outputs": [],
   "source": [
    "df = df[df['id8'] == 1].drop(cols_to_drop, axis=1)"
   ]
  },
  {
   "cell_type": "code",
   "execution_count": 7,
   "id": "7c97a290",
   "metadata": {},
   "outputs": [
    {
     "data": {
      "text/html": [
       "<div>\n",
       "<style scoped>\n",
       "    .dataframe tbody tr th:only-of-type {\n",
       "        vertical-align: middle;\n",
       "    }\n",
       "\n",
       "    .dataframe tbody tr th {\n",
       "        vertical-align: top;\n",
       "    }\n",
       "\n",
       "    .dataframe thead th {\n",
       "        text-align: right;\n",
       "    }\n",
       "</style>\n",
       "<table border=\"1\" class=\"dataframe\">\n",
       "  <thead>\n",
       "    <tr style=\"text-align: right;\">\n",
       "      <th></th>\n",
       "      <th>psu</th>\n",
       "      <th>status</th>\n",
       "      <th>age</th>\n",
       "      <th>male</th>\n",
       "      <th>industry</th>\n",
       "      <th>wage</th>\n",
       "      <th>public</th>\n",
       "      <th>internet</th>\n",
       "      <th>children</th>\n",
       "      <th>urban</th>\n",
       "      <th>educ</th>\n",
       "    </tr>\n",
       "    <tr>\n",
       "      <th>idind</th>\n",
       "      <th></th>\n",
       "      <th></th>\n",
       "      <th></th>\n",
       "      <th></th>\n",
       "      <th></th>\n",
       "      <th></th>\n",
       "      <th></th>\n",
       "      <th></th>\n",
       "      <th></th>\n",
       "      <th></th>\n",
       "      <th></th>\n",
       "    </tr>\n",
       "  </thead>\n",
       "  <tbody>\n",
       "    <tr>\n",
       "      <th>163</th>\n",
       "      <td>Ржев и Ржевс</td>\n",
       "      <td>Город</td>\n",
       "      <td>30</td>\n",
       "      <td>1</td>\n",
       "      <td>ТОРГОВЛЯ, БЫ</td>\n",
       "      <td>30500</td>\n",
       "      <td>0</td>\n",
       "      <td>1</td>\n",
       "      <td>1</td>\n",
       "      <td>1</td>\n",
       "      <td>0</td>\n",
       "    </tr>\n",
       "    <tr>\n",
       "      <th>164</th>\n",
       "      <td>Ржев и Ржевс</td>\n",
       "      <td>Город</td>\n",
       "      <td>57</td>\n",
       "      <td>1</td>\n",
       "      <td>ВОЕННО-ПРОМЫ</td>\n",
       "      <td>30500</td>\n",
       "      <td>0</td>\n",
       "      <td>1</td>\n",
       "      <td>2</td>\n",
       "      <td>1</td>\n",
       "      <td>1</td>\n",
       "    </tr>\n",
       "    <tr>\n",
       "      <th>165</th>\n",
       "      <td>Ржев и Ржевс</td>\n",
       "      <td>Город</td>\n",
       "      <td>46</td>\n",
       "      <td>1</td>\n",
       "      <td>АРМИЯ, МВД,</td>\n",
       "      <td>53500</td>\n",
       "      <td>1</td>\n",
       "      <td>1</td>\n",
       "      <td>1</td>\n",
       "      <td>1</td>\n",
       "      <td>1</td>\n",
       "    </tr>\n",
       "    <tr>\n",
       "      <th>166</th>\n",
       "      <td>Ржев и Ржевс</td>\n",
       "      <td>Город</td>\n",
       "      <td>34</td>\n",
       "      <td>1</td>\n",
       "      <td>ЭНЕРГЕТИЧЕСК</td>\n",
       "      <td>14500</td>\n",
       "      <td>0</td>\n",
       "      <td>1</td>\n",
       "      <td>2</td>\n",
       "      <td>1</td>\n",
       "      <td>2</td>\n",
       "    </tr>\n",
       "    <tr>\n",
       "      <th>167</th>\n",
       "      <td>Ржев и Ржевс</td>\n",
       "      <td>Город</td>\n",
       "      <td>28</td>\n",
       "      <td>0</td>\n",
       "      <td>ТРАНСПОРТ, С</td>\n",
       "      <td>550</td>\n",
       "      <td>1</td>\n",
       "      <td>1</td>\n",
       "      <td>2</td>\n",
       "      <td>1</td>\n",
       "      <td>1</td>\n",
       "    </tr>\n",
       "  </tbody>\n",
       "</table>\n",
       "</div>"
      ],
      "text/plain": [
       "                psu status  age  male      industry   wage  public  internet  \\\n",
       "idind                                                                          \n",
       "163    Ржев и Ржевс  Город   30     1  ТОРГОВЛЯ, БЫ  30500       0         1   \n",
       "164    Ржев и Ржевс  Город   57     1  ВОЕННО-ПРОМЫ  30500       0         1   \n",
       "165    Ржев и Ржевс  Город   46     1   АРМИЯ, МВД,  53500       1         1   \n",
       "166    Ржев и Ржевс  Город   34     1  ЭНЕРГЕТИЧЕСК  14500       0         1   \n",
       "167    Ржев и Ржевс  Город   28     0  ТРАНСПОРТ, С    550       1         1   \n",
       "\n",
       "       children  urban  educ  \n",
       "idind                         \n",
       "163           1      1     0  \n",
       "164           2      1     1  \n",
       "165           1      1     1  \n",
       "166           2      1     2  \n",
       "167           2      1     1  "
      ]
     },
     "execution_count": 7,
     "metadata": {},
     "output_type": "execute_result"
    }
   ],
   "source": [
    "df.head()"
   ]
  },
  {
   "cell_type": "markdown",
   "id": "aea38d5a",
   "metadata": {},
   "source": [
    "#### Задание 1"
   ]
  },
  {
   "cell_type": "markdown",
   "id": "8a01919f",
   "metadata": {},
   "source": [
    "Генеральная совокупность: работающие жители тверской области\n",
    "\n",
    "Репрезентативность выборки можно проерить посмотрев на распределение признаков в выборке, они должны быть гладкими +- похожими на нормальное, бинарные признаки должные быть +- 50/50 чтобы охватить все возможные варианты"
   ]
  },
  {
   "cell_type": "markdown",
   "id": "c714eb30",
   "metadata": {},
   "source": [
    "#### Задание 2"
   ]
  },
  {
   "cell_type": "code",
   "execution_count": 8,
   "id": "d2bcf747",
   "metadata": {},
   "outputs": [
    {
     "data": {
      "text/html": [
       "<div>\n",
       "<style scoped>\n",
       "    .dataframe tbody tr th:only-of-type {\n",
       "        vertical-align: middle;\n",
       "    }\n",
       "\n",
       "    .dataframe tbody tr th {\n",
       "        vertical-align: top;\n",
       "    }\n",
       "\n",
       "    .dataframe thead th {\n",
       "        text-align: right;\n",
       "    }\n",
       "</style>\n",
       "<table border=\"1\" class=\"dataframe\">\n",
       "  <thead>\n",
       "    <tr style=\"text-align: right;\">\n",
       "      <th></th>\n",
       "      <th>age</th>\n",
       "      <th>male</th>\n",
       "      <th>wage</th>\n",
       "      <th>public</th>\n",
       "      <th>internet</th>\n",
       "      <th>children</th>\n",
       "      <th>urban</th>\n",
       "      <th>educ</th>\n",
       "    </tr>\n",
       "  </thead>\n",
       "  <tbody>\n",
       "    <tr>\n",
       "      <th>max</th>\n",
       "      <td>60.000000</td>\n",
       "      <td>1.000000</td>\n",
       "      <td>80500.000000</td>\n",
       "      <td>1.000000</td>\n",
       "      <td>1.000000</td>\n",
       "      <td>3.000000</td>\n",
       "      <td>1.000000</td>\n",
       "      <td>3.000000</td>\n",
       "    </tr>\n",
       "    <tr>\n",
       "      <th>min</th>\n",
       "      <td>22.000000</td>\n",
       "      <td>0.000000</td>\n",
       "      <td>550.000000</td>\n",
       "      <td>0.000000</td>\n",
       "      <td>0.000000</td>\n",
       "      <td>0.000000</td>\n",
       "      <td>0.000000</td>\n",
       "      <td>0.000000</td>\n",
       "    </tr>\n",
       "    <tr>\n",
       "      <th>mean</th>\n",
       "      <td>40.894737</td>\n",
       "      <td>0.473684</td>\n",
       "      <td>24387.500000</td>\n",
       "      <td>0.460526</td>\n",
       "      <td>0.881579</td>\n",
       "      <td>1.223684</td>\n",
       "      <td>0.789474</td>\n",
       "      <td>1.710526</td>\n",
       "    </tr>\n",
       "    <tr>\n",
       "      <th>std</th>\n",
       "      <td>9.848965</td>\n",
       "      <td>0.502625</td>\n",
       "      <td>14276.517141</td>\n",
       "      <td>0.501751</td>\n",
       "      <td>0.325253</td>\n",
       "      <td>0.888425</td>\n",
       "      <td>0.410391</td>\n",
       "      <td>1.080935</td>\n",
       "    </tr>\n",
       "    <tr>\n",
       "      <th>range</th>\n",
       "      <td>38.000000</td>\n",
       "      <td>1.000000</td>\n",
       "      <td>79950.000000</td>\n",
       "      <td>1.000000</td>\n",
       "      <td>1.000000</td>\n",
       "      <td>3.000000</td>\n",
       "      <td>1.000000</td>\n",
       "      <td>3.000000</td>\n",
       "    </tr>\n",
       "  </tbody>\n",
       "</table>\n",
       "</div>"
      ],
      "text/plain": [
       "             age      male          wage    public  internet  children  \\\n",
       "max    60.000000  1.000000  80500.000000  1.000000  1.000000  3.000000   \n",
       "min    22.000000  0.000000    550.000000  0.000000  0.000000  0.000000   \n",
       "mean   40.894737  0.473684  24387.500000  0.460526  0.881579  1.223684   \n",
       "std     9.848965  0.502625  14276.517141  0.501751  0.325253  0.888425   \n",
       "range  38.000000  1.000000  79950.000000  1.000000  1.000000  3.000000   \n",
       "\n",
       "          urban      educ  \n",
       "max    1.000000  3.000000  \n",
       "min    0.000000  0.000000  \n",
       "mean   0.789474  1.710526  \n",
       "std    0.410391  1.080935  \n",
       "range  1.000000  3.000000  "
      ]
     },
     "execution_count": 8,
     "metadata": {},
     "output_type": "execute_result"
    }
   ],
   "source": [
    "stat = df.select_dtypes(include=['int', 'float']).agg(['max', 'min', 'mean', 'std'])\n",
    "stat.loc['range'] = stat.loc['max'] - stat.loc['min']\n",
    "stat.head()"
   ]
  },
  {
   "cell_type": "markdown",
   "id": "e17fdc31",
   "metadata": {},
   "source": [
    "#### Задание 3"
   ]
  },
  {
   "cell_type": "code",
   "execution_count": 9,
   "id": "3fe4a713",
   "metadata": {},
   "outputs": [
    {
     "data": {
      "text/html": [
       "<div>\n",
       "<style scoped>\n",
       "    .dataframe tbody tr th:only-of-type {\n",
       "        vertical-align: middle;\n",
       "    }\n",
       "\n",
       "    .dataframe tbody tr th {\n",
       "        vertical-align: top;\n",
       "    }\n",
       "\n",
       "    .dataframe thead th {\n",
       "        text-align: right;\n",
       "    }\n",
       "</style>\n",
       "<table border=\"1\" class=\"dataframe\">\n",
       "  <thead>\n",
       "    <tr style=\"text-align: right;\">\n",
       "      <th></th>\n",
       "      <th>psu</th>\n",
       "      <th>status</th>\n",
       "      <th>age</th>\n",
       "      <th>male</th>\n",
       "      <th>industry</th>\n",
       "      <th>wage</th>\n",
       "      <th>public</th>\n",
       "      <th>internet</th>\n",
       "      <th>children</th>\n",
       "      <th>urban</th>\n",
       "      <th>educ</th>\n",
       "    </tr>\n",
       "    <tr>\n",
       "      <th>idind</th>\n",
       "      <th></th>\n",
       "      <th></th>\n",
       "      <th></th>\n",
       "      <th></th>\n",
       "      <th></th>\n",
       "      <th></th>\n",
       "      <th></th>\n",
       "      <th></th>\n",
       "      <th></th>\n",
       "      <th></th>\n",
       "      <th></th>\n",
       "    </tr>\n",
       "  </thead>\n",
       "  <tbody>\n",
       "    <tr>\n",
       "      <th>163</th>\n",
       "      <td>Ржев и Ржевс</td>\n",
       "      <td>Город</td>\n",
       "      <td>30</td>\n",
       "      <td>1</td>\n",
       "      <td>ТОРГОВЛЯ, БЫ</td>\n",
       "      <td>30500</td>\n",
       "      <td>0</td>\n",
       "      <td>1</td>\n",
       "      <td>1</td>\n",
       "      <td>1</td>\n",
       "      <td>0</td>\n",
       "    </tr>\n",
       "    <tr>\n",
       "      <th>164</th>\n",
       "      <td>Ржев и Ржевс</td>\n",
       "      <td>Город</td>\n",
       "      <td>57</td>\n",
       "      <td>1</td>\n",
       "      <td>ВОЕННО-ПРОМЫ</td>\n",
       "      <td>30500</td>\n",
       "      <td>0</td>\n",
       "      <td>1</td>\n",
       "      <td>2</td>\n",
       "      <td>1</td>\n",
       "      <td>1</td>\n",
       "    </tr>\n",
       "    <tr>\n",
       "      <th>165</th>\n",
       "      <td>Ржев и Ржевс</td>\n",
       "      <td>Город</td>\n",
       "      <td>46</td>\n",
       "      <td>1</td>\n",
       "      <td>АРМИЯ, МВД,</td>\n",
       "      <td>53500</td>\n",
       "      <td>1</td>\n",
       "      <td>1</td>\n",
       "      <td>1</td>\n",
       "      <td>1</td>\n",
       "      <td>1</td>\n",
       "    </tr>\n",
       "    <tr>\n",
       "      <th>166</th>\n",
       "      <td>Ржев и Ржевс</td>\n",
       "      <td>Город</td>\n",
       "      <td>34</td>\n",
       "      <td>1</td>\n",
       "      <td>ЭНЕРГЕТИЧЕСК</td>\n",
       "      <td>14500</td>\n",
       "      <td>0</td>\n",
       "      <td>1</td>\n",
       "      <td>2</td>\n",
       "      <td>1</td>\n",
       "      <td>2</td>\n",
       "    </tr>\n",
       "    <tr>\n",
       "      <th>167</th>\n",
       "      <td>Ржев и Ржевс</td>\n",
       "      <td>Город</td>\n",
       "      <td>28</td>\n",
       "      <td>0</td>\n",
       "      <td>ТРАНСПОРТ, С</td>\n",
       "      <td>550</td>\n",
       "      <td>1</td>\n",
       "      <td>1</td>\n",
       "      <td>2</td>\n",
       "      <td>1</td>\n",
       "      <td>1</td>\n",
       "    </tr>\n",
       "  </tbody>\n",
       "</table>\n",
       "</div>"
      ],
      "text/plain": [
       "                psu status  age  male      industry   wage  public  internet  \\\n",
       "idind                                                                          \n",
       "163    Ржев и Ржевс  Город   30     1  ТОРГОВЛЯ, БЫ  30500       0         1   \n",
       "164    Ржев и Ржевс  Город   57     1  ВОЕННО-ПРОМЫ  30500       0         1   \n",
       "165    Ржев и Ржевс  Город   46     1   АРМИЯ, МВД,  53500       1         1   \n",
       "166    Ржев и Ржевс  Город   34     1  ЭНЕРГЕТИЧЕСК  14500       0         1   \n",
       "167    Ржев и Ржевс  Город   28     0  ТРАНСПОРТ, С    550       1         1   \n",
       "\n",
       "       children  urban  educ  \n",
       "idind                         \n",
       "163           1      1     0  \n",
       "164           2      1     1  \n",
       "165           1      1     1  \n",
       "166           2      1     2  \n",
       "167           2      1     1  "
      ]
     },
     "execution_count": 9,
     "metadata": {},
     "output_type": "execute_result"
    }
   ],
   "source": [
    "df.head()"
   ]
  },
  {
   "cell_type": "markdown",
   "id": "95527511",
   "metadata": {},
   "source": [
    "Я бы считал непрерывной переменной зарплату и возраст, потому что остальные либо бинарные и флаги (male, internet, urban), либо счетчики (childen, educ). Но по хорошему, возраст пресдтавленный в виде целого числа не очень хорошо чистать непрерывной переменной."
   ]
  },
  {
   "cell_type": "code",
   "execution_count": 10,
   "id": "e59724cc",
   "metadata": {},
   "outputs": [],
   "source": [
    "continious = ['age', 'wage']"
   ]
  },
  {
   "cell_type": "code",
   "execution_count": 11,
   "id": "b9d42e06",
   "metadata": {},
   "outputs": [
    {
     "name": "stdout",
     "output_type": "stream",
     "text": [
      "---age---\n",
      "25% quantile: 35.0\n",
      "\n",
      "50% quantile: 41.0\n",
      "\n",
      "75% quantile: 48.5\n",
      "\n",
      "IQR: 13.5\n",
      "================\n",
      "---wage---\n",
      "25% quantile: 15500.0\n",
      "\n",
      "50% quantile: 20500.0\n",
      "\n",
      "75% quantile: 30500.0\n",
      "\n",
      "IQR: 15000.0\n",
      "================\n"
     ]
    }
   ],
   "source": [
    "for col in continious:\n",
    "    print(f'---{col}---')\n",
    "    print(\"\"\"25% quantile: {}\\n\n",
    "50% quantile: {}\\n\n",
    "75% quantile: {}\\n\n",
    "IQR: {}\"\"\".format(df[col].quantile(0.25),\n",
    "                               df[col].quantile(0.5),\n",
    "                               df[col].quantile(0.75),\n",
    "                               df[col].quantile(0.75) - df[col].quantile(0.25)))\n",
    "    print('================')"
   ]
  },
  {
   "cell_type": "markdown",
   "id": "bcfe73c6",
   "metadata": {},
   "source": [
    "#### Задание 4"
   ]
  },
  {
   "cell_type": "code",
   "execution_count": 12,
   "id": "49e9dedb",
   "metadata": {},
   "outputs": [
    {
     "name": "stdout",
     "output_type": "stream",
     "text": [
      "---age---\n",
      "mode: [35]\n",
      "\n",
      "mean: 40.89473684210526\n",
      "\n",
      "median: 41.0\n",
      "================\n",
      "---wage---\n",
      "mode: [25500]\n",
      "\n",
      "mean: 24387.5\n",
      "\n",
      "median: 20500.0\n",
      "================\n"
     ]
    }
   ],
   "source": [
    "for col in continious:\n",
    "    print(f'---{col}---')\n",
    "    print(\"\"\"mode: {}\\n\n",
    "mean: {}\\n\n",
    "median: {}\"\"\".format(st.mode(df[col]).mode,\n",
    "                               np.mean(df[col]),\n",
    "                               np.median(df[col])))\n",
    "    print('================')"
   ]
  },
  {
   "cell_type": "markdown",
   "id": "86cc8eda",
   "metadata": {},
   "source": [
    "* В возрастном признке вышло, что медиана и среднее почти совпали, мода оказалось чуть меньше этих значений\n",
    "* В зп среднее оказалось больше моды и медианы, среднее почти равно моде. Медиана оказалась значительно меньше"
   ]
  },
  {
   "cell_type": "markdown",
   "id": "a2a06e05",
   "metadata": {},
   "source": [
    "#### Задание 5"
   ]
  },
  {
   "cell_type": "code",
   "execution_count": 13,
   "id": "063d1a3a",
   "metadata": {},
   "outputs": [
    {
     "data": {
      "image/png": "[encoded data removed]",
      "text/plain": [
       "<Figure size 1152x432 with 2 Axes>"
      ]
     },
     "metadata": {},
     "output_type": "display_data"
    }
   ],
   "source": [
    "fig, ax = plt.subplots(1, 2, figsize=(16,6))\n",
    "\n",
    "sns.boxplot(data=df, y='wage', ax=ax[0])\n",
    "sns.boxplot(data=df, y='age', ax=ax[1]);"
   ]
  },
  {
   "cell_type": "markdown",
   "id": "774ce39d",
   "metadata": {},
   "source": [
    "Есть выбросы по зарплате, ого))) Послучаешь больше 50к ты уже выброс..."
   ]
  },
  {
   "cell_type": "markdown",
   "id": "d958c5ad",
   "metadata": {},
   "source": [
    "#### Задание 6"
   ]
  },
  {
   "cell_type": "code",
   "execution_count": 47,
   "id": "f74af204",
   "metadata": {},
   "outputs": [
    {
     "data": {
      "image/png": "[encoded data removed]",
      "text/plain": [
       "<Figure size 1152x432 with 2 Axes>"
      ]
     },
     "metadata": {},
     "output_type": "display_data"
    }
   ],
   "source": [
    "fig, ax = plt.subplots(1, 2, figsize=(16,6))\n",
    "\n",
    "sns.histplot(data=df, x='wage', ax=ax[0], kde=True, bins=25)\n",
    "ax[0].set_title('Wage hist')\n",
    "sns.histplot(data=df, x='age', ax=ax[1], kde=True, bins=25)\n",
    "ax[1].set_title('Age hist');"
   ]
  },
  {
   "cell_type": "markdown",
   "id": "310097d6",
   "metadata": {},
   "source": [
    "Посчитаем метрики ассиметрии и эксцесса"
   ]
  },
  {
   "cell_type": "markdown",
   "id": "f741a1be",
   "metadata": {},
   "source": [
    "**Для wage**"
   ]
  },
  {
   "cell_type": "code",
   "execution_count": 15,
   "id": "be830f0b",
   "metadata": {},
   "outputs": [
    {
     "name": "stdout",
     "output_type": "stream",
     "text": [
      "Ассиметрия для Wage: 1.447570737444407\n",
      "Эксцесс для Wage: 2.7272560702669004\n"
     ]
    }
   ],
   "source": [
    "print(f\"Ассиметрия для Wage: {st.skew(df['wage'])}\")\n",
    "print(f\"Эксцесс для Wage: {st.kurtosis(df['wage'])}\")"
   ]
  },
  {
   "cell_type": "markdown",
   "id": "310d7016",
   "metadata": {},
   "source": [
    "*Выводы*:\n",
    "* График смещен влево\n",
    "* Распределение вышло достаточно остроконечным"
   ]
  },
  {
   "cell_type": "markdown",
   "id": "108a8bac",
   "metadata": {},
   "source": [
    "**Для Age**"
   ]
  },
  {
   "cell_type": "code",
   "execution_count": 16,
   "id": "e0903406",
   "metadata": {},
   "outputs": [
    {
     "name": "stdout",
     "output_type": "stream",
     "text": [
      "Ассиметрия для age: -0.04176033871808307\n",
      "Эксцесс для age: -0.8180972991592355\n"
     ]
    }
   ],
   "source": [
    "print(f\"Ассиметрия для age: {st.skew(df['age'])}\")\n",
    "print(f\"Эксцесс для age: {st.kurtosis(df['age'])}\")"
   ]
  },
  {
   "cell_type": "markdown",
   "id": "047c3d72",
   "metadata": {},
   "source": [
    "*Выводы*:\n",
    "* График смещен немного вправо\n",
    "* Распределение вышло плоским (более пологое чем нормальное)"
   ]
  },
  {
   "cell_type": "markdown",
   "id": "f0212282",
   "metadata": {},
   "source": [
    "#### Задание 7"
   ]
  },
  {
   "cell_type": "code",
   "execution_count": 52,
   "id": "f3bcf190",
   "metadata": {},
   "outputs": [
    {
     "data": {
      "image/png": "[encoded data removed]",
      "text/plain": [
       "<Figure size 1152x432 with 1 Axes>"
      ]
     },
     "metadata": {},
     "output_type": "display_data"
    }
   ],
   "source": [
    "fig, ax = plt.subplots(1, 1, figsize=(16,6))\n",
    "\n",
    "sns.histplot(data=df, x='educ', kde=True);"
   ]
  },
  {
   "cell_type": "markdown",
   "id": "ad9c59fb",
   "metadata": {},
   "source": [
    "Можно сказать что почти равномерно, только меньше людей с финальным среднем образованием чем остальных, что собственно логично"
   ]
  },
  {
   "cell_type": "markdown",
   "id": "46986a43",
   "metadata": {},
   "source": [
    "#### Задание 8"
   ]
  },
  {
   "cell_type": "code",
   "execution_count": 18,
   "id": "b072ca8b",
   "metadata": {},
   "outputs": [
    {
     "data": {
      "image/png": "[encoded data removed]",
      "text/plain": [
       "<Figure size 864x432 with 2 Axes>"
      ]
     },
     "metadata": {},
     "output_type": "display_data"
    }
   ],
   "source": [
    "plt.figure(figsize=(12, 6))\n",
    "\n",
    "corr = df.corr()\n",
    "sns.heatmap(corr,\n",
    "            xticklabels=corr.columns, yticklabels=corr.columns, \n",
    "            cmap='rocket', annot=True, fmt='.2g')\n",
    "plt.show()"
   ]
  },
  {
   "cell_type": "markdown",
   "id": "ed6561cc",
   "metadata": {},
   "source": [
    "* Как можно заметить, что зарплата сильнее всего отрицательно зависит от количества детей. Видимо чем больше детей, тем сложнее стать квалифицированным высокооплачиевым работником, так как нужно ухаживать за детьми.\n",
    "* И также можно заметить, что уровень образования не влияет на зп. Ценятся скиллы а не корочка \n",
    "* Уровень обращования положительно зависит от типа послека. В городе выше образование\n",
    "* Мужчины получают более высокую зп (ура гендерные стереотипы) "
   ]
  },
  {
   "cell_type": "markdown",
   "id": "cf2bdc54",
   "metadata": {},
   "source": [
    "#### Задание 9"
   ]
  },
  {
   "cell_type": "markdown",
   "id": "dee0c83d",
   "metadata": {},
   "source": [
    "Посмотрим, как зп зависит от количества детей, возраста и уровня образования в разрезе по полу"
   ]
  },
  {
   "cell_type": "code",
   "execution_count": 19,
   "id": "1ed34df8",
   "metadata": {},
   "outputs": [
    {
     "data": {
      "image/png": "[encoded data removed]",
      "text/plain": [
       "<Figure size 1152x432 with 3 Axes>"
      ]
     },
     "metadata": {},
     "output_type": "display_data"
    }
   ],
   "source": [
    "fig, ax = plt.subplots(1, 3, figsize=(16, 6))\n",
    "\n",
    "sns.scatterplot(data=df, x='wage', y='educ', ax=ax[0], hue='male')\n",
    "sns.scatterplot(data=df, x='wage', y='age', ax=ax[1], hue='male')\n",
    "sns.scatterplot(data=df, x='wage', y='children', ax=ax[2], hue='male');"
   ]
  },
  {
   "cell_type": "markdown",
   "id": "ee1e16a3",
   "metadata": {},
   "source": [
    "* Видно, что между уровнем образования и за почти никакой связи нет, либо она почти незаметна\n",
    "* Возраст положительно влияет на зп\n",
    "* А количество детей, сокращает размер за для обоих полов"
   ]
  },
  {
   "cell_type": "markdown",
   "id": "ed9abdba",
   "metadata": {},
   "source": [
    "#### Задание 10"
   ]
  },
  {
   "cell_type": "code",
   "execution_count": 85,
   "id": "54db1a78",
   "metadata": {},
   "outputs": [],
   "source": [
    "df['high'] = df['educ'].apply(lambda x: 0 if x != 3 else 1)"
   ]
  },
  {
   "cell_type": "code",
   "execution_count": 86,
   "id": "0dce7fa1",
   "metadata": {},
   "outputs": [],
   "source": [
    "import statsmodels.formula.api as lr"
   ]
  },
  {
   "cell_type": "code",
   "execution_count": 96,
   "id": "fe6c78eb",
   "metadata": {},
   "outputs": [
    {
     "data": {
      "text/html": [
       "<table class=\"simpletable\">\n",
       "<caption>OLS Regression Results</caption>\n",
       "<tr>\n",
       "  <th>Dep. Variable:</th>          <td>wage</td>       <th>  R-squared:         </th> <td>   0.179</td>\n",
       "</tr>\n",
       "<tr>\n",
       "  <th>Model:</th>                   <td>OLS</td>       <th>  Adj. R-squared:    </th> <td>   0.120</td>\n",
       "</tr>\n",
       "<tr>\n",
       "  <th>Method:</th>             <td>Least Squares</td>  <th>  F-statistic:       </th> <td>   3.047</td>\n",
       "</tr>\n",
       "<tr>\n",
       "  <th>Date:</th>             <td>Tue, 25 Oct 2022</td> <th>  Prob (F-statistic):</th>  <td>0.0152</td> \n",
       "</tr>\n",
       "<tr>\n",
       "  <th>Time:</th>                 <td>20:56:07</td>     <th>  Log-Likelihood:    </th> <td> -826.90</td>\n",
       "</tr>\n",
       "<tr>\n",
       "  <th>No. Observations:</th>      <td>    76</td>      <th>  AIC:               </th> <td>   1666.</td>\n",
       "</tr>\n",
       "<tr>\n",
       "  <th>Df Residuals:</th>          <td>    70</td>      <th>  BIC:               </th> <td>   1680.</td>\n",
       "</tr>\n",
       "<tr>\n",
       "  <th>Df Model:</th>              <td>     5</td>      <th>                     </th>     <td> </td>   \n",
       "</tr>\n",
       "<tr>\n",
       "  <th>Covariance Type:</th>      <td>nonrobust</td>    <th>                     </th>     <td> </td>   \n",
       "</tr>\n",
       "</table>\n",
       "<table class=\"simpletable\">\n",
       "<tr>\n",
       "      <td></td>         <th>coef</th>     <th>std err</th>      <th>t</th>      <th>P>|t|</th>  <th>[0.025</th>    <th>0.975]</th>  \n",
       "</tr>\n",
       "<tr>\n",
       "  <th>Intercept</th> <td> 1.124e+04</td> <td> 7585.899</td> <td>    1.481</td> <td> 0.143</td> <td>-3892.192</td> <td> 2.64e+04</td>\n",
       "</tr>\n",
       "<tr>\n",
       "  <th>age</th>       <td>  166.6659</td> <td>  161.319</td> <td>    1.033</td> <td> 0.305</td> <td> -155.074</td> <td>  488.406</td>\n",
       "</tr>\n",
       "<tr>\n",
       "  <th>high</th>      <td> 1398.1497</td> <td> 3385.128</td> <td>    0.413</td> <td> 0.681</td> <td>-5353.275</td> <td> 8149.574</td>\n",
       "</tr>\n",
       "<tr>\n",
       "  <th>male</th>      <td>  1.05e+04</td> <td> 3154.606</td> <td>    3.327</td> <td> 0.001</td> <td> 4203.739</td> <td> 1.68e+04</td>\n",
       "</tr>\n",
       "<tr>\n",
       "  <th>children</th>  <td>-1846.0447</td> <td> 1853.701</td> <td>   -0.996</td> <td> 0.323</td> <td>-5543.136</td> <td> 1851.046</td>\n",
       "</tr>\n",
       "<tr>\n",
       "  <th>urban</th>     <td> 4028.3575</td> <td> 3952.295</td> <td>    1.019</td> <td> 0.312</td> <td>-3854.246</td> <td> 1.19e+04</td>\n",
       "</tr>\n",
       "</table>\n",
       "<table class=\"simpletable\">\n",
       "<tr>\n",
       "  <th>Omnibus:</th>       <td>44.579</td> <th>  Durbin-Watson:     </th> <td>   1.811</td>\n",
       "</tr>\n",
       "<tr>\n",
       "  <th>Prob(Omnibus):</th> <td> 0.000</td> <th>  Jarque-Bera (JB):  </th> <td> 153.290</td>\n",
       "</tr>\n",
       "<tr>\n",
       "  <th>Skew:</th>          <td> 1.829</td> <th>  Prob(JB):          </th> <td>5.17e-34</td>\n",
       "</tr>\n",
       "<tr>\n",
       "  <th>Kurtosis:</th>      <td> 8.918</td> <th>  Cond. No.          </th> <td>    215.</td>\n",
       "</tr>\n",
       "</table><br/><br/>Notes:<br/>[1] Standard Errors assume that the covariance matrix of the errors is correctly specified."
      ],
      "text/plain": [
       "<class 'statsmodels.iolib.summary.Summary'>\n",
       "\"\"\"\n",
       "                            OLS Regression Results                            \n",
       "==============================================================================\n",
       "Dep. Variable:                   wage   R-squared:                       0.179\n",
       "Model:                            OLS   Adj. R-squared:                  0.120\n",
       "Method:                 Least Squares   F-statistic:                     3.047\n",
       "Date:                Tue, 25 Oct 2022   Prob (F-statistic):             0.0152\n",
       "Time:                        20:56:07   Log-Likelihood:                -826.90\n",
       "No. Observations:                  76   AIC:                             1666.\n",
       "Df Residuals:                      70   BIC:                             1680.\n",
       "Df Model:                           5                                         \n",
       "Covariance Type:            nonrobust                                         \n",
       "==============================================================================\n",
       "                 coef    std err          t      P>|t|      [0.025      0.975]\n",
       "------------------------------------------------------------------------------\n",
       "Intercept   1.124e+04   7585.899      1.481      0.143   -3892.192    2.64e+04\n",
       "age          166.6659    161.319      1.033      0.305    -155.074     488.406\n",
       "high        1398.1497   3385.128      0.413      0.681   -5353.275    8149.574\n",
       "male         1.05e+04   3154.606      3.327      0.001    4203.739    1.68e+04\n",
       "children   -1846.0447   1853.701     -0.996      0.323   -5543.136    1851.046\n",
       "urban       4028.3575   3952.295      1.019      0.312   -3854.246    1.19e+04\n",
       "==============================================================================\n",
       "Omnibus:                       44.579   Durbin-Watson:                   1.811\n",
       "Prob(Omnibus):                  0.000   Jarque-Bera (JB):              153.290\n",
       "Skew:                           1.829   Prob(JB):                     5.17e-34\n",
       "Kurtosis:                       8.918   Cond. No.                         215.\n",
       "==============================================================================\n",
       "\n",
       "Notes:\n",
       "[1] Standard Errors assume that the covariance matrix of the errors is correctly specified.\n",
       "\"\"\""
      ]
     },
     "execution_count": 96,
     "metadata": {},
     "output_type": "execute_result"
    }
   ],
   "source": [
    "lin_reg = lr.ols('wage ~ age + high + male + children + urban', data=df).fit()\n",
    "lin_reg.summary()"
   ]
  },
  {
   "cell_type": "markdown",
   "id": "68043dfb",
   "metadata": {},
   "source": [
    "Модель имеет вид:"
   ]
  },
  {
   "cell_type": "markdown",
   "id": "fea539cf",
   "metadata": {},
   "source": [
    "$$\n",
    "\\begin{aligned}\n",
    "\\hat{wage} = \\hat{\\beta_0} + \\hat{\\beta_1} age + \\hat{\\beta_2}  high + \\hat{\\beta_3} male + \\hat{\\beta_4}  children + \\hat{\\beta_5}  urban\n",
    "\\end{aligned}\n",
    "$$"
   ]
  },
  {
   "cell_type": "markdown",
   "id": "e94c73dd",
   "metadata": {},
   "source": [
    "Результат:\n",
    "* Все переменные кроме пола оказались не супер значимыми (У них p_value больше 0.22 у всех, ну не круто...)"
   ]
  },
  {
   "cell_type": "markdown",
   "id": "08d038bb",
   "metadata": {},
   "source": [
    "Итоговая модель:\n",
    "$$\n",
    "\\begin{aligned}\n",
    "\\hat{wage} = (1.124e+04) + 166.6659*age + \t1398.1497 *high + (1.05e+04)* male -1846.0447* children + 4028.3575\t *urban\n",
    "\\end{aligned}\n",
    "$$"
   ]
  },
  {
   "cell_type": "markdown",
   "id": "5cb0f318",
   "metadata": {},
   "source": [
    "#### Задание 11"
   ]
  },
  {
   "cell_type": "markdown",
   "id": "41b9b934",
   "metadata": {},
   "source": [
    "$$\n",
    "\\begin{aligned}\n",
    "&H_0: \\forall i \\neq 0, \\beta_i = 0 \\\\\n",
    "&H_1: \\exists\\beta_i \\neq 0\n",
    "\\end{aligned}\n",
    "$$"
   ]
  },
  {
   "cell_type": "markdown",
   "id": "d5f17160",
   "metadata": {},
   "source": [
    "считаем p-value модели из предыдущего пункта: 0.0152"
   ]
  },
  {
   "cell_type": "markdown",
   "id": "22c885b1",
   "metadata": {},
   "source": [
    "Заметим, что нулевая гипотеза отвергается на уровне значимости $\\alpha$ = {5%, 10%}, следовательно мы отвергаем $H_0$ и считаем одель адекватной"
   ]
  },
  {
   "cell_type": "markdown",
   "id": "2610733d",
   "metadata": {},
   "source": [
    "При $\\alpha$ = 1% модель не является значимой"
   ]
  },
  {
   "cell_type": "markdown",
   "id": "b03dff49",
   "metadata": {},
   "source": [
    "#### Задание 12"
   ]
  },
  {
   "cell_type": "markdown",
   "id": "4215b9a7",
   "metadata": {},
   "source": [
    "Проверим гипотезу о влиянии наличия высшего образования "
   ]
  },
  {
   "cell_type": "markdown",
   "id": "16b4c0e1",
   "metadata": {},
   "source": [
    "$$\n",
    "\\begin{aligned}\n",
    "&H_0: \\beta_2 = 0 \\\\\n",
    "&H_1: \\beta_2 \\neq 0\n",
    "\\end{aligned}\n",
    "$$"
   ]
  },
  {
   "cell_type": "markdown",
   "id": "56f39ba7",
   "metadata": {},
   "source": [
    "Посчитаем t-статистику по формуле из лекции "
   ]
  },
  {
   "cell_type": "markdown",
   "id": "14d2a3b9",
   "metadata": {},
   "source": [
    "$t = \\frac{\\hat\\beta - \\beta}{\\sigma_\\hat\\beta}$"
   ]
  },
  {
   "cell_type": "code",
   "execution_count": 71,
   "id": "280ec40b",
   "metadata": {},
   "outputs": [],
   "source": [
    "t_obs = 1398.1497/3385.128"
   ]
  },
  {
   "cell_type": "code",
   "execution_count": 72,
   "id": "01fd26ba",
   "metadata": {},
   "outputs": [
    {
     "name": "stdout",
     "output_type": "stream",
     "text": [
      "t_obs = 0.41302712925478735\n"
     ]
    }
   ],
   "source": [
    "print('t_obs = {}'.format(t_obs))"
   ]
  },
  {
   "cell_type": "code",
   "execution_count": 73,
   "id": "af1d73cb",
   "metadata": {},
   "outputs": [
    {
     "name": "stdout",
     "output_type": "stream",
     "text": [
      "t_crit = 2.3778020484027245\n"
     ]
    }
   ],
   "source": [
    "print('t_crit = {}'.format(st.t.ppf(0.99, len(df)-1 -1)))"
   ]
  },
  {
   "cell_type": "code",
   "execution_count": 74,
   "id": "26125ad0",
   "metadata": {},
   "outputs": [
    {
     "name": "stdout",
     "output_type": "stream",
     "text": [
      "p_value = 0.6596094545333941\n"
     ]
    }
   ],
   "source": [
    "print('p_value = {}'.format(st.t.cdf(t_obs, len(df)-1 -1)))"
   ]
  },
  {
   "cell_type": "markdown",
   "id": "aaa164bc",
   "metadata": {},
   "source": [
    "Видно, что нулевая гипотеза не отвергается так как p-value составил 0.65, следовательно мы не ожет отвергать нулевую гипотезу на адекватных уровнях значимости. След-но можно считать $\\beta_2 = 0$"
   ]
  },
  {
   "cell_type": "markdown",
   "id": "9a69c195",
   "metadata": {},
   "source": [
    "#### Задание 13"
   ]
  },
  {
   "cell_type": "markdown",
   "id": "2e4087de",
   "metadata": {},
   "source": [
    "$$\n",
    "\\begin{aligned}\n",
    "&H_0: \\beta_2 = 0, \\beta_4 = 0  \\\\\n",
    "&H_1: \\beta_2 \\neq 0 / \\beta_4 \\neq 0\n",
    "\\end{aligned}\n",
    "$$"
   ]
  },
  {
   "cell_type": "code",
   "execution_count": 81,
   "id": "b07619d0",
   "metadata": {},
   "outputs": [
    {
     "data": {
      "text/plain": [
       "0    52\n",
       "1    24\n",
       "Name: high, dtype: int64"
      ]
     },
     "execution_count": 81,
     "metadata": {},
     "output_type": "execute_result"
    }
   ],
   "source": [
    "df['high'].value_counts()"
   ]
  },
  {
   "cell_type": "code",
   "execution_count": 91,
   "id": "5b6af730",
   "metadata": {},
   "outputs": [
    {
     "name": "stdout",
     "output_type": "stream",
     "text": [
      "<F test: F=0.5437141647469439, p=0.5830197694387123, df_denom=70, df_num=2>\n"
     ]
    }
   ],
   "source": [
    "hypotheses = '(high = 0), (children = 0)'\n",
    "print(lin_reg.f_test(r_matrix=hypotheses))"
   ]
  },
  {
   "cell_type": "markdown",
   "id": "9ce1be33",
   "metadata": {},
   "source": [
    "Как можно заметить, p-value=0.58 => мы не можем отвергнуть нулевую гипотезу"
   ]
  },
  {
   "cell_type": "markdown",
   "id": "d584d1a2",
   "metadata": {},
   "source": [
    "#### Задание 14"
   ]
  },
  {
   "cell_type": "code",
   "execution_count": 92,
   "id": "dc3d044f",
   "metadata": {},
   "outputs": [
    {
     "name": "stderr",
     "output_type": "stream",
     "text": [
      "C:\\Users\\clank\\anaconda3\\lib\\site-packages\\seaborn\\_decorators.py:36: FutureWarning: Pass the following variables as keyword args: x, y. From version 0.12, the only valid positional argument will be `data`, and passing other arguments without an explicit keyword will result in an error or misinterpretation.\n",
      "  warnings.warn(\n"
     ]
    },
    {
     "data": {
      "image/png": "[encoded data removed]",
      "text/plain": [
       "<Figure size 1152x432 with 1 Axes>"
      ]
     },
     "metadata": {},
     "output_type": "display_data"
    }
   ],
   "source": [
    "fig, ax = plt.subplots(1, 1, figsize=(16, 6))\n",
    "predict = lin_reg.fittedvalues\n",
    "error = df['wage'] - predict\n",
    "\n",
    "sns.scatterplot(predict, error)\n",
    "plt.axhline(y=0,\n",
    "            color='b')\n",
    "plt.xlabel('predict', fontsize=20)\n",
    "plt.ylabel('error', fontsize=20);"
   ]
  },
  {
   "cell_type": "markdown",
   "id": "8614e810",
   "metadata": {},
   "source": [
    "#### Задание 15"
   ]
  },
  {
   "cell_type": "code",
   "execution_count": 95,
   "id": "d8ccf70f",
   "metadata": {},
   "outputs": [
    {
     "data": {
      "text/html": [
       "<table class=\"simpletable\">\n",
       "<caption>OLS Regression Results</caption>\n",
       "<tr>\n",
       "  <th>Dep. Variable:</th>          <td>wage</td>       <th>  R-squared:         </th> <td>   0.134</td>\n",
       "</tr>\n",
       "<tr>\n",
       "  <th>Model:</th>                   <td>OLS</td>       <th>  Adj. R-squared:    </th> <td>   0.122</td>\n",
       "</tr>\n",
       "<tr>\n",
       "  <th>Method:</th>             <td>Least Squares</td>  <th>  F-statistic:       </th> <td>   11.44</td>\n",
       "</tr>\n",
       "<tr>\n",
       "  <th>Date:</th>             <td>Tue, 25 Oct 2022</td> <th>  Prob (F-statistic):</th>  <td>0.00115</td>\n",
       "</tr>\n",
       "<tr>\n",
       "  <th>Time:</th>                 <td>20:56:00</td>     <th>  Log-Likelihood:    </th> <td> -828.92</td>\n",
       "</tr>\n",
       "<tr>\n",
       "  <th>No. Observations:</th>      <td>    76</td>      <th>  AIC:               </th> <td>   1662.</td>\n",
       "</tr>\n",
       "<tr>\n",
       "  <th>Df Residuals:</th>          <td>    74</td>      <th>  BIC:               </th> <td>   1666.</td>\n",
       "</tr>\n",
       "<tr>\n",
       "  <th>Df Model:</th>              <td>     1</td>      <th>                     </th>     <td> </td>   \n",
       "</tr>\n",
       "<tr>\n",
       "  <th>Covariance Type:</th>      <td>nonrobust</td>    <th>                     </th>     <td> </td>   \n",
       "</tr>\n",
       "</table>\n",
       "<table class=\"simpletable\">\n",
       "<tr>\n",
       "      <td></td>         <th>coef</th>     <th>std err</th>      <th>t</th>      <th>P>|t|</th>  <th>[0.025</th>    <th>0.975]</th>  \n",
       "</tr>\n",
       "<tr>\n",
       "  <th>Intercept</th> <td> 1.946e+04</td> <td> 2114.877</td> <td>    9.203</td> <td> 0.000</td> <td> 1.52e+04</td> <td> 2.37e+04</td>\n",
       "</tr>\n",
       "<tr>\n",
       "  <th>male</th>      <td> 1.039e+04</td> <td> 3072.845</td> <td>    3.383</td> <td> 0.001</td> <td> 4271.806</td> <td> 1.65e+04</td>\n",
       "</tr>\n",
       "</table>\n",
       "<table class=\"simpletable\">\n",
       "<tr>\n",
       "  <th>Omnibus:</th>       <td>39.462</td> <th>  Durbin-Watson:     </th> <td>   1.748</td>\n",
       "</tr>\n",
       "<tr>\n",
       "  <th>Prob(Omnibus):</th> <td> 0.000</td> <th>  Jarque-Bera (JB):  </th> <td> 112.788</td>\n",
       "</tr>\n",
       "<tr>\n",
       "  <th>Skew:</th>          <td> 1.676</td> <th>  Prob(JB):          </th> <td>3.22e-25</td>\n",
       "</tr>\n",
       "<tr>\n",
       "  <th>Kurtosis:</th>      <td> 7.938</td> <th>  Cond. No.          </th> <td>    2.56</td>\n",
       "</tr>\n",
       "</table><br/><br/>Notes:<br/>[1] Standard Errors assume that the covariance matrix of the errors is correctly specified."
      ],
      "text/plain": [
       "<class 'statsmodels.iolib.summary.Summary'>\n",
       "\"\"\"\n",
       "                            OLS Regression Results                            \n",
       "==============================================================================\n",
       "Dep. Variable:                   wage   R-squared:                       0.134\n",
       "Model:                            OLS   Adj. R-squared:                  0.122\n",
       "Method:                 Least Squares   F-statistic:                     11.44\n",
       "Date:                Tue, 25 Oct 2022   Prob (F-statistic):            0.00115\n",
       "Time:                        20:56:00   Log-Likelihood:                -828.92\n",
       "No. Observations:                  76   AIC:                             1662.\n",
       "Df Residuals:                      74   BIC:                             1666.\n",
       "Df Model:                           1                                         \n",
       "Covariance Type:            nonrobust                                         \n",
       "==============================================================================\n",
       "                 coef    std err          t      P>|t|      [0.025      0.975]\n",
       "------------------------------------------------------------------------------\n",
       "Intercept   1.946e+04   2114.877      9.203      0.000    1.52e+04    2.37e+04\n",
       "male        1.039e+04   3072.845      3.383      0.001    4271.806    1.65e+04\n",
       "==============================================================================\n",
       "Omnibus:                       39.462   Durbin-Watson:                   1.748\n",
       "Prob(Omnibus):                  0.000   Jarque-Bera (JB):              112.788\n",
       "Skew:                           1.676   Prob(JB):                     3.22e-25\n",
       "Kurtosis:                       7.938   Cond. No.                         2.56\n",
       "==============================================================================\n",
       "\n",
       "Notes:\n",
       "[1] Standard Errors assume that the covariance matrix of the errors is correctly specified.\n",
       "\"\"\""
      ]
     },
     "execution_count": 95,
     "metadata": {},
     "output_type": "execute_result"
    }
   ],
   "source": [
    "lin_reg_1 = lr.ols('wage ~  male ', data=df).fit()\n",
    "lin_reg_1.summary()"
   ]
  },
  {
   "cell_type": "markdown",
   "id": "b29b4ad2",
   "metadata": {},
   "source": [
    "Как можно заметить, модель стала хуже было R^2=0.179 стало 0.134. Очевидно мы не сможем качественно предсказать зарплату только на поле "
   ]
  },
  {
   "cell_type": "markdown",
   "id": "619ed924",
   "metadata": {},
   "source": [
    "#### Задание 16"
   ]
  },
  {
   "cell_type": "code",
   "execution_count": 63,
   "id": "c5332b47",
   "metadata": {},
   "outputs": [],
   "source": [
    "male = 1\n",
    "children = 0 \n",
    "high = 0\n",
    "urban = 1 \n",
    "age = 20"
   ]
  },
  {
   "cell_type": "markdown",
   "id": "c40cc16f",
   "metadata": {},
   "source": [
    "Построим качество на лучшей модели со всеми коэф-ами"
   ]
  },
  {
   "cell_type": "code",
   "execution_count": 99,
   "id": "5da82465",
   "metadata": {},
   "outputs": [
    {
     "data": {
      "text/plain": [
       "Intercept    11237.405813\n",
       "age            166.665941\n",
       "high          1398.149699\n",
       "male         10495.403479\n",
       "children     -1846.044655\n",
       "urban         4028.357464\n",
       "dtype: float64"
      ]
     },
     "execution_count": 99,
     "metadata": {},
     "output_type": "execute_result"
    }
   ],
   "source": [
    "lin_reg.params"
   ]
  },
  {
   "cell_type": "code",
   "execution_count": 98,
   "id": "156f1327",
   "metadata": {},
   "outputs": [
    {
     "data": {
      "text/plain": [
       "[11237.405813018593,\n",
       " 166.66594121754002,\n",
       " 1398.149699028867,\n",
       " 10495.403478681525,\n",
       " -1846.0446552227295,\n",
       " 4028.357463882623]"
      ]
     },
     "execution_count": 98,
     "metadata": {},
     "output_type": "execute_result"
    }
   ],
   "source": [
    "np.array(lin_reg.params)"
   ]
  },
  {
   "cell_type": "code",
   "execution_count": 101,
   "id": "017e46a2",
   "metadata": {},
   "outputs": [],
   "source": [
    "values = np.array([1, age, high, male, children, urban])"
   ]
  },
  {
   "cell_type": "code",
   "execution_count": 102,
   "id": "b0792fbf",
   "metadata": {},
   "outputs": [
    {
     "data": {
      "text/plain": [
       "29094.485579933542"
      ]
     },
     "execution_count": 102,
     "metadata": {},
     "output_type": "execute_result"
    }
   ],
   "source": [
    "values.T@np.array(lin_reg.params)"
   ]
  },
  {
   "cell_type": "markdown",
   "id": "db46bf89",
   "metadata": {},
   "source": [
    "Я бы в Твери получал 29k, not bad"
   ]
  },
  {
   "cell_type": "code",
   "execution_count": 103,
   "id": "c6c61728",
   "metadata": {},
   "outputs": [],
   "source": [
    "data = {'age': 20,\n",
    "    'male': 1,\n",
    "    'children': 0,\n",
    "    'urban': 1,\n",
    "    'high': 0}"
   ]
  },
  {
   "cell_type": "code",
   "execution_count": 104,
   "id": "024dfe2f",
   "metadata": {},
   "outputs": [
    {
     "data": {
      "text/plain": [
       "array([[21844.67092665, 36344.30023322]])"
      ]
     },
     "execution_count": 104,
     "metadata": {},
     "output_type": "execute_result"
    }
   ],
   "source": [
    "pred = lin_reg.get_prediction(data)\n",
    "pred.conf_int(alpha=0.1)"
   ]
  },
  {
   "cell_type": "markdown",
   "id": "fc9ef5c2",
   "metadata": {},
   "source": [
    "Моя зарплата может вариьроваться от 21844 до 36344 с уровнем доверия 90%"
   ]
  }
 ],
 "metadata": {
  "kernelspec": {
   "display_name": "Python 3 (ipykernel)",
   "language": "python",
   "name": "python3"
  },
  "language_info": {
   "codemirror_mode": {
    "name": "ipython",
    "version": 3
   },
   "file_extension": ".py",
   "mimetype": "text/x-python",
   "name": "python",
   "nbconvert_exporter": "python",
   "pygments_lexer": "ipython3",
   "version": "3.9.12"
  }
 },
 "nbformat": 4,
 "nbformat_minor": 5
}
