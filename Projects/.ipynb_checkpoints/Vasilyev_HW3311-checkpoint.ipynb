{
 "cells": [
  {
   "cell_type": "code",
   "execution_count": 2,
   "id": "fba89cf9",
   "metadata": {},
   "outputs": [
    {
     "name": "stdout",
     "output_type": "stream",
     "text": [
      "ks\n",
      "ban\n"
     ]
    }
   ],
   "source": [
    "name = input()\n",
    "if name == 'Pet' or 'Sash':\n",
    "    print('ok')\n",
    "else:\n",
    "    print('ban')"
   ]
  },
  {
   "cell_type": "markdown",
   "id": "75c9a997",
   "metadata": {},
   "source": [
    "# Домашнее задание 3\n",
    "\n",
    "**Васильев Н.Н.** \n",
    "\n",
    "*Вариант 8*"
   ]
  },
  {
   "cell_type": "code",
   "execution_count": 2,
   "id": "6794dbeb",
   "metadata": {},
   "outputs": [],
   "source": [
    "import pandas as pd\n",
    "import numpy as np\n",
    "\n",
    "import matplotlib.pyplot as plt\n",
    "import seaborn as sns\n",
    "\n",
    "from scipy import stats as st\n",
    "import statsmodels.formula.api as lr\n",
    "\n",
    "sns.set_style(\"whitegrid\")\n",
    "sns.set_palette('husl')"
   ]
  },
  {
   "cell_type": "markdown",
   "id": "a26ae9b1",
   "metadata": {},
   "source": [
    "#### Задание 0"
   ]
  },
  {
   "cell_type": "code",
   "execution_count": 3,
   "id": "d32790d3",
   "metadata": {},
   "outputs": [],
   "source": [
    "df = pd.read_excel('Homework_2022.xlsx', index_col='idind')"
   ]
  },
  {
   "cell_type": "code",
   "execution_count": 4,
   "id": "fcc984d0",
   "metadata": {},
   "outputs": [
    {
     "data": {
      "text/plain": [
       "(3871, 86)"
      ]
     },
     "execution_count": 4,
     "metadata": {},
     "output_type": "execute_result"
    }
   ],
   "source": [
    "df.shape"
   ]
  },
  {
   "cell_type": "code",
   "execution_count": 5,
   "id": "7d739a11",
   "metadata": {},
   "outputs": [
    {
     "data": {
      "text/html": [
       "<div>\n",
       "<style scoped>\n",
       "    .dataframe tbody tr th:only-of-type {\n",
       "        vertical-align: middle;\n",
       "    }\n",
       "\n",
       "    .dataframe tbody tr th {\n",
       "        vertical-align: top;\n",
       "    }\n",
       "\n",
       "    .dataframe thead th {\n",
       "        text-align: right;\n",
       "    }\n",
       "</style>\n",
       "<table border=\"1\" class=\"dataframe\">\n",
       "  <thead>\n",
       "    <tr style=\"text-align: right;\">\n",
       "      <th></th>\n",
       "      <th>psu</th>\n",
       "      <th>status</th>\n",
       "      <th>age</th>\n",
       "      <th>male</th>\n",
       "      <th>industry</th>\n",
       "      <th>wage</th>\n",
       "      <th>public</th>\n",
       "      <th>internet</th>\n",
       "      <th>children</th>\n",
       "      <th>urban</th>\n",
       "      <th>...</th>\n",
       "      <th>id66</th>\n",
       "      <th>id67</th>\n",
       "      <th>id68</th>\n",
       "      <th>id69</th>\n",
       "      <th>id70</th>\n",
       "      <th>id71</th>\n",
       "      <th>id72</th>\n",
       "      <th>id73</th>\n",
       "      <th>id74</th>\n",
       "      <th>id75</th>\n",
       "    </tr>\n",
       "    <tr>\n",
       "      <th>idind</th>\n",
       "      <th></th>\n",
       "      <th></th>\n",
       "      <th></th>\n",
       "      <th></th>\n",
       "      <th></th>\n",
       "      <th></th>\n",
       "      <th></th>\n",
       "      <th></th>\n",
       "      <th></th>\n",
       "      <th></th>\n",
       "      <th></th>\n",
       "      <th></th>\n",
       "      <th></th>\n",
       "      <th></th>\n",
       "      <th></th>\n",
       "      <th></th>\n",
       "      <th></th>\n",
       "      <th></th>\n",
       "      <th></th>\n",
       "      <th></th>\n",
       "      <th></th>\n",
       "    </tr>\n",
       "  </thead>\n",
       "  <tbody>\n",
       "    <tr>\n",
       "      <th>1</th>\n",
       "      <td>Волосовский</td>\n",
       "      <td>ПГТ</td>\n",
       "      <td>60</td>\n",
       "      <td>1</td>\n",
       "      <td>НАУКА, КУЛЬТ</td>\n",
       "      <td>9500</td>\n",
       "      <td>0</td>\n",
       "      <td>1</td>\n",
       "      <td>2</td>\n",
       "      <td>1</td>\n",
       "      <td>...</td>\n",
       "      <td>0</td>\n",
       "      <td>0</td>\n",
       "      <td>0</td>\n",
       "      <td>0</td>\n",
       "      <td>0</td>\n",
       "      <td>0</td>\n",
       "      <td>0</td>\n",
       "      <td>0</td>\n",
       "      <td>1</td>\n",
       "      <td>0</td>\n",
       "    </tr>\n",
       "    <tr>\n",
       "      <th>2</th>\n",
       "      <td>Волосовский</td>\n",
       "      <td>Село</td>\n",
       "      <td>41</td>\n",
       "      <td>0</td>\n",
       "      <td>ОБРАЗОВАНИЕ</td>\n",
       "      <td>48500</td>\n",
       "      <td>1</td>\n",
       "      <td>1</td>\n",
       "      <td>1</td>\n",
       "      <td>0</td>\n",
       "      <td>...</td>\n",
       "      <td>1</td>\n",
       "      <td>0</td>\n",
       "      <td>0</td>\n",
       "      <td>0</td>\n",
       "      <td>1</td>\n",
       "      <td>0</td>\n",
       "      <td>0</td>\n",
       "      <td>0</td>\n",
       "      <td>1</td>\n",
       "      <td>0</td>\n",
       "    </tr>\n",
       "    <tr>\n",
       "      <th>3</th>\n",
       "      <td>Волосовский</td>\n",
       "      <td>Село</td>\n",
       "      <td>54</td>\n",
       "      <td>0</td>\n",
       "      <td>СЕЛЬСКОЕ ХОЗ</td>\n",
       "      <td>36500</td>\n",
       "      <td>0</td>\n",
       "      <td>1</td>\n",
       "      <td>3</td>\n",
       "      <td>0</td>\n",
       "      <td>...</td>\n",
       "      <td>0</td>\n",
       "      <td>0</td>\n",
       "      <td>0</td>\n",
       "      <td>0</td>\n",
       "      <td>0</td>\n",
       "      <td>0</td>\n",
       "      <td>0</td>\n",
       "      <td>0</td>\n",
       "      <td>0</td>\n",
       "      <td>1</td>\n",
       "    </tr>\n",
       "    <tr>\n",
       "      <th>4</th>\n",
       "      <td>Волосовский</td>\n",
       "      <td>Село</td>\n",
       "      <td>48</td>\n",
       "      <td>1</td>\n",
       "      <td>СЕЛЬСКОЕ ХОЗ</td>\n",
       "      <td>20500</td>\n",
       "      <td>0</td>\n",
       "      <td>0</td>\n",
       "      <td>1</td>\n",
       "      <td>0</td>\n",
       "      <td>...</td>\n",
       "      <td>0</td>\n",
       "      <td>0</td>\n",
       "      <td>0</td>\n",
       "      <td>0</td>\n",
       "      <td>0</td>\n",
       "      <td>0</td>\n",
       "      <td>0</td>\n",
       "      <td>0</td>\n",
       "      <td>0</td>\n",
       "      <td>1</td>\n",
       "    </tr>\n",
       "    <tr>\n",
       "      <th>5</th>\n",
       "      <td>Волосовский</td>\n",
       "      <td>Село</td>\n",
       "      <td>55</td>\n",
       "      <td>0</td>\n",
       "      <td>ЗДРАВООХРАНЕ</td>\n",
       "      <td>30500</td>\n",
       "      <td>1</td>\n",
       "      <td>1</td>\n",
       "      <td>1</td>\n",
       "      <td>0</td>\n",
       "      <td>...</td>\n",
       "      <td>1</td>\n",
       "      <td>0</td>\n",
       "      <td>0</td>\n",
       "      <td>0</td>\n",
       "      <td>0</td>\n",
       "      <td>0</td>\n",
       "      <td>0</td>\n",
       "      <td>0</td>\n",
       "      <td>1</td>\n",
       "      <td>0</td>\n",
       "    </tr>\n",
       "  </tbody>\n",
       "</table>\n",
       "<p>5 rows × 86 columns</p>\n",
       "</div>"
      ],
      "text/plain": [
       "               psu status  age  male      industry   wage  public  internet  \\\n",
       "idind                                                                         \n",
       "1      Волосовский    ПГТ   60     1  НАУКА, КУЛЬТ   9500       0         1   \n",
       "2      Волосовский   Село   41     0   ОБРАЗОВАНИЕ  48500       1         1   \n",
       "3      Волосовский   Село   54     0  СЕЛЬСКОЕ ХОЗ  36500       0         1   \n",
       "4      Волосовский   Село   48     1  СЕЛЬСКОЕ ХОЗ  20500       0         0   \n",
       "5      Волосовский   Село   55     0  ЗДРАВООХРАНЕ  30500       1         1   \n",
       "\n",
       "       children  urban  ...  id66  id67  id68  id69  id70  id71  id72  id73  \\\n",
       "idind                   ...                                                   \n",
       "1             2      1  ...     0     0     0     0     0     0     0     0   \n",
       "2             1      0  ...     1     0     0     0     1     0     0     0   \n",
       "3             3      0  ...     0     0     0     0     0     0     0     0   \n",
       "4             1      0  ...     0     0     0     0     0     0     0     0   \n",
       "5             1      0  ...     1     0     0     0     0     0     0     0   \n",
       "\n",
       "       id74  id75  \n",
       "idind              \n",
       "1         1     0  \n",
       "2         1     0  \n",
       "3         0     1  \n",
       "4         0     1  \n",
       "5         1     0  \n",
       "\n",
       "[5 rows x 86 columns]"
      ]
     },
     "execution_count": 5,
     "metadata": {},
     "output_type": "execute_result"
    }
   ],
   "source": [
    "df.head()"
   ]
  },
  {
   "cell_type": "markdown",
   "id": "5cf41c09",
   "metadata": {},
   "source": [
    "Удалим ненужные айди дамми-переменные после отбора собственного варианта (8)"
   ]
  },
  {
   "cell_type": "code",
   "execution_count": 6,
   "id": "6c1f4d2d",
   "metadata": {},
   "outputs": [],
   "source": [
    "cols_to_drop = [x for x in df.columns if 'id' in x]"
   ]
  },
  {
   "cell_type": "code",
   "execution_count": 7,
   "id": "de78fca1",
   "metadata": {},
   "outputs": [],
   "source": [
    "df = df[df['id8'] == 1].drop(cols_to_drop, axis=1)"
   ]
  },
  {
   "cell_type": "code",
   "execution_count": 8,
   "id": "82f2c5a2",
   "metadata": {},
   "outputs": [],
   "source": [
    "df['high'] = df['educ'].apply(lambda x: 0 if x != 3 else 1)"
   ]
  },
  {
   "cell_type": "code",
   "execution_count": 9,
   "id": "7c97a290",
   "metadata": {},
   "outputs": [
    {
     "data": {
      "text/html": [
       "<div>\n",
       "<style scoped>\n",
       "    .dataframe tbody tr th:only-of-type {\n",
       "        vertical-align: middle;\n",
       "    }\n",
       "\n",
       "    .dataframe tbody tr th {\n",
       "        vertical-align: top;\n",
       "    }\n",
       "\n",
       "    .dataframe thead th {\n",
       "        text-align: right;\n",
       "    }\n",
       "</style>\n",
       "<table border=\"1\" class=\"dataframe\">\n",
       "  <thead>\n",
       "    <tr style=\"text-align: right;\">\n",
       "      <th></th>\n",
       "      <th>psu</th>\n",
       "      <th>status</th>\n",
       "      <th>age</th>\n",
       "      <th>male</th>\n",
       "      <th>industry</th>\n",
       "      <th>wage</th>\n",
       "      <th>public</th>\n",
       "      <th>internet</th>\n",
       "      <th>children</th>\n",
       "      <th>urban</th>\n",
       "      <th>educ</th>\n",
       "      <th>high</th>\n",
       "    </tr>\n",
       "    <tr>\n",
       "      <th>idind</th>\n",
       "      <th></th>\n",
       "      <th></th>\n",
       "      <th></th>\n",
       "      <th></th>\n",
       "      <th></th>\n",
       "      <th></th>\n",
       "      <th></th>\n",
       "      <th></th>\n",
       "      <th></th>\n",
       "      <th></th>\n",
       "      <th></th>\n",
       "      <th></th>\n",
       "    </tr>\n",
       "  </thead>\n",
       "  <tbody>\n",
       "    <tr>\n",
       "      <th>163</th>\n",
       "      <td>Ржев и Ржевс</td>\n",
       "      <td>Город</td>\n",
       "      <td>30</td>\n",
       "      <td>1</td>\n",
       "      <td>ТОРГОВЛЯ, БЫ</td>\n",
       "      <td>30500</td>\n",
       "      <td>0</td>\n",
       "      <td>1</td>\n",
       "      <td>1</td>\n",
       "      <td>1</td>\n",
       "      <td>0</td>\n",
       "      <td>0</td>\n",
       "    </tr>\n",
       "    <tr>\n",
       "      <th>164</th>\n",
       "      <td>Ржев и Ржевс</td>\n",
       "      <td>Город</td>\n",
       "      <td>57</td>\n",
       "      <td>1</td>\n",
       "      <td>ВОЕННО-ПРОМЫ</td>\n",
       "      <td>30500</td>\n",
       "      <td>0</td>\n",
       "      <td>1</td>\n",
       "      <td>2</td>\n",
       "      <td>1</td>\n",
       "      <td>1</td>\n",
       "      <td>0</td>\n",
       "    </tr>\n",
       "    <tr>\n",
       "      <th>165</th>\n",
       "      <td>Ржев и Ржевс</td>\n",
       "      <td>Город</td>\n",
       "      <td>46</td>\n",
       "      <td>1</td>\n",
       "      <td>АРМИЯ, МВД,</td>\n",
       "      <td>53500</td>\n",
       "      <td>1</td>\n",
       "      <td>1</td>\n",
       "      <td>1</td>\n",
       "      <td>1</td>\n",
       "      <td>1</td>\n",
       "      <td>0</td>\n",
       "    </tr>\n",
       "    <tr>\n",
       "      <th>166</th>\n",
       "      <td>Ржев и Ржевс</td>\n",
       "      <td>Город</td>\n",
       "      <td>34</td>\n",
       "      <td>1</td>\n",
       "      <td>ЭНЕРГЕТИЧЕСК</td>\n",
       "      <td>14500</td>\n",
       "      <td>0</td>\n",
       "      <td>1</td>\n",
       "      <td>2</td>\n",
       "      <td>1</td>\n",
       "      <td>2</td>\n",
       "      <td>0</td>\n",
       "    </tr>\n",
       "    <tr>\n",
       "      <th>167</th>\n",
       "      <td>Ржев и Ржевс</td>\n",
       "      <td>Город</td>\n",
       "      <td>28</td>\n",
       "      <td>0</td>\n",
       "      <td>ТРАНСПОРТ, С</td>\n",
       "      <td>550</td>\n",
       "      <td>1</td>\n",
       "      <td>1</td>\n",
       "      <td>2</td>\n",
       "      <td>1</td>\n",
       "      <td>1</td>\n",
       "      <td>0</td>\n",
       "    </tr>\n",
       "  </tbody>\n",
       "</table>\n",
       "</div>"
      ],
      "text/plain": [
       "                psu status  age  male      industry   wage  public  internet  \\\n",
       "idind                                                                          \n",
       "163    Ржев и Ржевс  Город   30     1  ТОРГОВЛЯ, БЫ  30500       0         1   \n",
       "164    Ржев и Ржевс  Город   57     1  ВОЕННО-ПРОМЫ  30500       0         1   \n",
       "165    Ржев и Ржевс  Город   46     1   АРМИЯ, МВД,  53500       1         1   \n",
       "166    Ржев и Ржевс  Город   34     1  ЭНЕРГЕТИЧЕСК  14500       0         1   \n",
       "167    Ржев и Ржевс  Город   28     0  ТРАНСПОРТ, С    550       1         1   \n",
       "\n",
       "       children  urban  educ  high  \n",
       "idind                               \n",
       "163           1      1     0     0  \n",
       "164           2      1     1     0  \n",
       "165           1      1     1     0  \n",
       "166           2      1     2     0  \n",
       "167           2      1     1     0  "
      ]
     },
     "execution_count": 9,
     "metadata": {},
     "output_type": "execute_result"
    }
   ],
   "source": [
    "df.head()"
   ]
  },
  {
   "cell_type": "markdown",
   "id": "aea38d5a",
   "metadata": {},
   "source": [
    "#### Задание 1"
   ]
  },
  {
   "cell_type": "code",
   "execution_count": 9,
   "id": "91731ab5",
   "metadata": {},
   "outputs": [
    {
     "data": {
      "text/html": [
       "<table class=\"simpletable\">\n",
       "<caption>OLS Regression Results</caption>\n",
       "<tr>\n",
       "  <th>Dep. Variable:</th>          <td>wage</td>       <th>  R-squared:         </th> <td>   0.179</td>\n",
       "</tr>\n",
       "<tr>\n",
       "  <th>Model:</th>                   <td>OLS</td>       <th>  Adj. R-squared:    </th> <td>   0.120</td>\n",
       "</tr>\n",
       "<tr>\n",
       "  <th>Method:</th>             <td>Least Squares</td>  <th>  F-statistic:       </th> <td>   3.047</td>\n",
       "</tr>\n",
       "<tr>\n",
       "  <th>Date:</th>             <td>Wed, 30 Nov 2022</td> <th>  Prob (F-statistic):</th>  <td>0.0152</td> \n",
       "</tr>\n",
       "<tr>\n",
       "  <th>Time:</th>                 <td>22:58:26</td>     <th>  Log-Likelihood:    </th> <td> -826.90</td>\n",
       "</tr>\n",
       "<tr>\n",
       "  <th>No. Observations:</th>      <td>    76</td>      <th>  AIC:               </th> <td>   1666.</td>\n",
       "</tr>\n",
       "<tr>\n",
       "  <th>Df Residuals:</th>          <td>    70</td>      <th>  BIC:               </th> <td>   1680.</td>\n",
       "</tr>\n",
       "<tr>\n",
       "  <th>Df Model:</th>              <td>     5</td>      <th>                     </th>     <td> </td>   \n",
       "</tr>\n",
       "<tr>\n",
       "  <th>Covariance Type:</th>      <td>nonrobust</td>    <th>                     </th>     <td> </td>   \n",
       "</tr>\n",
       "</table>\n",
       "<table class=\"simpletable\">\n",
       "<tr>\n",
       "      <td></td>         <th>coef</th>     <th>std err</th>      <th>t</th>      <th>P>|t|</th>  <th>[0.025</th>    <th>0.975]</th>  \n",
       "</tr>\n",
       "<tr>\n",
       "  <th>Intercept</th> <td> 1.124e+04</td> <td> 7585.899</td> <td>    1.481</td> <td> 0.143</td> <td>-3892.192</td> <td> 2.64e+04</td>\n",
       "</tr>\n",
       "<tr>\n",
       "  <th>age</th>       <td>  166.6659</td> <td>  161.319</td> <td>    1.033</td> <td> 0.305</td> <td> -155.074</td> <td>  488.406</td>\n",
       "</tr>\n",
       "<tr>\n",
       "  <th>high</th>      <td> 1398.1497</td> <td> 3385.128</td> <td>    0.413</td> <td> 0.681</td> <td>-5353.275</td> <td> 8149.574</td>\n",
       "</tr>\n",
       "<tr>\n",
       "  <th>male</th>      <td>  1.05e+04</td> <td> 3154.606</td> <td>    3.327</td> <td> 0.001</td> <td> 4203.739</td> <td> 1.68e+04</td>\n",
       "</tr>\n",
       "<tr>\n",
       "  <th>children</th>  <td>-1846.0447</td> <td> 1853.701</td> <td>   -0.996</td> <td> 0.323</td> <td>-5543.136</td> <td> 1851.046</td>\n",
       "</tr>\n",
       "<tr>\n",
       "  <th>urban</th>     <td> 4028.3575</td> <td> 3952.295</td> <td>    1.019</td> <td> 0.312</td> <td>-3854.246</td> <td> 1.19e+04</td>\n",
       "</tr>\n",
       "</table>\n",
       "<table class=\"simpletable\">\n",
       "<tr>\n",
       "  <th>Omnibus:</th>       <td>44.579</td> <th>  Durbin-Watson:     </th> <td>   1.811</td>\n",
       "</tr>\n",
       "<tr>\n",
       "  <th>Prob(Omnibus):</th> <td> 0.000</td> <th>  Jarque-Bera (JB):  </th> <td> 153.290</td>\n",
       "</tr>\n",
       "<tr>\n",
       "  <th>Skew:</th>          <td> 1.829</td> <th>  Prob(JB):          </th> <td>5.17e-34</td>\n",
       "</tr>\n",
       "<tr>\n",
       "  <th>Kurtosis:</th>      <td> 8.918</td> <th>  Cond. No.          </th> <td>    215.</td>\n",
       "</tr>\n",
       "</table><br/><br/>Notes:<br/>[1] Standard Errors assume that the covariance matrix of the errors is correctly specified."
      ],
      "text/plain": [
       "<class 'statsmodels.iolib.summary.Summary'>\n",
       "\"\"\"\n",
       "                            OLS Regression Results                            \n",
       "==============================================================================\n",
       "Dep. Variable:                   wage   R-squared:                       0.179\n",
       "Model:                            OLS   Adj. R-squared:                  0.120\n",
       "Method:                 Least Squares   F-statistic:                     3.047\n",
       "Date:                Wed, 30 Nov 2022   Prob (F-statistic):             0.0152\n",
       "Time:                        22:58:26   Log-Likelihood:                -826.90\n",
       "No. Observations:                  76   AIC:                             1666.\n",
       "Df Residuals:                      70   BIC:                             1680.\n",
       "Df Model:                           5                                         \n",
       "Covariance Type:            nonrobust                                         \n",
       "==============================================================================\n",
       "                 coef    std err          t      P>|t|      [0.025      0.975]\n",
       "------------------------------------------------------------------------------\n",
       "Intercept   1.124e+04   7585.899      1.481      0.143   -3892.192    2.64e+04\n",
       "age          166.6659    161.319      1.033      0.305    -155.074     488.406\n",
       "high        1398.1497   3385.128      0.413      0.681   -5353.275    8149.574\n",
       "male         1.05e+04   3154.606      3.327      0.001    4203.739    1.68e+04\n",
       "children   -1846.0447   1853.701     -0.996      0.323   -5543.136    1851.046\n",
       "urban       4028.3575   3952.295      1.019      0.312   -3854.246    1.19e+04\n",
       "==============================================================================\n",
       "Omnibus:                       44.579   Durbin-Watson:                   1.811\n",
       "Prob(Omnibus):                  0.000   Jarque-Bera (JB):              153.290\n",
       "Skew:                           1.829   Prob(JB):                     5.17e-34\n",
       "Kurtosis:                       8.918   Cond. No.                         215.\n",
       "==============================================================================\n",
       "\n",
       "Notes:\n",
       "[1] Standard Errors assume that the covariance matrix of the errors is correctly specified.\n",
       "\"\"\""
      ]
     },
     "execution_count": 9,
     "metadata": {},
     "output_type": "execute_result"
    }
   ],
   "source": [
    "lin_reg = lr.ols('wage ~ age + high + male + children + urban', data=df).fit()\n",
    "lin_reg.summary()"
   ]
  },
  {
   "cell_type": "markdown",
   "id": "68043dfb",
   "metadata": {},
   "source": [
    "Модель имеет вид:"
   ]
  },
  {
   "cell_type": "markdown",
   "id": "fea539cf",
   "metadata": {},
   "source": [
    "$$\n",
    "\\begin{aligned}\n",
    "\\hat{wage} = \\hat{\\beta_0} +  \\hat{\\beta_1}  age +\\hat{\\beta_2}  high + \\hat{\\beta_3} male + \\hat{\\beta_4}  children + \\hat{\\beta_5}  urban\n",
    "\\end{aligned}\n",
    "$$"
   ]
  },
  {
   "cell_type": "markdown",
   "id": "08d038bb",
   "metadata": {},
   "source": [
    "Итоговая модель:\n",
    "$$\n",
    "\\begin{aligned}\n",
    "\\hat{wage} = (1.24e+04) + 166.6659* age + 1398 *high + (1.05e+04)* male  -1846.0447* children + 4028.3575\t *urban\n",
    "\\end{aligned}\n",
    "$$"
   ]
  },
  {
   "cell_type": "markdown",
   "id": "c714eb30",
   "metadata": {},
   "source": [
    "#### Задание 2"
   ]
  },
  {
   "cell_type": "code",
   "execution_count": 10,
   "id": "d2bcf747",
   "metadata": {},
   "outputs": [
    {
     "data": {
      "text/html": [
       "<table class=\"simpletable\">\n",
       "<caption>OLS Regression Results</caption>\n",
       "<tr>\n",
       "  <th>Dep. Variable:</th>      <td>np.log(wage)</td>   <th>  R-squared:         </th> <td>   0.224</td>\n",
       "</tr>\n",
       "<tr>\n",
       "  <th>Model:</th>                   <td>OLS</td>       <th>  Adj. R-squared:    </th> <td>   0.169</td>\n",
       "</tr>\n",
       "<tr>\n",
       "  <th>Method:</th>             <td>Least Squares</td>  <th>  F-statistic:       </th> <td>   4.051</td>\n",
       "</tr>\n",
       "<tr>\n",
       "  <th>Date:</th>             <td>Wed, 30 Nov 2022</td> <th>  Prob (F-statistic):</th>  <td>0.00275</td>\n",
       "</tr>\n",
       "<tr>\n",
       "  <th>Time:</th>                 <td>23:06:38</td>     <th>  Log-Likelihood:    </th> <td> -68.287</td>\n",
       "</tr>\n",
       "<tr>\n",
       "  <th>No. Observations:</th>      <td>    76</td>      <th>  AIC:               </th> <td>   148.6</td>\n",
       "</tr>\n",
       "<tr>\n",
       "  <th>Df Residuals:</th>          <td>    70</td>      <th>  BIC:               </th> <td>   162.6</td>\n",
       "</tr>\n",
       "<tr>\n",
       "  <th>Df Model:</th>              <td>     5</td>      <th>                     </th>     <td> </td>   \n",
       "</tr>\n",
       "<tr>\n",
       "  <th>Covariance Type:</th>      <td>nonrobust</td>    <th>                     </th>     <td> </td>   \n",
       "</tr>\n",
       "</table>\n",
       "<table class=\"simpletable\">\n",
       "<tr>\n",
       "      <td></td>         <th>coef</th>     <th>std err</th>      <th>t</th>      <th>P>|t|</th>  <th>[0.025</th>    <th>0.975]</th>  \n",
       "</tr>\n",
       "<tr>\n",
       "  <th>Intercept</th> <td>    9.1472</td> <td>    0.351</td> <td>   26.079</td> <td> 0.000</td> <td>    8.448</td> <td>    9.847</td>\n",
       "</tr>\n",
       "<tr>\n",
       "  <th>age</th>       <td>    0.0149</td> <td>    0.007</td> <td>    1.994</td> <td> 0.050</td> <td>-5.95e-06</td> <td>    0.030</td>\n",
       "</tr>\n",
       "<tr>\n",
       "  <th>high</th>      <td>    0.1682</td> <td>    0.157</td> <td>    1.075</td> <td> 0.286</td> <td>   -0.144</td> <td>    0.480</td>\n",
       "</tr>\n",
       "<tr>\n",
       "  <th>male</th>      <td>    0.5068</td> <td>    0.146</td> <td>    3.475</td> <td> 0.001</td> <td>    0.216</td> <td>    0.798</td>\n",
       "</tr>\n",
       "<tr>\n",
       "  <th>children</th>  <td>   -0.1438</td> <td>    0.086</td> <td>   -1.678</td> <td> 0.098</td> <td>   -0.315</td> <td>    0.027</td>\n",
       "</tr>\n",
       "<tr>\n",
       "  <th>urban</th>     <td>    0.0649</td> <td>    0.183</td> <td>    0.355</td> <td> 0.723</td> <td>   -0.300</td> <td>    0.429</td>\n",
       "</tr>\n",
       "</table>\n",
       "<table class=\"simpletable\">\n",
       "<tr>\n",
       "  <th>Omnibus:</th>       <td>42.236</td> <th>  Durbin-Watson:     </th> <td>   1.789</td>\n",
       "</tr>\n",
       "<tr>\n",
       "  <th>Prob(Omnibus):</th> <td> 0.000</td> <th>  Jarque-Bera (JB):  </th> <td> 217.284</td>\n",
       "</tr>\n",
       "<tr>\n",
       "  <th>Skew:</th>          <td>-1.497</td> <th>  Prob(JB):          </th> <td>6.57e-48</td>\n",
       "</tr>\n",
       "<tr>\n",
       "  <th>Kurtosis:</th>      <td>10.724</td> <th>  Cond. No.          </th> <td>    215.</td>\n",
       "</tr>\n",
       "</table><br/><br/>Notes:<br/>[1] Standard Errors assume that the covariance matrix of the errors is correctly specified."
      ],
      "text/plain": [
       "<class 'statsmodels.iolib.summary.Summary'>\n",
       "\"\"\"\n",
       "                            OLS Regression Results                            \n",
       "==============================================================================\n",
       "Dep. Variable:           np.log(wage)   R-squared:                       0.224\n",
       "Model:                            OLS   Adj. R-squared:                  0.169\n",
       "Method:                 Least Squares   F-statistic:                     4.051\n",
       "Date:                Wed, 30 Nov 2022   Prob (F-statistic):            0.00275\n",
       "Time:                        23:06:38   Log-Likelihood:                -68.287\n",
       "No. Observations:                  76   AIC:                             148.6\n",
       "Df Residuals:                      70   BIC:                             162.6\n",
       "Df Model:                           5                                         \n",
       "Covariance Type:            nonrobust                                         \n",
       "==============================================================================\n",
       "                 coef    std err          t      P>|t|      [0.025      0.975]\n",
       "------------------------------------------------------------------------------\n",
       "Intercept      9.1472      0.351     26.079      0.000       8.448       9.847\n",
       "age            0.0149      0.007      1.994      0.050   -5.95e-06       0.030\n",
       "high           0.1682      0.157      1.075      0.286      -0.144       0.480\n",
       "male           0.5068      0.146      3.475      0.001       0.216       0.798\n",
       "children      -0.1438      0.086     -1.678      0.098      -0.315       0.027\n",
       "urban          0.0649      0.183      0.355      0.723      -0.300       0.429\n",
       "==============================================================================\n",
       "Omnibus:                       42.236   Durbin-Watson:                   1.789\n",
       "Prob(Omnibus):                  0.000   Jarque-Bera (JB):              217.284\n",
       "Skew:                          -1.497   Prob(JB):                     6.57e-48\n",
       "Kurtosis:                      10.724   Cond. No.                         215.\n",
       "==============================================================================\n",
       "\n",
       "Notes:\n",
       "[1] Standard Errors assume that the covariance matrix of the errors is correctly specified.\n",
       "\"\"\""
      ]
     },
     "execution_count": 10,
     "metadata": {},
     "output_type": "execute_result"
    }
   ],
   "source": [
    "lin_reg = lr.ols('np.log(wage) ~ age + high + male + children + urban', data=df).fit()\n",
    "lin_reg.summary()"
   ]
  },
  {
   "cell_type": "markdown",
   "id": "1248b229",
   "metadata": {},
   "source": [
    "Модель имеет вид:\n",
    "\n",
    "$$\n",
    "\\begin{aligned}\n",
    "ln(\\hat{wage}) = \\hat{\\beta_0} +  \\hat{\\beta_1}  age +\\hat{\\beta_2}  high + \\hat{\\beta_3} male + \\hat{\\beta_4}  children + \\hat{\\beta_5}  urban\n",
    "\\end{aligned}\n",
    "$$\n",
    "\n",
    "\n",
    "\n",
    "Итоговая модель:\n",
    "$$\n",
    "\\begin{aligned}\n",
    "ln(\\hat{wage}) = \t9.1472 + 0.0149\t* age + 0.1682 *high + \t0.5068* male \t-0.1438\t* children + 0.0649*urban\n",
    "\\end{aligned}\n",
    "$$"
   ]
  },
  {
   "cell_type": "markdown",
   "id": "e17fdc31",
   "metadata": {},
   "source": [
    "#### Задание 3"
   ]
  },
  {
   "cell_type": "code",
   "execution_count": 11,
   "id": "3fe4a713",
   "metadata": {},
   "outputs": [
    {
     "data": {
      "text/html": [
       "<table class=\"simpletable\">\n",
       "<caption>OLS Regression Results</caption>\n",
       "<tr>\n",
       "  <th>Dep. Variable:</th>      <td>np.log(wage)</td>   <th>  R-squared:         </th> <td>   0.225</td>\n",
       "</tr>\n",
       "<tr>\n",
       "  <th>Model:</th>                   <td>OLS</td>       <th>  Adj. R-squared:    </th> <td>   0.170</td>\n",
       "</tr>\n",
       "<tr>\n",
       "  <th>Method:</th>             <td>Least Squares</td>  <th>  F-statistic:       </th> <td>   4.064</td>\n",
       "</tr>\n",
       "<tr>\n",
       "  <th>Date:</th>             <td>Thu, 01 Dec 2022</td> <th>  Prob (F-statistic):</th>  <td>0.00269</td>\n",
       "</tr>\n",
       "<tr>\n",
       "  <th>Time:</th>                 <td>14:50:26</td>     <th>  Log-Likelihood:    </th> <td> -68.261</td>\n",
       "</tr>\n",
       "<tr>\n",
       "  <th>No. Observations:</th>      <td>    76</td>      <th>  AIC:               </th> <td>   148.5</td>\n",
       "</tr>\n",
       "<tr>\n",
       "  <th>Df Residuals:</th>          <td>    70</td>      <th>  BIC:               </th> <td>   162.5</td>\n",
       "</tr>\n",
       "<tr>\n",
       "  <th>Df Model:</th>              <td>     5</td>      <th>                     </th>     <td> </td>   \n",
       "</tr>\n",
       "<tr>\n",
       "  <th>Covariance Type:</th>      <td>nonrobust</td>    <th>                     </th>     <td> </td>   \n",
       "</tr>\n",
       "</table>\n",
       "<table class=\"simpletable\">\n",
       "<tr>\n",
       "       <td></td>          <th>coef</th>     <th>std err</th>      <th>t</th>      <th>P>|t|</th>  <th>[0.025</th>    <th>0.975]</th>  \n",
       "</tr>\n",
       "<tr>\n",
       "  <th>Intercept</th>   <td>    7.6348</td> <td>    1.044</td> <td>    7.314</td> <td> 0.000</td> <td>    5.553</td> <td>    9.717</td>\n",
       "</tr>\n",
       "<tr>\n",
       "  <th>np.log(age)</th> <td>    0.5763</td> <td>    0.287</td> <td>    2.006</td> <td> 0.049</td> <td>    0.003</td> <td>    1.149</td>\n",
       "</tr>\n",
       "<tr>\n",
       "  <th>high</th>        <td>    0.1640</td> <td>    0.156</td> <td>    1.049</td> <td> 0.298</td> <td>   -0.148</td> <td>    0.476</td>\n",
       "</tr>\n",
       "<tr>\n",
       "  <th>male</th>        <td>    0.4988</td> <td>    0.146</td> <td>    3.419</td> <td> 0.001</td> <td>    0.208</td> <td>    0.790</td>\n",
       "</tr>\n",
       "<tr>\n",
       "  <th>children</th>    <td>   -0.1468</td> <td>    0.086</td> <td>   -1.707</td> <td> 0.092</td> <td>   -0.318</td> <td>    0.025</td>\n",
       "</tr>\n",
       "<tr>\n",
       "  <th>urban</th>       <td>    0.0758</td> <td>    0.182</td> <td>    0.416</td> <td> 0.678</td> <td>   -0.287</td> <td>    0.439</td>\n",
       "</tr>\n",
       "</table>\n",
       "<table class=\"simpletable\">\n",
       "<tr>\n",
       "  <th>Omnibus:</th>       <td>42.137</td> <th>  Durbin-Watson:     </th> <td>   1.807</td>\n",
       "</tr>\n",
       "<tr>\n",
       "  <th>Prob(Omnibus):</th> <td> 0.000</td> <th>  Jarque-Bera (JB):  </th> <td> 217.131</td>\n",
       "</tr>\n",
       "<tr>\n",
       "  <th>Skew:</th>          <td>-1.491</td> <th>  Prob(JB):          </th> <td>7.09e-48</td>\n",
       "</tr>\n",
       "<tr>\n",
       "  <th>Kurtosis:</th>      <td>10.725</td> <th>  Cond. No.          </th> <td>    63.0</td>\n",
       "</tr>\n",
       "</table><br/><br/>Notes:<br/>[1] Standard Errors assume that the covariance matrix of the errors is correctly specified."
      ],
      "text/plain": [
       "<class 'statsmodels.iolib.summary.Summary'>\n",
       "\"\"\"\n",
       "                            OLS Regression Results                            \n",
       "==============================================================================\n",
       "Dep. Variable:           np.log(wage)   R-squared:                       0.225\n",
       "Model:                            OLS   Adj. R-squared:                  0.170\n",
       "Method:                 Least Squares   F-statistic:                     4.064\n",
       "Date:                Thu, 01 Dec 2022   Prob (F-statistic):            0.00269\n",
       "Time:                        14:50:26   Log-Likelihood:                -68.261\n",
       "No. Observations:                  76   AIC:                             148.5\n",
       "Df Residuals:                      70   BIC:                             162.5\n",
       "Df Model:                           5                                         \n",
       "Covariance Type:            nonrobust                                         \n",
       "===============================================================================\n",
       "                  coef    std err          t      P>|t|      [0.025      0.975]\n",
       "-------------------------------------------------------------------------------\n",
       "Intercept       7.6348      1.044      7.314      0.000       5.553       9.717\n",
       "np.log(age)     0.5763      0.287      2.006      0.049       0.003       1.149\n",
       "high            0.1640      0.156      1.049      0.298      -0.148       0.476\n",
       "male            0.4988      0.146      3.419      0.001       0.208       0.790\n",
       "children       -0.1468      0.086     -1.707      0.092      -0.318       0.025\n",
       "urban           0.0758      0.182      0.416      0.678      -0.287       0.439\n",
       "==============================================================================\n",
       "Omnibus:                       42.137   Durbin-Watson:                   1.807\n",
       "Prob(Omnibus):                  0.000   Jarque-Bera (JB):              217.131\n",
       "Skew:                          -1.491   Prob(JB):                     7.09e-48\n",
       "Kurtosis:                      10.725   Cond. No.                         63.0\n",
       "==============================================================================\n",
       "\n",
       "Notes:\n",
       "[1] Standard Errors assume that the covariance matrix of the errors is correctly specified.\n",
       "\"\"\""
      ]
     },
     "execution_count": 11,
     "metadata": {},
     "output_type": "execute_result"
    }
   ],
   "source": [
    "lin_reg = lr.ols('np.log(wage) ~ np.log(age) + high + male + children + urban',\n",
    "                  data=df).fit()\n",
    "lin_reg.summary()"
   ]
  },
  {
   "cell_type": "markdown",
   "id": "fbf26bc2",
   "metadata": {},
   "source": [
    "Модель имеет вид:\n",
    "\n",
    "$$\n",
    "\\begin{aligned}\n",
    "ln(\\hat{wage}) = \\hat{\\beta_0} +  \\hat{\\beta_1})  ln(age) +\\hat{\\beta_2}  high + \\hat{\\beta_3} male + \\hat{\\beta_4}  children + \\hat{\\beta_5}  urban\n",
    "\\end{aligned}\n",
    "$$\n",
    "\n",
    "Итоговая модель:\n",
    "$$\n",
    "\\begin{aligned}\n",
    "ln(\\hat{wage}) = 7.6348 +0.5763\t* ln(\\hat{age}) + 0.1640 *high + 0.4988* male -0.1468* children + 0.0758 *urban\n",
    "\\end{aligned}\n",
    "$$"
   ]
  },
  {
   "cell_type": "markdown",
   "id": "bcfe73c6",
   "metadata": {},
   "source": [
    "#### Задание 4"
   ]
  },
  {
   "cell_type": "markdown",
   "id": "12dfcc05",
   "metadata": {},
   "source": [
    "**Линейная регресиия**.Первая переменная показала достаточно плохие результаты: почти все переменные незанчимы, низкий $R^2$ (0.166) и высокий AIC(1665) и BIC(1677) - это все говорит о том, что пользоваться этой моделью лучше не стоит\n",
    "\n",
    "**Полурегрессионная модель**. Тут уже лучше $R^2$(0.224) значимость признаков стала выше. Полулог модель точно обладает лучшей объясняющей способностью по сравнению с первой. Сравнить AIC и BIC между собой не совсем корректно, так как из-за переходу к лог моделям, масштаб измерений сместился\n",
    "\n",
    "**Логарифмическая модель**. По сравнению с полулог моделью $R^2$ (0.225) стал немного выше. Однако переменные стали более значимыми для модели по сравнению с предыдущей. \n",
    "\n",
    "**Вывод**: так как мы отказались от сравнения информационных критериев, оценим можели по $R^2$ и скорректированному $R^2$. Наибольшим значеним обладает *логарифическая модель*, что свидетельствует о высоком качестве по сравнению с остальными моделями. Более того признки в ней наиболее значимы по сравнению с остальными. Так что выберем эту модель как наилучшую"
   ]
  },
  {
   "cell_type": "markdown",
   "id": "a2a06e05",
   "metadata": {},
   "source": [
    "#### Задание 5"
   ]
  },
  {
   "cell_type": "markdown",
   "id": "4c71ebea",
   "metadata": {},
   "source": [
    "**Тест Чоу**"
   ]
  },
  {
   "cell_type": "markdown",
   "id": "4e3f67b1",
   "metadata": {},
   "source": [
    "У нас есть две модели: одна обученая на выборках, где male = 1, другая - male = 0.\n",
    "\n",
    "$ logY_m = \\beta_{m} + log(age_{m}) + high_m + children_m + urban_m; \\\\\n",
    "logY_f = \\beta_{f} + log(age_{f}) + high_f + children_f + urban_f\n",
    "$\n",
    "\n",
    "$$\n",
    "\\begin{aligned}\n",
    "&H_0: \\beta_m=\\beta_f, age_m=age_f, ..., \\sigma^2_f=\\sigma^2_m\\\\\n",
    "&H_1: \\exists \\text{признак} f \\neq \\text{признак} m\n",
    "\\end{aligned}\n",
    "$$"
   ]
  },
  {
   "cell_type": "code",
   "execution_count": 15,
   "id": "063d1a3a",
   "metadata": {},
   "outputs": [],
   "source": [
    "lin_reg_male = lr.ols('np.log(wage) ~ np.log(age) + high + male + children + urban',\n",
    "                  data=df[df['male'] == 1]).fit()\n",
    "\n",
    "lin_reg_female = lr.ols('np.log(wage) ~ np.log(age) + high + male + children + urban',\n",
    "                  data=df[df['male'] == 0]).fit()\n",
    "\n",
    "lin_reg = lr.ols('np.log(wage) ~ np.log(age) + high + male + children + urban',\n",
    "                  data=df).fit()"
   ]
  },
  {
   "cell_type": "code",
   "execution_count": 26,
   "id": "6a18d901",
   "metadata": {},
   "outputs": [],
   "source": [
    "RSSm = np.sum(lin_reg_male.resid**2)\n",
    "RSSf = np.sum(lin_reg_female.resid**2)\n",
    "RSS = np.sum(lin_reg.resid**2)"
   ]
  },
  {
   "cell_type": "code",
   "execution_count": 27,
   "id": "7c212d5f",
   "metadata": {},
   "outputs": [],
   "source": [
    "F = ((RSS - (RSSm + RSSf))/(5 + 1))/((RSSf + RSSm)/(len(df) - 2*5 -2))"
   ]
  },
  {
   "cell_type": "code",
   "execution_count": 42,
   "id": "1601cbca",
   "metadata": {},
   "outputs": [],
   "source": [
    "\n",
    "p = st.f.cdf(F, 5 + 1, len(df)) "
   ]
  },
  {
   "cell_type": "code",
   "execution_count": 20,
   "id": "40cf9100",
   "metadata": {},
   "outputs": [],
   "source": [
    "def make_hyp_test(alpha: float, p: float) -> None:\n",
    "    if p <= alpha:\n",
    "        print(f'Ho отвергается в пользу H1 на уровне значимости {alpha}: p-value = {p} ')\n",
    "    else:\n",
    "        print(f'Ho не отвергается на уровне значимости {alpha}: p-value = {p} ')\n",
    "    "
   ]
  },
  {
   "cell_type": "code",
   "execution_count": 21,
   "id": "3b09a0bc",
   "metadata": {},
   "outputs": [],
   "source": [
    "alphas = [0.01, 0.05, 0.1]"
   ]
  },
  {
   "cell_type": "code",
   "execution_count": 46,
   "id": "02b3aec4",
   "metadata": {},
   "outputs": [
    {
     "name": "stdout",
     "output_type": "stream",
     "text": [
      "Ho не отвергается на уровне значимости 0.01: p-value = 0.2951234760247851 \n",
      "Ho не отвергается на уровне значимости 0.05: p-value = 0.2951234760247851 \n",
      "Ho не отвергается на уровне значимости 0.1: p-value = 0.2951234760247851 \n"
     ]
    }
   ],
   "source": [
    "for alpha in alphas:\n",
    "    make_hyp_test(alpha, p)"
   ]
  },
  {
   "cell_type": "markdown",
   "id": "9eb4eb79",
   "metadata": {},
   "source": [
    "Таким образом, тест Чоу не выявил различий по зарплатам среди мужчин и женщин. Значимой зависимости между моделями объяснения зп для мужчин и женщин по отдельности нет. В тверской области явно не наблюдается гендерная дискриминация в заработной плате"
   ]
  },
  {
   "cell_type": "code",
   "execution_count": 51,
   "id": "7d139ede",
   "metadata": {},
   "outputs": [
    {
     "data": {
      "image/png": "[encoded data removed]",
      "text/plain": [
       "<Figure size 864x432 with 1 Axes>"
      ]
     },
     "metadata": {},
     "output_type": "display_data"
    }
   ],
   "source": [
    "fig, ax = plt.subplots(1, 1, figsize=(12,6))\n",
    "\n",
    "sns.scatterplot(data=df, y='wage', x='age', hue='male', ax=ax);"
   ]
  },
  {
   "cell_type": "markdown",
   "id": "b20aba5d",
   "metadata": {},
   "source": [
    "На грфике в целом тоже видно, что мы не можем провести строго разделющую плоскость между мужчинами и женщинам, что подтверждает валидность теста Чоу"
   ]
  },
  {
   "cell_type": "markdown",
   "id": "b0afa189",
   "metadata": {},
   "source": [
    "**Дамми переменные**"
   ]
  },
  {
   "cell_type": "code",
   "execution_count": 53,
   "id": "edef4391",
   "metadata": {},
   "outputs": [
    {
     "name": "stdout",
     "output_type": "stream",
     "text": [
      "                            OLS Regression Results                            \n",
      "==============================================================================\n",
      "Dep. Variable:           np.log(wage)   R-squared:                       0.170\n",
      "Model:                            OLS   Adj. R-squared:                  0.063\n",
      "Method:                 Least Squares   F-statistic:                     1.586\n",
      "Date:                Tue, 29 Nov 2022   Prob (F-statistic):              0.203\n",
      "Time:                        18:23:01   Log-Likelihood:                -22.002\n",
      "No. Observations:                  36   AIC:                             54.00\n",
      "Df Residuals:                      31   BIC:                             61.92\n",
      "Df Model:                           4                                         \n",
      "Covariance Type:            nonrobust                                         \n",
      "===============================================================================\n",
      "                  coef    std err          t      P>|t|      [0.025      0.975]\n",
      "-------------------------------------------------------------------------------\n",
      "Intercept       3.5497      0.668      5.317      0.000       2.188       4.911\n",
      "np.log(age)     0.8076      0.369      2.191      0.036       0.056       1.559\n",
      "high            0.1037      0.199      0.520      0.607      -0.303       0.510\n",
      "male            3.5497      0.668      5.317      0.000       2.188       4.911\n",
      "children       -0.0233      0.093     -0.251      0.804      -0.213       0.166\n",
      "urban           0.1619      0.193      0.837      0.409      -0.233       0.556\n",
      "==============================================================================\n",
      "Omnibus:                        1.316   Durbin-Watson:                   1.676\n",
      "Prob(Omnibus):                  0.518   Jarque-Bera (JB):                0.691\n",
      "Skew:                          -0.330   Prob(JB):                        0.708\n",
      "Kurtosis:                       3.153   Cond. No.                     8.34e+16\n",
      "==============================================================================\n",
      "\n",
      "Notes:\n",
      "[1] Standard Errors assume that the covariance matrix of the errors is correctly specified.\n",
      "[2] The smallest eigenvalue is 9.04e-32. This might indicate that there are\n",
      "strong multicollinearity problems or that the design matrix is singular.\n",
      "                            OLS Regression Results                            \n",
      "==============================================================================\n",
      "Dep. Variable:           np.log(wage)   R-squared:                       0.138\n",
      "Model:                            OLS   Adj. R-squared:                  0.040\n",
      "Method:                 Least Squares   F-statistic:                     1.402\n",
      "Date:                Tue, 29 Nov 2022   Prob (F-statistic):              0.253\n",
      "Time:                        18:23:01   Log-Likelihood:                -40.972\n",
      "No. Observations:                  40   AIC:                             91.94\n",
      "Df Residuals:                      35   BIC:                             100.4\n",
      "Df Model:                           4                                         \n",
      "Covariance Type:            nonrobust                                         \n",
      "===============================================================================\n",
      "                  coef    std err          t      P>|t|      [0.025      0.975]\n",
      "-------------------------------------------------------------------------------\n",
      "Intercept       8.4150      1.528      5.508      0.000       5.313      11.517\n",
      "np.log(age)     0.4681      0.421      1.113      0.273      -0.386       1.322\n",
      "high            0.1025      0.238      0.431      0.669      -0.381       0.586\n",
      "male          8.22e-17    2.9e-17      2.838      0.008    2.34e-17    1.41e-16\n",
      "children       -0.3257      0.155     -2.097      0.043      -0.641      -0.010\n",
      "urban          -0.0666      0.316     -0.210      0.835      -0.709       0.576\n",
      "==============================================================================\n",
      "Omnibus:                       31.566   Durbin-Watson:                   1.541\n",
      "Prob(Omnibus):                  0.000   Jarque-Bera (JB):              102.412\n",
      "Skew:                          -1.774   Prob(JB):                     5.78e-23\n",
      "Kurtosis:                       9.990   Cond. No.                     1.80e+17\n",
      "==============================================================================\n",
      "\n",
      "Notes:\n",
      "[1] Standard Errors assume that the covariance matrix of the errors is correctly specified.\n",
      "[2] The smallest eigenvalue is 2.14e-32. This might indicate that there are\n",
      "strong multicollinearity problems or that the design matrix is singular.\n"
     ]
    }
   ],
   "source": [
    "print(lin_reg_male.summary())\n",
    "print(lin_reg_female.summary())"
   ]
  },
  {
   "cell_type": "markdown",
   "id": "d958c5ad",
   "metadata": {},
   "source": [
    "#### Задание 6"
   ]
  },
  {
   "cell_type": "code",
   "execution_count": 58,
   "id": "9db30029",
   "metadata": {},
   "outputs": [
    {
     "data": {
      "text/html": [
       "<div>\n",
       "<style scoped>\n",
       "    .dataframe tbody tr th:only-of-type {\n",
       "        vertical-align: middle;\n",
       "    }\n",
       "\n",
       "    .dataframe tbody tr th {\n",
       "        vertical-align: top;\n",
       "    }\n",
       "\n",
       "    .dataframe thead th {\n",
       "        text-align: right;\n",
       "    }\n",
       "</style>\n",
       "<table border=\"1\" class=\"dataframe\">\n",
       "  <thead>\n",
       "    <tr style=\"text-align: right;\">\n",
       "      <th></th>\n",
       "      <th>dfb_Intercept</th>\n",
       "      <th>dfb_np.log(age)</th>\n",
       "      <th>dfb_high</th>\n",
       "      <th>dfb_male</th>\n",
       "      <th>dfb_children</th>\n",
       "      <th>dfb_urban</th>\n",
       "      <th>cooks_d</th>\n",
       "      <th>standard_resid</th>\n",
       "      <th>hat_diag</th>\n",
       "      <th>dffits_internal</th>\n",
       "      <th>student_resid</th>\n",
       "      <th>dffits</th>\n",
       "    </tr>\n",
       "    <tr>\n",
       "      <th>idind</th>\n",
       "      <th></th>\n",
       "      <th></th>\n",
       "      <th></th>\n",
       "      <th></th>\n",
       "      <th></th>\n",
       "      <th></th>\n",
       "      <th></th>\n",
       "      <th></th>\n",
       "      <th></th>\n",
       "      <th></th>\n",
       "      <th></th>\n",
       "      <th></th>\n",
       "    </tr>\n",
       "  </thead>\n",
       "  <tbody>\n",
       "    <tr>\n",
       "      <th>163</th>\n",
       "      <td>0.063657</td>\n",
       "      <td>-0.069777</td>\n",
       "      <td>-0.040331</td>\n",
       "      <td>0.062590</td>\n",
       "      <td>0.021595</td>\n",
       "      <td>0.047982</td>\n",
       "      <td>0.002528</td>\n",
       "      <td>0.503733</td>\n",
       "      <td>0.056413</td>\n",
       "      <td>0.123169</td>\n",
       "      <td>0.501031</td>\n",
       "      <td>0.122508</td>\n",
       "    </tr>\n",
       "    <tr>\n",
       "      <th>164</th>\n",
       "      <td>-0.021455</td>\n",
       "      <td>0.018161</td>\n",
       "      <td>-0.011224</td>\n",
       "      <td>0.018751</td>\n",
       "      <td>0.015687</td>\n",
       "      <td>0.013489</td>\n",
       "      <td>0.000249</td>\n",
       "      <td>0.134211</td>\n",
       "      <td>0.076652</td>\n",
       "      <td>0.038669</td>\n",
       "      <td>0.133266</td>\n",
       "      <td>0.038397</td>\n",
       "    </tr>\n",
       "    <tr>\n",
       "      <th>165</th>\n",
       "      <td>-0.073172</td>\n",
       "      <td>0.065777</td>\n",
       "      <td>-0.073527</td>\n",
       "      <td>0.120442</td>\n",
       "      <td>-0.003335</td>\n",
       "      <td>0.076652</td>\n",
       "      <td>0.007633</td>\n",
       "      <td>1.020950</td>\n",
       "      <td>0.042086</td>\n",
       "      <td>0.213999</td>\n",
       "      <td>1.021264</td>\n",
       "      <td>0.214064</td>\n",
       "    </tr>\n",
       "    <tr>\n",
       "      <th>166</th>\n",
       "      <td>-0.050230</td>\n",
       "      <td>0.068946</td>\n",
       "      <td>0.057219</td>\n",
       "      <td>-0.090235</td>\n",
       "      <td>-0.106222</td>\n",
       "      <td>-0.076639</td>\n",
       "      <td>0.004820</td>\n",
       "      <td>-0.613573</td>\n",
       "      <td>0.071336</td>\n",
       "      <td>-0.170055</td>\n",
       "      <td>-0.610819</td>\n",
       "      <td>-0.169292</td>\n",
       "    </tr>\n",
       "    <tr>\n",
       "      <th>167</th>\n",
       "      <td>-1.237390</td>\n",
       "      <td>1.288190</td>\n",
       "      <td>0.794141</td>\n",
       "      <td>0.608510</td>\n",
       "      <td>-1.003724</td>\n",
       "      <td>-0.697310</td>\n",
       "      <td>0.411617</td>\n",
       "      <td>-5.116160</td>\n",
       "      <td>0.086218</td>\n",
       "      <td>-1.571529</td>\n",
       "      <td>-6.419603</td>\n",
       "      <td>-1.971908</td>\n",
       "    </tr>\n",
       "  </tbody>\n",
       "</table>\n",
       "</div>"
      ],
      "text/plain": [
       "       dfb_Intercept  dfb_np.log(age)  dfb_high  dfb_male  dfb_children  \\\n",
       "idind                                                                     \n",
       "163         0.063657        -0.069777 -0.040331  0.062590      0.021595   \n",
       "164        -0.021455         0.018161 -0.011224  0.018751      0.015687   \n",
       "165        -0.073172         0.065777 -0.073527  0.120442     -0.003335   \n",
       "166        -0.050230         0.068946  0.057219 -0.090235     -0.106222   \n",
       "167        -1.237390         1.288190  0.794141  0.608510     -1.003724   \n",
       "\n",
       "       dfb_urban   cooks_d  standard_resid  hat_diag  dffits_internal  \\\n",
       "idind                                                                   \n",
       "163     0.047982  0.002528        0.503733  0.056413         0.123169   \n",
       "164     0.013489  0.000249        0.134211  0.076652         0.038669   \n",
       "165     0.076652  0.007633        1.020950  0.042086         0.213999   \n",
       "166    -0.076639  0.004820       -0.613573  0.071336        -0.170055   \n",
       "167    -0.697310  0.411617       -5.116160  0.086218        -1.571529   \n",
       "\n",
       "       student_resid    dffits  \n",
       "idind                           \n",
       "163         0.501031  0.122508  \n",
       "164         0.133266  0.038397  \n",
       "165         1.021264  0.214064  \n",
       "166        -0.610819 -0.169292  \n",
       "167        -6.419603 -1.971908  "
      ]
     },
     "execution_count": 58,
     "metadata": {},
     "output_type": "execute_result"
    }
   ],
   "source": [
    "influence = lin_reg.get_influence()\n",
    "inf_sum = influence.summary_frame()\n",
    "inf_sum.head()"
   ]
  },
  {
   "cell_type": "code",
   "execution_count": 59,
   "id": "e4dd74bd",
   "metadata": {},
   "outputs": [
    {
     "name": "stdout",
     "output_type": "stream",
     "text": [
      "Leverage vs. Studentized Residuals\n"
     ]
    },
    {
     "name": "stderr",
     "output_type": "stream",
     "text": [
      "C:\\Users\\clank\\anaconda3\\lib\\site-packages\\seaborn\\_decorators.py:36: FutureWarning: Pass the following variables as keyword args: x, y. From version 0.12, the only valid positional argument will be `data`, and passing other arguments without an explicit keyword will result in an error or misinterpretation.\n",
      "  warnings.warn(\n"
     ]
    },
    {
     "data": {
      "image/png": "[encoded data removed]",
      "text/plain": [
       "<Figure size 432x288 with 1 Axes>"
      ]
     },
     "metadata": {},
     "output_type": "display_data"
    }
   ],
   "source": [
    "student_resid = influence.resid_studentized_external\n",
    "(cooks, p) = influence.cooks_distance\n",
    "(dffits, p) = influence.dffits\n",
    "leverage = influence.hat_matrix_diag\n",
    "#print ('\\n')\n",
    "\n",
    "print ('Leverage vs. Studentized Residuals')\n",
    "sns.regplot(leverage, lin_reg.resid_pearson,  fit_reg=False)\n",
    "plt.title('Leverage vs. Studentized Residuals')\n",
    "plt.xlabel('Leverage')\n",
    "plt.ylabel('Studentized Residuals');"
   ]
  },
  {
   "cell_type": "markdown",
   "id": "f0212282",
   "metadata": {},
   "source": [
    "#### Задание 7"
   ]
  },
  {
   "cell_type": "markdown",
   "id": "2c721b2a",
   "metadata": {},
   "source": [
    "**1) Посчитать корреляцию в лоб**"
   ]
  },
  {
   "cell_type": "code",
   "execution_count": 15,
   "id": "1f609b23",
   "metadata": {},
   "outputs": [
    {
     "data": {
      "image/png": "[encoded data removed]",
      "text/plain": [
       "<Figure size 864x648 with 2 Axes>"
      ]
     },
     "metadata": {},
     "output_type": "display_data"
    }
   ],
   "source": [
    "fig, ax = plt.subplots(1, 1, figsize=(12,9))\n",
    "\n",
    "corr = df[['age', 'high', 'male', 'children', 'urban']].corr()\n",
    "sns.heatmap(corr,\n",
    "            xticklabels=corr.columns, yticklabels=corr.columns, \n",
    "            cmap='rocket', annot=True, fmt='.2g', ax=ax)\n",
    "plt.show()"
   ]
  },
  {
   "cell_type": "markdown",
   "id": "ad9c59fb",
   "metadata": {},
   "source": [
    "Не видно явных корреляций между признаками при этом подходе. Заметен намек на свзязь проживания в городе и меньшего количества детей. Проверим более формальными спомобами мультиколлиниарность "
   ]
  },
  {
   "cell_type": "markdown",
   "id": "4b440ff4",
   "metadata": {},
   "source": [
    "**2) VIF**"
   ]
  },
  {
   "cell_type": "code",
   "execution_count": 16,
   "id": "7358f305",
   "metadata": {},
   "outputs": [],
   "source": [
    "from statsmodels.stats.outliers_influence import variance_inflation_factor"
   ]
  },
  {
   "cell_type": "code",
   "execution_count": 21,
   "id": "19b92c70",
   "metadata": {},
   "outputs": [],
   "source": [
    "reg_vars = ['age', 'high', 'male', 'children', 'urban']"
   ]
  },
  {
   "cell_type": "code",
   "execution_count": 22,
   "id": "aa3f9031",
   "metadata": {},
   "outputs": [],
   "source": [
    "vif = pd.DataFrame({'variables':reg_vars,\n",
    "                    'VIF':[variance_inflation_factor(df[reg_vars].values, i) for i in range(len(reg_vars))]})"
   ]
  },
  {
   "cell_type": "code",
   "execution_count": 23,
   "id": "0bfe9db5",
   "metadata": {},
   "outputs": [
    {
     "data": {
      "text/html": [
       "<div>\n",
       "<style scoped>\n",
       "    .dataframe tbody tr th:only-of-type {\n",
       "        vertical-align: middle;\n",
       "    }\n",
       "\n",
       "    .dataframe tbody tr th {\n",
       "        vertical-align: top;\n",
       "    }\n",
       "\n",
       "    .dataframe thead th {\n",
       "        text-align: right;\n",
       "    }\n",
       "</style>\n",
       "<table border=\"1\" class=\"dataframe\">\n",
       "  <thead>\n",
       "    <tr style=\"text-align: right;\">\n",
       "      <th></th>\n",
       "      <th>variables</th>\n",
       "      <th>VIF</th>\n",
       "    </tr>\n",
       "  </thead>\n",
       "  <tbody>\n",
       "    <tr>\n",
       "      <th>0</th>\n",
       "      <td>age</td>\n",
       "      <td>8.227057</td>\n",
       "    </tr>\n",
       "    <tr>\n",
       "      <th>1</th>\n",
       "      <td>high</td>\n",
       "      <td>1.514165</td>\n",
       "    </tr>\n",
       "    <tr>\n",
       "      <th>2</th>\n",
       "      <td>male</td>\n",
       "      <td>1.816625</td>\n",
       "    </tr>\n",
       "    <tr>\n",
       "      <th>3</th>\n",
       "      <td>children</td>\n",
       "      <td>3.135239</td>\n",
       "    </tr>\n",
       "    <tr>\n",
       "      <th>4</th>\n",
       "      <td>urban</td>\n",
       "      <td>4.501158</td>\n",
       "    </tr>\n",
       "  </tbody>\n",
       "</table>\n",
       "</div>"
      ],
      "text/plain": [
       "  variables       VIF\n",
       "0       age  8.227057\n",
       "1      high  1.514165\n",
       "2      male  1.816625\n",
       "3  children  3.135239\n",
       "4     urban  4.501158"
      ]
     },
     "execution_count": 23,
     "metadata": {},
     "output_type": "execute_result"
    }
   ],
   "source": [
    "vif"
   ]
  },
  {
   "cell_type": "markdown",
   "id": "23b30a8e",
   "metadata": {},
   "source": [
    "В целом предположения не оправдались и мультиколлинеарности в данных как таковой нет"
   ]
  },
  {
   "cell_type": "markdown",
   "id": "46986a43",
   "metadata": {},
   "source": [
    "#### Задание 8"
   ]
  },
  {
   "cell_type": "code",
   "execution_count": null,
   "id": "ff2c6bb1",
   "metadata": {},
   "outputs": [],
   "source": []
  },
  {
   "cell_type": "markdown",
   "id": "cf2bdc54",
   "metadata": {},
   "source": [
    "#### Задание 9"
   ]
  },
  {
   "cell_type": "code",
   "execution_count": 16,
   "id": "1ed34df8",
   "metadata": {},
   "outputs": [
    {
     "name": "stderr",
     "output_type": "stream",
     "text": [
      "C:\\Users\\clank\\anaconda3\\lib\\site-packages\\seaborn\\_decorators.py:36: FutureWarning: Pass the following variables as keyword args: x, y. From version 0.12, the only valid positional argument will be `data`, and passing other arguments without an explicit keyword will result in an error or misinterpretation.\n",
      "  warnings.warn(\n"
     ]
    },
    {
     "data": {
      "image/png": "[encoded data removed]",
      "text/plain": [
       "<Figure size 1152x432 with 1 Axes>"
      ]
     },
     "metadata": {},
     "output_type": "display_data"
    }
   ],
   "source": [
    "fig, ax = plt.subplots(1, 1, figsize=(16, 6))\n",
    "predict = lin_reg.fittedvalues\n",
    "error = np.log(df['wage']) - predict\n",
    "\n",
    "sns.scatterplot(predict, error)\n",
    "plt.axhline(y=0,\n",
    "            color='g')\n",
    "plt.xlabel('predict', fontsize=16)\n",
    "plt.ylabel('error', fontsize=16);"
   ]
  },
  {
   "cell_type": "markdown",
   "id": "ed9abdba",
   "metadata": {},
   "source": [
    "#### Задание 10"
   ]
  },
  {
   "cell_type": "markdown",
   "id": "1a1e5a8d",
   "metadata": {},
   "source": [
    "**0) Анализ графиков**"
   ]
  },
  {
   "cell_type": "markdown",
   "id": "0652f47e",
   "metadata": {},
   "source": [
    "В прошлом задании, анализируя график остатков, можно прийти к выводу, что гетероскедастичности нет, так как остатки равномерно прижаты к 0 и нет расширения десперсии в остатках в определенных участках "
   ]
  },
  {
   "cell_type": "markdown",
   "id": "4e1a96bb",
   "metadata": {},
   "source": [
    "**1) Тест Уайта**\n",
    "\n",
    "*Источник: https://towardsdatascience.com/a-tutorial-on-whites-heteroskedasticity-consistent-estimator-using-python-and-statsmodels-7d38789150d1*\n",
    "\n",
    "https://www.codecamp.ru/blog/white-test-in-python/?ysclid=lb54194yeh23172096"
   ]
  },
  {
   "cell_type": "markdown",
   "id": "78dc32f6",
   "metadata": {},
   "source": [
    "$$\n",
    "\\begin{aligned}\n",
    "&H_0: \\text{присутствует гомоскедастичность (остатки равномерно разбросаны)}\\\\\n",
    "&H_1: \\text{присутствует гетероскедастичность (остатки разбросаны неравномерно)}\n",
    "\\end{aligned}\n",
    "$$\n"
   ]
  },
  {
   "cell_type": "markdown",
   "id": "495ed0d0",
   "metadata": {},
   "source": [
    "$$\n",
    "H_0: \\sigma^2_{\\epsilon_i} = \\sigma^2, \\\\\n",
    "Var_{\\epsilon_i} = \\sigma^2;\\\\\n",
    "H_1: Var_{\\epsilon_i} = \\sigma^2_i\n",
    "$$"
   ]
  },
  {
   "cell_type": "code",
   "execution_count": 17,
   "id": "97caec4b",
   "metadata": {},
   "outputs": [],
   "source": [
    "from statsmodels.stats.diagnostic import het_white"
   ]
  },
  {
   "cell_type": "code",
   "execution_count": 21,
   "id": "7ca98001",
   "metadata": {},
   "outputs": [],
   "source": [
    "labels = ['Test Statistic', 'Test Statistic p-value', 'F-Statistic', 'F-Test p-value']\n",
    "white_test = het_white(lin_reg.resid, lin_reg.model.exog)\n",
    "\n",
    "white_res = dict(zip(labels, white_test))"
   ]
  },
  {
   "cell_type": "code",
   "execution_count": 22,
   "id": "4861eec2",
   "metadata": {},
   "outputs": [
    {
     "data": {
      "text/plain": [
       "{'Test Statistic': 17.070898060814844,\n",
       " 'Test Statistic p-value': 0.44957281582487946,\n",
       " 'F-Statistic': 0.9883382842268531,\n",
       " 'F-Test p-value': 0.4834046424109463}"
      ]
     },
     "execution_count": 22,
     "metadata": {},
     "output_type": "execute_result"
    }
   ],
   "source": [
    "white_res"
   ]
  },
  {
   "cell_type": "code",
   "execution_count": 25,
   "id": "e0a3d85f",
   "metadata": {},
   "outputs": [
    {
     "name": "stdout",
     "output_type": "stream",
     "text": [
      "Ho не отвергается на уровне значимости 0.01: p-value = 0.44957281582487946 \n",
      "Ho не отвергается на уровне значимости 0.05: p-value = 0.44957281582487946 \n",
      "Ho не отвергается на уровне значимости 0.1: p-value = 0.44957281582487946 \n"
     ]
    }
   ],
   "source": [
    "for alpha in alphas:\n",
    "    make_hyp_test(alpha, white_res['Test Statistic p-value'])"
   ]
  },
  {
   "cell_type": "markdown",
   "id": "bee90afc",
   "metadata": {},
   "source": [
    "Так как нулевая гипотеза теста Уайта не отвергается на любом адекватном уровне значимости, то гетероскедастичности в данных нет"
   ]
  },
  {
   "cell_type": "markdown",
   "id": "cddd2528",
   "metadata": {},
   "source": [
    "**2) Тест Бройша-Пагана**"
   ]
  },
  {
   "cell_type": "markdown",
   "id": "f10c0fe4",
   "metadata": {},
   "source": [
    "*Источники: https://www.statology.org/breusch-pagan-test-python/*\n",
    "\n",
    "*https://www.statsmodels.org/dev/generated/statsmodels.stats.diagnostic.het_breuschpagan.html*"
   ]
  },
  {
   "cell_type": "code",
   "execution_count": 26,
   "id": "0110da03",
   "metadata": {},
   "outputs": [],
   "source": [
    "from statsmodels.stats.diagnostic import het_breuschpagan"
   ]
  },
  {
   "cell_type": "code",
   "execution_count": 27,
   "id": "7265c7a8",
   "metadata": {},
   "outputs": [],
   "source": [
    "labels = ['Lagrange multiplier statistic', 'p-value', 'f-value', 'f p-value']\n",
    "bp_test = het_breuschpagan(lin_reg.resid, lin_reg.model.exog)\n",
    "\n",
    "bp_res = dict(zip(labels, bp_test))"
   ]
  },
  {
   "cell_type": "code",
   "execution_count": 28,
   "id": "f7058f24",
   "metadata": {},
   "outputs": [
    {
     "data": {
      "text/plain": [
       "{'Lagrange multiplier statistic': 7.061461467289602,\n",
       " 'p-value': 0.2161093274164172,\n",
       " 'f-value': 1.4340376608817504,\n",
       " 'f p-value': 0.22286951516118467}"
      ]
     },
     "execution_count": 28,
     "metadata": {},
     "output_type": "execute_result"
    }
   ],
   "source": [
    "bp_res"
   ]
  },
  {
   "cell_type": "code",
   "execution_count": 29,
   "id": "5d336c8d",
   "metadata": {},
   "outputs": [
    {
     "name": "stdout",
     "output_type": "stream",
     "text": [
      "Ho не отвергается на уровне значимости 0.01: p-value = 0.22286951516118467 \n",
      "Ho не отвергается на уровне значимости 0.05: p-value = 0.22286951516118467 \n",
      "Ho не отвергается на уровне значимости 0.1: p-value = 0.22286951516118467 \n"
     ]
    }
   ],
   "source": [
    "for alpha in alphas:\n",
    "    make_hyp_test(alpha, bp_res['f p-value'])\n",
    "#В статье утверждается, что на малых выборках значение LM теста, может быть переоценено\n",
    "# поэтому используем F-тест и соответсущее p-value"
   ]
  },
  {
   "cell_type": "markdown",
   "id": "ca2fd5a3",
   "metadata": {},
   "source": [
    "Так как нулевая гипотеза теста Бройша-Пагана не отвергается на любом адекватном уровне значимости, то гетероскедастичности в данных так же нет"
   ]
  },
  {
   "cell_type": "markdown",
   "id": "31874b22",
   "metadata": {},
   "source": [
    "Модель имеет вид:"
   ]
  },
  {
   "cell_type": "markdown",
   "id": "9f236236",
   "metadata": {},
   "source": [
    "$$\n",
    "\\begin{aligned}\n",
    "\\hat{wage} = \\hat{\\beta_0} + \\hat{\\beta_1} age + \\hat{\\beta_2}  high + \\hat{\\beta_3} male + \\hat{\\beta_4}  children + \\hat{\\beta_5}  urban\n",
    "\\end{aligned}\n",
    "$$"
   ]
  },
  {
   "cell_type": "markdown",
   "id": "5cb0f318",
   "metadata": {},
   "source": [
    "#### Задание 11"
   ]
  },
  {
   "cell_type": "code",
   "execution_count": 10,
   "id": "e47be3bc",
   "metadata": {},
   "outputs": [],
   "source": [
    "from statsmodels.stats.outliers_influence import reset_ramsey"
   ]
  },
  {
   "cell_type": "code",
   "execution_count": 11,
   "id": "499b0949",
   "metadata": {},
   "outputs": [],
   "source": [
    "log_reg = lr.ols('np.log(wage) ~ np.log(age) + high + male + children + urban',\n",
    "                  data=df).fit()"
   ]
  },
  {
   "cell_type": "code",
   "execution_count": 14,
   "id": "8694adcb",
   "metadata": {},
   "outputs": [
    {
     "data": {
      "text/plain": [
       "<class 'statsmodels.stats.contrast.ContrastResults'>\n",
       "<F test: F=0.9398444824530897, p=0.33570389592790617, df_denom=69, df_num=1>"
      ]
     },
     "execution_count": 14,
     "metadata": {},
     "output_type": "execute_result"
    }
   ],
   "source": [
    "reset_ramsey(log_reg, degree=2)"
   ]
  },
  {
   "cell_type": "markdown",
   "id": "8536d81a",
   "metadata": {},
   "source": [
    "**Вывод:** нулевая гипотеза не отвергется на любом адекватном уровне значимости, а следовательно модель задана верно и все зависимости учтены "
   ]
  },
  {
   "cell_type": "markdown",
   "id": "b03dff49",
   "metadata": {},
   "source": [
    "#### Задание 12"
   ]
  },
  {
   "cell_type": "markdown",
   "id": "afdf9f33",
   "metadata": {},
   "source": [
    "Рассмотрим уровень значимости $\\alpha = 0.1$. Тогда значимые признаки:\n",
    "* age - возраст\n",
    "* male - 1 if есть cock and balls 0 else\n",
    "* children - количество детей\n",
    "\n",
    "Модель имеет вид:\n",
    "$$\n",
    "\\begin{aligned}\n",
    "ln(\\hat{wage}) = \\hat{\\beta_0} +  \\hat{\\beta_1}ln(age) + \\hat{\\beta_2} male + \\hat{\\beta_3}  children \n",
    "\\end{aligned}\n",
    "$$"
   ]
  },
  {
   "cell_type": "code",
   "execution_count": 10,
   "id": "ec6164fb",
   "metadata": {},
   "outputs": [],
   "source": [
    "log_mod_sign = lr.ols('np.log(wage) ~ np.log(age) + male + children', data=df).fit()"
   ]
  },
  {
   "cell_type": "code",
   "execution_count": 11,
   "id": "ad6302a9",
   "metadata": {},
   "outputs": [
    {
     "data": {
      "text/html": [
       "<table class=\"simpletable\">\n",
       "<caption>OLS Regression Results</caption>\n",
       "<tr>\n",
       "  <th>Dep. Variable:</th>      <td>np.log(wage)</td>   <th>  R-squared:         </th> <td>   0.209</td>\n",
       "</tr>\n",
       "<tr>\n",
       "  <th>Model:</th>                   <td>OLS</td>       <th>  Adj. R-squared:    </th> <td>   0.176</td>\n",
       "</tr>\n",
       "<tr>\n",
       "  <th>Method:</th>             <td>Least Squares</td>  <th>  F-statistic:       </th> <td>   6.342</td>\n",
       "</tr>\n",
       "<tr>\n",
       "  <th>Date:</th>             <td>Sun, 04 Dec 2022</td> <th>  Prob (F-statistic):</th> <td>0.000708</td>\n",
       "</tr>\n",
       "<tr>\n",
       "  <th>Time:</th>                 <td>21:06:48</td>     <th>  Log-Likelihood:    </th> <td> -69.035</td>\n",
       "</tr>\n",
       "<tr>\n",
       "  <th>No. Observations:</th>      <td>    76</td>      <th>  AIC:               </th> <td>   146.1</td>\n",
       "</tr>\n",
       "<tr>\n",
       "  <th>Df Residuals:</th>          <td>    72</td>      <th>  BIC:               </th> <td>   155.4</td>\n",
       "</tr>\n",
       "<tr>\n",
       "  <th>Df Model:</th>              <td>     3</td>      <th>                     </th>     <td> </td>   \n",
       "</tr>\n",
       "<tr>\n",
       "  <th>Covariance Type:</th>      <td>nonrobust</td>    <th>                     </th>     <td> </td>   \n",
       "</tr>\n",
       "</table>\n",
       "<table class=\"simpletable\">\n",
       "<tr>\n",
       "       <td></td>          <th>coef</th>     <th>std err</th>      <th>t</th>      <th>P>|t|</th>  <th>[0.025</th>    <th>0.975]</th>  \n",
       "</tr>\n",
       "<tr>\n",
       "  <th>Intercept</th>   <td>    7.7471</td> <td>    1.035</td> <td>    7.485</td> <td> 0.000</td> <td>    5.684</td> <td>    9.810</td>\n",
       "</tr>\n",
       "<tr>\n",
       "  <th>np.log(age)</th> <td>    0.5802</td> <td>    0.285</td> <td>    2.039</td> <td> 0.045</td> <td>    0.013</td> <td>    1.148</td>\n",
       "</tr>\n",
       "<tr>\n",
       "  <th>male</th>        <td>    0.4721</td> <td>    0.143</td> <td>    3.294</td> <td> 0.002</td> <td>    0.186</td> <td>    0.758</td>\n",
       "</tr>\n",
       "<tr>\n",
       "  <th>children</th>    <td>   -0.1490</td> <td>    0.083</td> <td>   -1.797</td> <td> 0.077</td> <td>   -0.314</td> <td>    0.016</td>\n",
       "</tr>\n",
       "</table>\n",
       "<table class=\"simpletable\">\n",
       "<tr>\n",
       "  <th>Omnibus:</th>       <td>43.012</td> <th>  Durbin-Watson:     </th> <td>   1.834</td>\n",
       "</tr>\n",
       "<tr>\n",
       "  <th>Prob(Omnibus):</th> <td> 0.000</td> <th>  Jarque-Bera (JB):  </th> <td> 217.339</td>\n",
       "</tr>\n",
       "<tr>\n",
       "  <th>Skew:</th>          <td>-1.543</td> <th>  Prob(JB):          </th> <td>6.39e-48</td>\n",
       "</tr>\n",
       "<tr>\n",
       "  <th>Kurtosis:</th>      <td>10.689</td> <th>  Cond. No.          </th> <td>    61.5</td>\n",
       "</tr>\n",
       "</table><br/><br/>Notes:<br/>[1] Standard Errors assume that the covariance matrix of the errors is correctly specified."
      ],
      "text/plain": [
       "<class 'statsmodels.iolib.summary.Summary'>\n",
       "\"\"\"\n",
       "                            OLS Regression Results                            \n",
       "==============================================================================\n",
       "Dep. Variable:           np.log(wage)   R-squared:                       0.209\n",
       "Model:                            OLS   Adj. R-squared:                  0.176\n",
       "Method:                 Least Squares   F-statistic:                     6.342\n",
       "Date:                Sun, 04 Dec 2022   Prob (F-statistic):           0.000708\n",
       "Time:                        21:06:48   Log-Likelihood:                -69.035\n",
       "No. Observations:                  76   AIC:                             146.1\n",
       "Df Residuals:                      72   BIC:                             155.4\n",
       "Df Model:                           3                                         \n",
       "Covariance Type:            nonrobust                                         \n",
       "===============================================================================\n",
       "                  coef    std err          t      P>|t|      [0.025      0.975]\n",
       "-------------------------------------------------------------------------------\n",
       "Intercept       7.7471      1.035      7.485      0.000       5.684       9.810\n",
       "np.log(age)     0.5802      0.285      2.039      0.045       0.013       1.148\n",
       "male            0.4721      0.143      3.294      0.002       0.186       0.758\n",
       "children       -0.1490      0.083     -1.797      0.077      -0.314       0.016\n",
       "==============================================================================\n",
       "Omnibus:                       43.012   Durbin-Watson:                   1.834\n",
       "Prob(Omnibus):                  0.000   Jarque-Bera (JB):              217.339\n",
       "Skew:                          -1.543   Prob(JB):                     6.39e-48\n",
       "Kurtosis:                      10.689   Cond. No.                         61.5\n",
       "==============================================================================\n",
       "\n",
       "Notes:\n",
       "[1] Standard Errors assume that the covariance matrix of the errors is correctly specified.\n",
       "\"\"\""
      ]
     },
     "execution_count": 11,
     "metadata": {},
     "output_type": "execute_result"
    }
   ],
   "source": [
    "log_mod_sign.summary()"
   ]
  },
  {
   "cell_type": "markdown",
   "id": "ccf1f3cd",
   "metadata": {},
   "source": [
    "$$\n",
    "\\begin{aligned}\n",
    "ln(\\hat{wage}) = 7.7471 +  0.5802*ln(age) + 0.4721*male -0.1490*children \n",
    "\\end{aligned}\n",
    "$$"
   ]
  },
  {
   "cell_type": "markdown",
   "id": "10f9c1ab",
   "metadata": {},
   "source": [
    "Нетрудно заметить, что $R^2$ модели со значимыми параметрами показывает качество хуже, чем на полной модели (0.209 < 0.205) Несмотря на то что $adjR^2$: (0.176>0.169), $AIC$: (146.1 < 148.8) и $BIC$: (155.4 < 162.6) показывает, что можель со значимыми переменными оказывается лучше первой, это лишь говорит о том, что модел обладает примуществом за счет компактности из-за  меньшего количества переменных в модели. Скорректированный $R^2$ оказался больше, так как при сокращении переменных он вырастет, аналогично при сокращении переменных в модели улучшится $AIC$ и $BIC$.\n",
    "\n",
    "**Резюме:** хоть и модель обладает большей компактностью и хорошей объясняющей способностью при меньшем количестве переменных, модель учитывающая все признаки все-таки будет лучше"
   ]
  },
  {
   "cell_type": "markdown",
   "id": "9a69c195",
   "metadata": {},
   "source": [
    "#### Задание 13"
   ]
  },
  {
   "cell_type": "markdown",
   "id": "d584d1a2",
   "metadata": {},
   "source": [
    "#### Задание 14"
   ]
  }
 ],
 "metadata": {
  "kernelspec": {
   "display_name": "Python 3 (ipykernel)",
   "language": "python",
   "name": "python3"
  },
  "language_info": {
   "codemirror_mode": {
    "name": "ipython",
    "version": 3
   },
   "file_extension": ".py",
   "mimetype": "text/x-python",
   "name": "python",
   "nbconvert_exporter": "python",
   "pygments_lexer": "ipython3",
   "version": "3.9.12"
  }
 },
 "nbformat": 4,
 "nbformat_minor": 5
}
