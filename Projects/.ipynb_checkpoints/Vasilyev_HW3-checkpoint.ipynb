{
 "cells": [
  {
   "cell_type": "markdown",
   "id": "75c9a997",
   "metadata": {},
   "source": [
    "# Домашнее задание 3\n",
    "\n",
    "**Васильев Н.Н.** \n",
    "\n",
    "*Вариант 8*"
   ]
  },
  {
   "cell_type": "code",
   "execution_count": 55,
   "id": "6794dbeb",
   "metadata": {},
   "outputs": [],
   "source": [
    "import pandas as pd\n",
    "import numpy as np\n",
    "import math\n",
    "\n",
    "import matplotlib.pyplot as plt\n",
    "import seaborn as sns\n",
    "\n",
    "from scipy import stats as st\n",
    "import statsmodels.formula.api as lr\n",
    "import statsmodels.api as sm\n",
    "\n",
    "sns.set_style(\"whitegrid\")\n",
    "sns.set_palette('husl')"
   ]
  },
  {
   "cell_type": "markdown",
   "id": "a26ae9b1",
   "metadata": {},
   "source": [
    "#### Задание 0"
   ]
  },
  {
   "cell_type": "code",
   "execution_count": 56,
   "id": "d32790d3",
   "metadata": {},
   "outputs": [],
   "source": [
    "df = pd.read_excel('Homework_2022.xlsx', index_col='idind')"
   ]
  },
  {
   "cell_type": "code",
   "execution_count": 57,
   "id": "fcc984d0",
   "metadata": {},
   "outputs": [
    {
     "data": {
      "text/plain": [
       "(3871, 86)"
      ]
     },
     "execution_count": 57,
     "metadata": {},
     "output_type": "execute_result"
    }
   ],
   "source": [
    "df.shape"
   ]
  },
  {
   "cell_type": "code",
   "execution_count": 58,
   "id": "7d739a11",
   "metadata": {},
   "outputs": [
    {
     "data": {
      "text/html": [
       "<div>\n",
       "<style scoped>\n",
       "    .dataframe tbody tr th:only-of-type {\n",
       "        vertical-align: middle;\n",
       "    }\n",
       "\n",
       "    .dataframe tbody tr th {\n",
       "        vertical-align: top;\n",
       "    }\n",
       "\n",
       "    .dataframe thead th {\n",
       "        text-align: right;\n",
       "    }\n",
       "</style>\n",
       "<table border=\"1\" class=\"dataframe\">\n",
       "  <thead>\n",
       "    <tr style=\"text-align: right;\">\n",
       "      <th></th>\n",
       "      <th>psu</th>\n",
       "      <th>status</th>\n",
       "      <th>age</th>\n",
       "      <th>male</th>\n",
       "      <th>industry</th>\n",
       "      <th>wage</th>\n",
       "      <th>public</th>\n",
       "      <th>internet</th>\n",
       "      <th>children</th>\n",
       "      <th>urban</th>\n",
       "      <th>...</th>\n",
       "      <th>id66</th>\n",
       "      <th>id67</th>\n",
       "      <th>id68</th>\n",
       "      <th>id69</th>\n",
       "      <th>id70</th>\n",
       "      <th>id71</th>\n",
       "      <th>id72</th>\n",
       "      <th>id73</th>\n",
       "      <th>id74</th>\n",
       "      <th>id75</th>\n",
       "    </tr>\n",
       "    <tr>\n",
       "      <th>idind</th>\n",
       "      <th></th>\n",
       "      <th></th>\n",
       "      <th></th>\n",
       "      <th></th>\n",
       "      <th></th>\n",
       "      <th></th>\n",
       "      <th></th>\n",
       "      <th></th>\n",
       "      <th></th>\n",
       "      <th></th>\n",
       "      <th></th>\n",
       "      <th></th>\n",
       "      <th></th>\n",
       "      <th></th>\n",
       "      <th></th>\n",
       "      <th></th>\n",
       "      <th></th>\n",
       "      <th></th>\n",
       "      <th></th>\n",
       "      <th></th>\n",
       "      <th></th>\n",
       "    </tr>\n",
       "  </thead>\n",
       "  <tbody>\n",
       "    <tr>\n",
       "      <th>1</th>\n",
       "      <td>Волосовский</td>\n",
       "      <td>ПГТ</td>\n",
       "      <td>60</td>\n",
       "      <td>1</td>\n",
       "      <td>НАУКА, КУЛЬТ</td>\n",
       "      <td>9500</td>\n",
       "      <td>0</td>\n",
       "      <td>1</td>\n",
       "      <td>2</td>\n",
       "      <td>1</td>\n",
       "      <td>...</td>\n",
       "      <td>0</td>\n",
       "      <td>0</td>\n",
       "      <td>0</td>\n",
       "      <td>0</td>\n",
       "      <td>0</td>\n",
       "      <td>0</td>\n",
       "      <td>0</td>\n",
       "      <td>0</td>\n",
       "      <td>1</td>\n",
       "      <td>0</td>\n",
       "    </tr>\n",
       "    <tr>\n",
       "      <th>2</th>\n",
       "      <td>Волосовский</td>\n",
       "      <td>Село</td>\n",
       "      <td>41</td>\n",
       "      <td>0</td>\n",
       "      <td>ОБРАЗОВАНИЕ</td>\n",
       "      <td>48500</td>\n",
       "      <td>1</td>\n",
       "      <td>1</td>\n",
       "      <td>1</td>\n",
       "      <td>0</td>\n",
       "      <td>...</td>\n",
       "      <td>1</td>\n",
       "      <td>0</td>\n",
       "      <td>0</td>\n",
       "      <td>0</td>\n",
       "      <td>1</td>\n",
       "      <td>0</td>\n",
       "      <td>0</td>\n",
       "      <td>0</td>\n",
       "      <td>1</td>\n",
       "      <td>0</td>\n",
       "    </tr>\n",
       "    <tr>\n",
       "      <th>3</th>\n",
       "      <td>Волосовский</td>\n",
       "      <td>Село</td>\n",
       "      <td>54</td>\n",
       "      <td>0</td>\n",
       "      <td>СЕЛЬСКОЕ ХОЗ</td>\n",
       "      <td>36500</td>\n",
       "      <td>0</td>\n",
       "      <td>1</td>\n",
       "      <td>3</td>\n",
       "      <td>0</td>\n",
       "      <td>...</td>\n",
       "      <td>0</td>\n",
       "      <td>0</td>\n",
       "      <td>0</td>\n",
       "      <td>0</td>\n",
       "      <td>0</td>\n",
       "      <td>0</td>\n",
       "      <td>0</td>\n",
       "      <td>0</td>\n",
       "      <td>0</td>\n",
       "      <td>1</td>\n",
       "    </tr>\n",
       "    <tr>\n",
       "      <th>4</th>\n",
       "      <td>Волосовский</td>\n",
       "      <td>Село</td>\n",
       "      <td>48</td>\n",
       "      <td>1</td>\n",
       "      <td>СЕЛЬСКОЕ ХОЗ</td>\n",
       "      <td>20500</td>\n",
       "      <td>0</td>\n",
       "      <td>0</td>\n",
       "      <td>1</td>\n",
       "      <td>0</td>\n",
       "      <td>...</td>\n",
       "      <td>0</td>\n",
       "      <td>0</td>\n",
       "      <td>0</td>\n",
       "      <td>0</td>\n",
       "      <td>0</td>\n",
       "      <td>0</td>\n",
       "      <td>0</td>\n",
       "      <td>0</td>\n",
       "      <td>0</td>\n",
       "      <td>1</td>\n",
       "    </tr>\n",
       "    <tr>\n",
       "      <th>5</th>\n",
       "      <td>Волосовский</td>\n",
       "      <td>Село</td>\n",
       "      <td>55</td>\n",
       "      <td>0</td>\n",
       "      <td>ЗДРАВООХРАНЕ</td>\n",
       "      <td>30500</td>\n",
       "      <td>1</td>\n",
       "      <td>1</td>\n",
       "      <td>1</td>\n",
       "      <td>0</td>\n",
       "      <td>...</td>\n",
       "      <td>1</td>\n",
       "      <td>0</td>\n",
       "      <td>0</td>\n",
       "      <td>0</td>\n",
       "      <td>0</td>\n",
       "      <td>0</td>\n",
       "      <td>0</td>\n",
       "      <td>0</td>\n",
       "      <td>1</td>\n",
       "      <td>0</td>\n",
       "    </tr>\n",
       "  </tbody>\n",
       "</table>\n",
       "<p>5 rows × 86 columns</p>\n",
       "</div>"
      ],
      "text/plain": [
       "               psu status  age  male      industry   wage  public  internet  \\\n",
       "idind                                                                         \n",
       "1      Волосовский    ПГТ   60     1  НАУКА, КУЛЬТ   9500       0         1   \n",
       "2      Волосовский   Село   41     0   ОБРАЗОВАНИЕ  48500       1         1   \n",
       "3      Волосовский   Село   54     0  СЕЛЬСКОЕ ХОЗ  36500       0         1   \n",
       "4      Волосовский   Село   48     1  СЕЛЬСКОЕ ХОЗ  20500       0         0   \n",
       "5      Волосовский   Село   55     0  ЗДРАВООХРАНЕ  30500       1         1   \n",
       "\n",
       "       children  urban  ...  id66  id67  id68  id69  id70  id71  id72  id73  \\\n",
       "idind                   ...                                                   \n",
       "1             2      1  ...     0     0     0     0     0     0     0     0   \n",
       "2             1      0  ...     1     0     0     0     1     0     0     0   \n",
       "3             3      0  ...     0     0     0     0     0     0     0     0   \n",
       "4             1      0  ...     0     0     0     0     0     0     0     0   \n",
       "5             1      0  ...     1     0     0     0     0     0     0     0   \n",
       "\n",
       "       id74  id75  \n",
       "idind              \n",
       "1         1     0  \n",
       "2         1     0  \n",
       "3         0     1  \n",
       "4         0     1  \n",
       "5         1     0  \n",
       "\n",
       "[5 rows x 86 columns]"
      ]
     },
     "execution_count": 58,
     "metadata": {},
     "output_type": "execute_result"
    }
   ],
   "source": [
    "df.head()"
   ]
  },
  {
   "cell_type": "markdown",
   "id": "5cf41c09",
   "metadata": {},
   "source": [
    "Удалим ненужные айди дамми-переменные после отбора собственного варианта (8)"
   ]
  },
  {
   "cell_type": "code",
   "execution_count": 59,
   "id": "6c1f4d2d",
   "metadata": {},
   "outputs": [],
   "source": [
    "cols_to_drop = [x for x in df.columns if 'id' in x]"
   ]
  },
  {
   "cell_type": "code",
   "execution_count": 60,
   "id": "de78fca1",
   "metadata": {},
   "outputs": [],
   "source": [
    "df = df[df['id8'] == 1].drop(cols_to_drop, axis=1)"
   ]
  },
  {
   "cell_type": "code",
   "execution_count": 61,
   "id": "82f2c5a2",
   "metadata": {},
   "outputs": [],
   "source": [
    "df['high'] = df['educ'].apply(lambda x: 0 if x != 3 else 1)"
   ]
  },
  {
   "cell_type": "code",
   "execution_count": 62,
   "id": "7c97a290",
   "metadata": {},
   "outputs": [
    {
     "data": {
      "text/html": [
       "<div>\n",
       "<style scoped>\n",
       "    .dataframe tbody tr th:only-of-type {\n",
       "        vertical-align: middle;\n",
       "    }\n",
       "\n",
       "    .dataframe tbody tr th {\n",
       "        vertical-align: top;\n",
       "    }\n",
       "\n",
       "    .dataframe thead th {\n",
       "        text-align: right;\n",
       "    }\n",
       "</style>\n",
       "<table border=\"1\" class=\"dataframe\">\n",
       "  <thead>\n",
       "    <tr style=\"text-align: right;\">\n",
       "      <th></th>\n",
       "      <th>psu</th>\n",
       "      <th>status</th>\n",
       "      <th>age</th>\n",
       "      <th>male</th>\n",
       "      <th>industry</th>\n",
       "      <th>wage</th>\n",
       "      <th>public</th>\n",
       "      <th>internet</th>\n",
       "      <th>children</th>\n",
       "      <th>urban</th>\n",
       "      <th>educ</th>\n",
       "      <th>high</th>\n",
       "    </tr>\n",
       "    <tr>\n",
       "      <th>idind</th>\n",
       "      <th></th>\n",
       "      <th></th>\n",
       "      <th></th>\n",
       "      <th></th>\n",
       "      <th></th>\n",
       "      <th></th>\n",
       "      <th></th>\n",
       "      <th></th>\n",
       "      <th></th>\n",
       "      <th></th>\n",
       "      <th></th>\n",
       "      <th></th>\n",
       "    </tr>\n",
       "  </thead>\n",
       "  <tbody>\n",
       "    <tr>\n",
       "      <th>163</th>\n",
       "      <td>Ржев и Ржевс</td>\n",
       "      <td>Город</td>\n",
       "      <td>30</td>\n",
       "      <td>1</td>\n",
       "      <td>ТОРГОВЛЯ, БЫ</td>\n",
       "      <td>30500</td>\n",
       "      <td>0</td>\n",
       "      <td>1</td>\n",
       "      <td>1</td>\n",
       "      <td>1</td>\n",
       "      <td>0</td>\n",
       "      <td>0</td>\n",
       "    </tr>\n",
       "    <tr>\n",
       "      <th>164</th>\n",
       "      <td>Ржев и Ржевс</td>\n",
       "      <td>Город</td>\n",
       "      <td>57</td>\n",
       "      <td>1</td>\n",
       "      <td>ВОЕННО-ПРОМЫ</td>\n",
       "      <td>30500</td>\n",
       "      <td>0</td>\n",
       "      <td>1</td>\n",
       "      <td>2</td>\n",
       "      <td>1</td>\n",
       "      <td>1</td>\n",
       "      <td>0</td>\n",
       "    </tr>\n",
       "    <tr>\n",
       "      <th>165</th>\n",
       "      <td>Ржев и Ржевс</td>\n",
       "      <td>Город</td>\n",
       "      <td>46</td>\n",
       "      <td>1</td>\n",
       "      <td>АРМИЯ, МВД,</td>\n",
       "      <td>53500</td>\n",
       "      <td>1</td>\n",
       "      <td>1</td>\n",
       "      <td>1</td>\n",
       "      <td>1</td>\n",
       "      <td>1</td>\n",
       "      <td>0</td>\n",
       "    </tr>\n",
       "    <tr>\n",
       "      <th>166</th>\n",
       "      <td>Ржев и Ржевс</td>\n",
       "      <td>Город</td>\n",
       "      <td>34</td>\n",
       "      <td>1</td>\n",
       "      <td>ЭНЕРГЕТИЧЕСК</td>\n",
       "      <td>14500</td>\n",
       "      <td>0</td>\n",
       "      <td>1</td>\n",
       "      <td>2</td>\n",
       "      <td>1</td>\n",
       "      <td>2</td>\n",
       "      <td>0</td>\n",
       "    </tr>\n",
       "    <tr>\n",
       "      <th>167</th>\n",
       "      <td>Ржев и Ржевс</td>\n",
       "      <td>Город</td>\n",
       "      <td>28</td>\n",
       "      <td>0</td>\n",
       "      <td>ТРАНСПОРТ, С</td>\n",
       "      <td>550</td>\n",
       "      <td>1</td>\n",
       "      <td>1</td>\n",
       "      <td>2</td>\n",
       "      <td>1</td>\n",
       "      <td>1</td>\n",
       "      <td>0</td>\n",
       "    </tr>\n",
       "  </tbody>\n",
       "</table>\n",
       "</div>"
      ],
      "text/plain": [
       "                psu status  age  male      industry   wage  public  internet  \\\n",
       "idind                                                                          \n",
       "163    Ржев и Ржевс  Город   30     1  ТОРГОВЛЯ, БЫ  30500       0         1   \n",
       "164    Ржев и Ржевс  Город   57     1  ВОЕННО-ПРОМЫ  30500       0         1   \n",
       "165    Ржев и Ржевс  Город   46     1   АРМИЯ, МВД,  53500       1         1   \n",
       "166    Ржев и Ржевс  Город   34     1  ЭНЕРГЕТИЧЕСК  14500       0         1   \n",
       "167    Ржев и Ржевс  Город   28     0  ТРАНСПОРТ, С    550       1         1   \n",
       "\n",
       "       children  urban  educ  high  \n",
       "idind                               \n",
       "163           1      1     0     0  \n",
       "164           2      1     1     0  \n",
       "165           1      1     1     0  \n",
       "166           2      1     2     0  \n",
       "167           2      1     1     0  "
      ]
     },
     "execution_count": 62,
     "metadata": {},
     "output_type": "execute_result"
    }
   ],
   "source": [
    "df.head()"
   ]
  },
  {
   "cell_type": "markdown",
   "id": "aea38d5a",
   "metadata": {},
   "source": [
    "#### Задание 1"
   ]
  },
  {
   "cell_type": "code",
   "execution_count": 63,
   "id": "91731ab5",
   "metadata": {},
   "outputs": [
    {
     "data": {
      "text/html": [
       "<table class=\"simpletable\">\n",
       "<caption>OLS Regression Results</caption>\n",
       "<tr>\n",
       "  <th>Dep. Variable:</th>          <td>wage</td>       <th>  R-squared:         </th> <td>   0.179</td>\n",
       "</tr>\n",
       "<tr>\n",
       "  <th>Model:</th>                   <td>OLS</td>       <th>  Adj. R-squared:    </th> <td>   0.120</td>\n",
       "</tr>\n",
       "<tr>\n",
       "  <th>Method:</th>             <td>Least Squares</td>  <th>  F-statistic:       </th> <td>   3.047</td>\n",
       "</tr>\n",
       "<tr>\n",
       "  <th>Date:</th>             <td>Thu, 15 Dec 2022</td> <th>  Prob (F-statistic):</th>  <td>0.0152</td> \n",
       "</tr>\n",
       "<tr>\n",
       "  <th>Time:</th>                 <td>23:09:14</td>     <th>  Log-Likelihood:    </th> <td> -826.90</td>\n",
       "</tr>\n",
       "<tr>\n",
       "  <th>No. Observations:</th>      <td>    76</td>      <th>  AIC:               </th> <td>   1666.</td>\n",
       "</tr>\n",
       "<tr>\n",
       "  <th>Df Residuals:</th>          <td>    70</td>      <th>  BIC:               </th> <td>   1680.</td>\n",
       "</tr>\n",
       "<tr>\n",
       "  <th>Df Model:</th>              <td>     5</td>      <th>                     </th>     <td> </td>   \n",
       "</tr>\n",
       "<tr>\n",
       "  <th>Covariance Type:</th>      <td>nonrobust</td>    <th>                     </th>     <td> </td>   \n",
       "</tr>\n",
       "</table>\n",
       "<table class=\"simpletable\">\n",
       "<tr>\n",
       "      <td></td>         <th>coef</th>     <th>std err</th>      <th>t</th>      <th>P>|t|</th>  <th>[0.025</th>    <th>0.975]</th>  \n",
       "</tr>\n",
       "<tr>\n",
       "  <th>Intercept</th> <td> 1.124e+04</td> <td> 7585.899</td> <td>    1.481</td> <td> 0.143</td> <td>-3892.192</td> <td> 2.64e+04</td>\n",
       "</tr>\n",
       "<tr>\n",
       "  <th>age</th>       <td>  166.6659</td> <td>  161.319</td> <td>    1.033</td> <td> 0.305</td> <td> -155.074</td> <td>  488.406</td>\n",
       "</tr>\n",
       "<tr>\n",
       "  <th>high</th>      <td> 1398.1497</td> <td> 3385.128</td> <td>    0.413</td> <td> 0.681</td> <td>-5353.275</td> <td> 8149.574</td>\n",
       "</tr>\n",
       "<tr>\n",
       "  <th>male</th>      <td>  1.05e+04</td> <td> 3154.606</td> <td>    3.327</td> <td> 0.001</td> <td> 4203.739</td> <td> 1.68e+04</td>\n",
       "</tr>\n",
       "<tr>\n",
       "  <th>children</th>  <td>-1846.0447</td> <td> 1853.701</td> <td>   -0.996</td> <td> 0.323</td> <td>-5543.136</td> <td> 1851.046</td>\n",
       "</tr>\n",
       "<tr>\n",
       "  <th>urban</th>     <td> 4028.3575</td> <td> 3952.295</td> <td>    1.019</td> <td> 0.312</td> <td>-3854.246</td> <td> 1.19e+04</td>\n",
       "</tr>\n",
       "</table>\n",
       "<table class=\"simpletable\">\n",
       "<tr>\n",
       "  <th>Omnibus:</th>       <td>44.579</td> <th>  Durbin-Watson:     </th> <td>   1.811</td>\n",
       "</tr>\n",
       "<tr>\n",
       "  <th>Prob(Omnibus):</th> <td> 0.000</td> <th>  Jarque-Bera (JB):  </th> <td> 153.290</td>\n",
       "</tr>\n",
       "<tr>\n",
       "  <th>Skew:</th>          <td> 1.829</td> <th>  Prob(JB):          </th> <td>5.17e-34</td>\n",
       "</tr>\n",
       "<tr>\n",
       "  <th>Kurtosis:</th>      <td> 8.918</td> <th>  Cond. No.          </th> <td>    215.</td>\n",
       "</tr>\n",
       "</table><br/><br/>Notes:<br/>[1] Standard Errors assume that the covariance matrix of the errors is correctly specified."
      ],
      "text/plain": [
       "<class 'statsmodels.iolib.summary.Summary'>\n",
       "\"\"\"\n",
       "                            OLS Regression Results                            \n",
       "==============================================================================\n",
       "Dep. Variable:                   wage   R-squared:                       0.179\n",
       "Model:                            OLS   Adj. R-squared:                  0.120\n",
       "Method:                 Least Squares   F-statistic:                     3.047\n",
       "Date:                Thu, 15 Dec 2022   Prob (F-statistic):             0.0152\n",
       "Time:                        23:09:14   Log-Likelihood:                -826.90\n",
       "No. Observations:                  76   AIC:                             1666.\n",
       "Df Residuals:                      70   BIC:                             1680.\n",
       "Df Model:                           5                                         \n",
       "Covariance Type:            nonrobust                                         \n",
       "==============================================================================\n",
       "                 coef    std err          t      P>|t|      [0.025      0.975]\n",
       "------------------------------------------------------------------------------\n",
       "Intercept   1.124e+04   7585.899      1.481      0.143   -3892.192    2.64e+04\n",
       "age          166.6659    161.319      1.033      0.305    -155.074     488.406\n",
       "high        1398.1497   3385.128      0.413      0.681   -5353.275    8149.574\n",
       "male         1.05e+04   3154.606      3.327      0.001    4203.739    1.68e+04\n",
       "children   -1846.0447   1853.701     -0.996      0.323   -5543.136    1851.046\n",
       "urban       4028.3575   3952.295      1.019      0.312   -3854.246    1.19e+04\n",
       "==============================================================================\n",
       "Omnibus:                       44.579   Durbin-Watson:                   1.811\n",
       "Prob(Omnibus):                  0.000   Jarque-Bera (JB):              153.290\n",
       "Skew:                           1.829   Prob(JB):                     5.17e-34\n",
       "Kurtosis:                       8.918   Cond. No.                         215.\n",
       "==============================================================================\n",
       "\n",
       "Notes:\n",
       "[1] Standard Errors assume that the covariance matrix of the errors is correctly specified.\n",
       "\"\"\""
      ]
     },
     "execution_count": 63,
     "metadata": {},
     "output_type": "execute_result"
    }
   ],
   "source": [
    "lin_reg = lr.ols('wage ~ age + high + male + children + urban', data=df).fit()\n",
    "lin_reg.summary()"
   ]
  },
  {
   "cell_type": "markdown",
   "id": "68043dfb",
   "metadata": {},
   "source": [
    "Модель имеет вид:"
   ]
  },
  {
   "cell_type": "markdown",
   "id": "fea539cf",
   "metadata": {},
   "source": [
    "$$\n",
    "\\begin{aligned}\n",
    "\\hat{wage} = \\hat{\\beta_0} +  \\hat{\\beta_1}  age +\\hat{\\beta_2}  high + \\hat{\\beta_3} male + \\hat{\\beta_4}  children + \\hat{\\beta_5}  urban\n",
    "\\end{aligned}\n",
    "$$"
   ]
  },
  {
   "cell_type": "markdown",
   "id": "e94c73dd",
   "metadata": {},
   "source": [
    "Результат:\n",
    "* $R^2$ =0.179; $adj R^2$ = 0.120; $AIC$ = 1666; $BIC$ = 1680. В целом модель получилось не оченб хорошей, она объясняет все лишь 18% отклонений, поэтому качество у нее достаточно скудное\n",
    "* age - p-value = 0.305 => признак является не значимым. При увеличении возраста на 1 год можно ожидать увеличение зп на 167 рублей\n",
    "* high - p-value = 0.721 => коэффицикент оказался самым не значимым по всей модели. Наличие высшего повысит зп на каких-то 1400 рублей\n",
    "* male - p-value = 0.001 достаточно близок к нулю, пол является достаточно хорошим  объясняющим фактором для заработной платы в Тверской области)). Если мужчина то получаешь на 10500 больше\n",
    "* children - p-value = 0.429 => признак является не значимым. Каждый ребенок уменьшает зп на 1846 рублей\n",
    "* urban - p-value = 0.249. Так же является незначимым на любом адекватном уровне доверия. Факт проживания в городе увеличит зп на 4к. Но не стоит потутать с фактом что в городе зп больше, чем в округе "
   ]
  },
  {
   "cell_type": "markdown",
   "id": "08d038bb",
   "metadata": {},
   "source": [
    "Итоговая модель:\n",
    "$$\n",
    "\\begin{aligned}\n",
    "\\hat{wage} = (1.24e+04) + 166.6659* age + 1398 *high + (1.05e+04)* male  -1846.0447* children + 4028.3575\t *urban\n",
    "\\end{aligned}\n",
    "$$"
   ]
  },
  {
   "cell_type": "markdown",
   "id": "c714eb30",
   "metadata": {},
   "source": [
    "#### Задание 2"
   ]
  },
  {
   "cell_type": "code",
   "execution_count": 64,
   "id": "d2bcf747",
   "metadata": {},
   "outputs": [
    {
     "data": {
      "text/html": [
       "<table class=\"simpletable\">\n",
       "<caption>OLS Regression Results</caption>\n",
       "<tr>\n",
       "  <th>Dep. Variable:</th>      <td>np.log(wage)</td>   <th>  R-squared:         </th> <td>   0.224</td>\n",
       "</tr>\n",
       "<tr>\n",
       "  <th>Model:</th>                   <td>OLS</td>       <th>  Adj. R-squared:    </th> <td>   0.169</td>\n",
       "</tr>\n",
       "<tr>\n",
       "  <th>Method:</th>             <td>Least Squares</td>  <th>  F-statistic:       </th> <td>   4.051</td>\n",
       "</tr>\n",
       "<tr>\n",
       "  <th>Date:</th>             <td>Thu, 15 Dec 2022</td> <th>  Prob (F-statistic):</th>  <td>0.00275</td>\n",
       "</tr>\n",
       "<tr>\n",
       "  <th>Time:</th>                 <td>23:09:18</td>     <th>  Log-Likelihood:    </th> <td> -68.287</td>\n",
       "</tr>\n",
       "<tr>\n",
       "  <th>No. Observations:</th>      <td>    76</td>      <th>  AIC:               </th> <td>   148.6</td>\n",
       "</tr>\n",
       "<tr>\n",
       "  <th>Df Residuals:</th>          <td>    70</td>      <th>  BIC:               </th> <td>   162.6</td>\n",
       "</tr>\n",
       "<tr>\n",
       "  <th>Df Model:</th>              <td>     5</td>      <th>                     </th>     <td> </td>   \n",
       "</tr>\n",
       "<tr>\n",
       "  <th>Covariance Type:</th>      <td>nonrobust</td>    <th>                     </th>     <td> </td>   \n",
       "</tr>\n",
       "</table>\n",
       "<table class=\"simpletable\">\n",
       "<tr>\n",
       "      <td></td>         <th>coef</th>     <th>std err</th>      <th>t</th>      <th>P>|t|</th>  <th>[0.025</th>    <th>0.975]</th>  \n",
       "</tr>\n",
       "<tr>\n",
       "  <th>Intercept</th> <td>    9.1472</td> <td>    0.351</td> <td>   26.079</td> <td> 0.000</td> <td>    8.448</td> <td>    9.847</td>\n",
       "</tr>\n",
       "<tr>\n",
       "  <th>age</th>       <td>    0.0149</td> <td>    0.007</td> <td>    1.994</td> <td> 0.050</td> <td>-5.95e-06</td> <td>    0.030</td>\n",
       "</tr>\n",
       "<tr>\n",
       "  <th>high</th>      <td>    0.1682</td> <td>    0.157</td> <td>    1.075</td> <td> 0.286</td> <td>   -0.144</td> <td>    0.480</td>\n",
       "</tr>\n",
       "<tr>\n",
       "  <th>male</th>      <td>    0.5068</td> <td>    0.146</td> <td>    3.475</td> <td> 0.001</td> <td>    0.216</td> <td>    0.798</td>\n",
       "</tr>\n",
       "<tr>\n",
       "  <th>children</th>  <td>   -0.1438</td> <td>    0.086</td> <td>   -1.678</td> <td> 0.098</td> <td>   -0.315</td> <td>    0.027</td>\n",
       "</tr>\n",
       "<tr>\n",
       "  <th>urban</th>     <td>    0.0649</td> <td>    0.183</td> <td>    0.355</td> <td> 0.723</td> <td>   -0.300</td> <td>    0.429</td>\n",
       "</tr>\n",
       "</table>\n",
       "<table class=\"simpletable\">\n",
       "<tr>\n",
       "  <th>Omnibus:</th>       <td>42.236</td> <th>  Durbin-Watson:     </th> <td>   1.789</td>\n",
       "</tr>\n",
       "<tr>\n",
       "  <th>Prob(Omnibus):</th> <td> 0.000</td> <th>  Jarque-Bera (JB):  </th> <td> 217.284</td>\n",
       "</tr>\n",
       "<tr>\n",
       "  <th>Skew:</th>          <td>-1.497</td> <th>  Prob(JB):          </th> <td>6.57e-48</td>\n",
       "</tr>\n",
       "<tr>\n",
       "  <th>Kurtosis:</th>      <td>10.724</td> <th>  Cond. No.          </th> <td>    215.</td>\n",
       "</tr>\n",
       "</table><br/><br/>Notes:<br/>[1] Standard Errors assume that the covariance matrix of the errors is correctly specified."
      ],
      "text/plain": [
       "<class 'statsmodels.iolib.summary.Summary'>\n",
       "\"\"\"\n",
       "                            OLS Regression Results                            \n",
       "==============================================================================\n",
       "Dep. Variable:           np.log(wage)   R-squared:                       0.224\n",
       "Model:                            OLS   Adj. R-squared:                  0.169\n",
       "Method:                 Least Squares   F-statistic:                     4.051\n",
       "Date:                Thu, 15 Dec 2022   Prob (F-statistic):            0.00275\n",
       "Time:                        23:09:18   Log-Likelihood:                -68.287\n",
       "No. Observations:                  76   AIC:                             148.6\n",
       "Df Residuals:                      70   BIC:                             162.6\n",
       "Df Model:                           5                                         \n",
       "Covariance Type:            nonrobust                                         \n",
       "==============================================================================\n",
       "                 coef    std err          t      P>|t|      [0.025      0.975]\n",
       "------------------------------------------------------------------------------\n",
       "Intercept      9.1472      0.351     26.079      0.000       8.448       9.847\n",
       "age            0.0149      0.007      1.994      0.050   -5.95e-06       0.030\n",
       "high           0.1682      0.157      1.075      0.286      -0.144       0.480\n",
       "male           0.5068      0.146      3.475      0.001       0.216       0.798\n",
       "children      -0.1438      0.086     -1.678      0.098      -0.315       0.027\n",
       "urban          0.0649      0.183      0.355      0.723      -0.300       0.429\n",
       "==============================================================================\n",
       "Omnibus:                       42.236   Durbin-Watson:                   1.789\n",
       "Prob(Omnibus):                  0.000   Jarque-Bera (JB):              217.284\n",
       "Skew:                          -1.497   Prob(JB):                     6.57e-48\n",
       "Kurtosis:                      10.724   Cond. No.                         215.\n",
       "==============================================================================\n",
       "\n",
       "Notes:\n",
       "[1] Standard Errors assume that the covariance matrix of the errors is correctly specified.\n",
       "\"\"\""
      ]
     },
     "execution_count": 64,
     "metadata": {},
     "output_type": "execute_result"
    }
   ],
   "source": [
    "part_log = lr.ols('np.log(wage) ~ age + high + male + children + urban', data=df).fit()\n",
    "part_log.summary()"
   ]
  },
  {
   "cell_type": "markdown",
   "id": "1248b229",
   "metadata": {},
   "source": [
    "Модель имеет вид:\n",
    "\n",
    "$$\n",
    "\\begin{aligned}\n",
    "ln(\\hat{wage}) = \\hat{\\beta_0} +  \\hat{\\beta_1}  age +\\hat{\\beta_2}  high + \\hat{\\beta_3} male + \\hat{\\beta_4}  children + \\hat{\\beta_5}  urban\n",
    "\\end{aligned}\n",
    "$$\n",
    "\n",
    "Результат:\n",
    "* $R^2$ = 0.224; $adj R^2$ = 0.169; $AIC$ = 148.6; $BIC$ = 146.8. Модель улучшла в качестве, теперь $R^2$ стал 0.224, что в целом говорит о приимуществе этой модели над линейной \n",
    "* age - p-value = 0.05 - возраст облдет несильной значимостью в данной модели \n",
    "* high - p-value = 0.286 => признак является не значимым \n",
    "* male - p-value = 0.001 достаточно близок к нулю, пол является достаточно хорошим  объясняющим фактором для заработной платы в Тверской области))\n",
    "* children - p-value = 0.098 => Признак обладает слабой значимостью в этой модели \n",
    "* urban - p-value = 0.723. признак является не значимым \n",
    "\n",
    "Итоговая модель:\n",
    "$$\n",
    "\\begin{aligned}\n",
    "ln(\\hat{wage}) = \t9.1472 + 0.0149\t* age + 0.1682 *high + \t0.5068* male \t-0.1438\t* children + 0.0649*urban\n",
    "\\end{aligned}\n",
    "$$"
   ]
  },
  {
   "cell_type": "code",
   "execution_count": 65,
   "id": "d67ffcda",
   "metadata": {},
   "outputs": [
    {
     "name": "stdout",
     "output_type": "stream",
     "text": [
      "При увеличении age на 1 ед., зарплата изменится на 1.50%\n",
      "При увеличении high[0,1] на 1 ед., зарплата изменится на 18.32%\n",
      "При увеличении male[0,1] на 1 ед., зарплата изменится на 66.00%\n",
      "При увеличении children на 1 ед., зарплата изменится на -13.39%\n",
      "При увеличении urban[0,1] на 1 ед., зарплата изменится на 6.71%\n"
     ]
    }
   ],
   "source": [
    "names = ['age',  'high[0,1]',  'male[0,1]',  'children',  'urban[0,1]']\n",
    "for name, coef in zip(names, part_log.params[1:]):\n",
    "    print(f'При увеличении {name} на 1 ед., зарплата изменится на {(math.exp(coef) - 1)*100:.2f}%')"
   ]
  },
  {
   "cell_type": "markdown",
   "id": "e17fdc31",
   "metadata": {},
   "source": [
    "#### Задание 3"
   ]
  },
  {
   "cell_type": "code",
   "execution_count": 66,
   "id": "3fe4a713",
   "metadata": {},
   "outputs": [
    {
     "data": {
      "text/html": [
       "<table class=\"simpletable\">\n",
       "<caption>OLS Regression Results</caption>\n",
       "<tr>\n",
       "  <th>Dep. Variable:</th>      <td>np.log(wage)</td>   <th>  R-squared:         </th> <td>   0.225</td>\n",
       "</tr>\n",
       "<tr>\n",
       "  <th>Model:</th>                   <td>OLS</td>       <th>  Adj. R-squared:    </th> <td>   0.170</td>\n",
       "</tr>\n",
       "<tr>\n",
       "  <th>Method:</th>             <td>Least Squares</td>  <th>  F-statistic:       </th> <td>   4.064</td>\n",
       "</tr>\n",
       "<tr>\n",
       "  <th>Date:</th>             <td>Thu, 15 Dec 2022</td> <th>  Prob (F-statistic):</th>  <td>0.00269</td>\n",
       "</tr>\n",
       "<tr>\n",
       "  <th>Time:</th>                 <td>23:09:22</td>     <th>  Log-Likelihood:    </th> <td> -68.261</td>\n",
       "</tr>\n",
       "<tr>\n",
       "  <th>No. Observations:</th>      <td>    76</td>      <th>  AIC:               </th> <td>   148.5</td>\n",
       "</tr>\n",
       "<tr>\n",
       "  <th>Df Residuals:</th>          <td>    70</td>      <th>  BIC:               </th> <td>   162.5</td>\n",
       "</tr>\n",
       "<tr>\n",
       "  <th>Df Model:</th>              <td>     5</td>      <th>                     </th>     <td> </td>   \n",
       "</tr>\n",
       "<tr>\n",
       "  <th>Covariance Type:</th>      <td>nonrobust</td>    <th>                     </th>     <td> </td>   \n",
       "</tr>\n",
       "</table>\n",
       "<table class=\"simpletable\">\n",
       "<tr>\n",
       "       <td></td>          <th>coef</th>     <th>std err</th>      <th>t</th>      <th>P>|t|</th>  <th>[0.025</th>    <th>0.975]</th>  \n",
       "</tr>\n",
       "<tr>\n",
       "  <th>Intercept</th>   <td>    7.6348</td> <td>    1.044</td> <td>    7.314</td> <td> 0.000</td> <td>    5.553</td> <td>    9.717</td>\n",
       "</tr>\n",
       "<tr>\n",
       "  <th>np.log(age)</th> <td>    0.5763</td> <td>    0.287</td> <td>    2.006</td> <td> 0.049</td> <td>    0.003</td> <td>    1.149</td>\n",
       "</tr>\n",
       "<tr>\n",
       "  <th>high</th>        <td>    0.1640</td> <td>    0.156</td> <td>    1.049</td> <td> 0.298</td> <td>   -0.148</td> <td>    0.476</td>\n",
       "</tr>\n",
       "<tr>\n",
       "  <th>male</th>        <td>    0.4988</td> <td>    0.146</td> <td>    3.419</td> <td> 0.001</td> <td>    0.208</td> <td>    0.790</td>\n",
       "</tr>\n",
       "<tr>\n",
       "  <th>children</th>    <td>   -0.1468</td> <td>    0.086</td> <td>   -1.707</td> <td> 0.092</td> <td>   -0.318</td> <td>    0.025</td>\n",
       "</tr>\n",
       "<tr>\n",
       "  <th>urban</th>       <td>    0.0758</td> <td>    0.182</td> <td>    0.416</td> <td> 0.678</td> <td>   -0.287</td> <td>    0.439</td>\n",
       "</tr>\n",
       "</table>\n",
       "<table class=\"simpletable\">\n",
       "<tr>\n",
       "  <th>Omnibus:</th>       <td>42.137</td> <th>  Durbin-Watson:     </th> <td>   1.807</td>\n",
       "</tr>\n",
       "<tr>\n",
       "  <th>Prob(Omnibus):</th> <td> 0.000</td> <th>  Jarque-Bera (JB):  </th> <td> 217.131</td>\n",
       "</tr>\n",
       "<tr>\n",
       "  <th>Skew:</th>          <td>-1.491</td> <th>  Prob(JB):          </th> <td>7.09e-48</td>\n",
       "</tr>\n",
       "<tr>\n",
       "  <th>Kurtosis:</th>      <td>10.725</td> <th>  Cond. No.          </th> <td>    63.0</td>\n",
       "</tr>\n",
       "</table><br/><br/>Notes:<br/>[1] Standard Errors assume that the covariance matrix of the errors is correctly specified."
      ],
      "text/plain": [
       "<class 'statsmodels.iolib.summary.Summary'>\n",
       "\"\"\"\n",
       "                            OLS Regression Results                            \n",
       "==============================================================================\n",
       "Dep. Variable:           np.log(wage)   R-squared:                       0.225\n",
       "Model:                            OLS   Adj. R-squared:                  0.170\n",
       "Method:                 Least Squares   F-statistic:                     4.064\n",
       "Date:                Thu, 15 Dec 2022   Prob (F-statistic):            0.00269\n",
       "Time:                        23:09:22   Log-Likelihood:                -68.261\n",
       "No. Observations:                  76   AIC:                             148.5\n",
       "Df Residuals:                      70   BIC:                             162.5\n",
       "Df Model:                           5                                         \n",
       "Covariance Type:            nonrobust                                         \n",
       "===============================================================================\n",
       "                  coef    std err          t      P>|t|      [0.025      0.975]\n",
       "-------------------------------------------------------------------------------\n",
       "Intercept       7.6348      1.044      7.314      0.000       5.553       9.717\n",
       "np.log(age)     0.5763      0.287      2.006      0.049       0.003       1.149\n",
       "high            0.1640      0.156      1.049      0.298      -0.148       0.476\n",
       "male            0.4988      0.146      3.419      0.001       0.208       0.790\n",
       "children       -0.1468      0.086     -1.707      0.092      -0.318       0.025\n",
       "urban           0.0758      0.182      0.416      0.678      -0.287       0.439\n",
       "==============================================================================\n",
       "Omnibus:                       42.137   Durbin-Watson:                   1.807\n",
       "Prob(Omnibus):                  0.000   Jarque-Bera (JB):              217.131\n",
       "Skew:                          -1.491   Prob(JB):                     7.09e-48\n",
       "Kurtosis:                      10.725   Cond. No.                         63.0\n",
       "==============================================================================\n",
       "\n",
       "Notes:\n",
       "[1] Standard Errors assume that the covariance matrix of the errors is correctly specified.\n",
       "\"\"\""
      ]
     },
     "execution_count": 66,
     "metadata": {},
     "output_type": "execute_result"
    }
   ],
   "source": [
    "full_log = lr.ols('np.log(wage) ~ np.log(age) + high + male + children + urban',\n",
    "                  data=df).fit()\n",
    "full_log.summary()"
   ]
  },
  {
   "cell_type": "markdown",
   "id": "fbf26bc2",
   "metadata": {},
   "source": [
    "Модель имеет вид:\n",
    "\n",
    "$$\n",
    "\\begin{aligned}\n",
    "ln(\\hat{wage}) = \\hat{\\beta_0} +  \\hat{\\beta_1}  ln(age) +\\hat{\\beta_2}  high + \\hat{\\beta_3} male + \\hat{\\beta_4}  children + \\hat{\\beta_5}  urban\n",
    "\\end{aligned}\n",
    "$$\n",
    "\n",
    "Результат:\n",
    "* $R^2$ = 0.225. $adj R^2$ = 0.170; $AIC$ = 148.5; $BIC$ = 162.5. Модель улучшла в качестве, теперь $R^2$ стал 0.224, что в целом говорит о приимуществе этой модели над линейной \n",
    "* age - p-value = 0.049 => возраст является значимым в лог модели \n",
    "* high - p-value = 0.298 => наличие высшего образования является незначимым признаком\n",
    "* male - p-value = 0.001 достаточно близок к нулю, пол является достаточно хорошим  объясняющим фактором для заработной платы в Тверской области))\n",
    "* children - p-value = 0.092 => количество детей является слабо занчимым признаком (ур-нь зн-ти $\\alpha=0.1$) \n",
    "* urban - p-value = 0.416 => факт проживания в городе  является незначимым признаком\n",
    "\n",
    "Итоговая модель:\n",
    "$$\n",
    "\\begin{aligned}\n",
    "ln(\\hat{wage}) = 7.6348 +0.5763\t* ln(\\hat{age}) + 0.1640 *high + 0.4988* male -0.1468* children + 0.0758 *urban\n",
    "\\end{aligned}\n",
    "$$"
   ]
  },
  {
   "cell_type": "code",
   "execution_count": 67,
   "id": "20686425",
   "metadata": {},
   "outputs": [
    {
     "name": "stdout",
     "output_type": "stream",
     "text": [
      "При увеличении age на 1%., зарплата изменится на 0.5762525129096039%\n",
      "При увеличении high[0,1] на 1 ед., зарплата изменится на 17.82%\n",
      "При увеличении male[0,1] на 1 ед., зарплата изменится на 64.67%\n",
      "При увеличении children на 1 ед., зарплата изменится на -13.65%\n",
      "При увеличении urban[0,1] на 1 ед., зарплата изменится на 7.88%\n"
     ]
    }
   ],
   "source": [
    "names = ['age',  'high[0,1]',  'male[0,1]',  'children',  'urban[0,1]']\n",
    "for name, coef in zip(names, full_log.params[1:]):\n",
    "    if name == 'age':\n",
    "        print(f'При увеличении {name} на 1%., зарплата изменится на {coef}%')\n",
    "    else:\n",
    "         print(f'При увеличении {name} на 1 ед., зарплата изменится на {(math.exp(coef) - 1)*100:.2f}%')"
   ]
  },
  {
   "cell_type": "markdown",
   "id": "bcfe73c6",
   "metadata": {},
   "source": [
    "#### Задание 4"
   ]
  },
  {
   "cell_type": "markdown",
   "id": "12dfcc05",
   "metadata": {},
   "source": [
    "**Линейная регресиия**.Первая переменная показала достаточно плохие результаты: почти все переменные незанчимы, низкий $R^2$ (0.166) и высокий AIC(1665) и BIC(1677) - это все говорит о том, что пользоваться этой моделью лучше не стоит\n",
    "\n",
    "**Полурегрессионная модель**. Тут уже лучше $R^2$(0.224) значимость признаков стала выше. Полулог модель точно обладает лучшей объясняющей способностью по сравнению с первой. Сравнить AIC и BIC между собой не совсем корректно, так как из-за переходу к лог моделям, масштаб измерений сместился\n",
    "\n",
    "**Логарифмическая модель**. По сравнению с полулог моделью $R^2$ (0.225) стал немного выше. Однако переменные стали более значимыми для модели по сравнению с предыдущей. \n",
    "\n",
    "Формльно мы не можем сравнивать на разных масштабах модели, поэтому проведем соответствующий тест"
   ]
  },
  {
   "cell_type": "markdown",
   "id": "e36e632a",
   "metadata": {},
   "source": [
    "Проведем тест **Бокса-Кокса** с преобразованием Зарембки"
   ]
  },
  {
   "cell_type": "markdown",
   "id": "37ee15c6",
   "metadata": {},
   "source": [
    "$$\n",
    "\\begin{aligned}\n",
    "&H_0: \\text{Качество подгонки моделей одинаковое}\\\\\n",
    "&H_1: \\text{Модель лучше, если у нее выше RSS}\n",
    "\\end{aligned}\n",
    "$$\n",
    "\n",
    "$gY=  \\sqrt[n]{Y_1Y_2...Y_n}, Y^*= \\frac{Y}{gY}$ \n",
    "Оценивае две модели:\n",
    "\n",
    "$$\n",
    "\\begin{aligned}\n",
    "(1): Y^* = \\tilde\\alpha + \\tilde\\beta_1X + \\tilde\\epsilon\\\\\n",
    "(2): logY^* = \\tilde\\alpha' + \\tilde\\beta_1'X + \\tilde\\epsilon'\n",
    "\\end{aligned}\n",
    "$$\n",
    "\n",
    "$$\n",
    "\\chi^2 = \\frac{n}{2}|log\\frac{RSS_1}{RSS_2}|\n",
    "$$"
   ]
  },
  {
   "cell_type": "code",
   "execution_count": 68,
   "id": "181ccb1f",
   "metadata": {},
   "outputs": [],
   "source": [
    "df_bc = df.copy() \n",
    "df_bc['wage'] = df_bc['wage'].apply(lambda x: x/st.gmean(df.wage)) \n",
    "bc_lin_reg = lr.ols(f'wage ~ age + high + male + children + urban', data=df_bc).fit()"
   ]
  },
  {
   "cell_type": "code",
   "execution_count": 69,
   "id": "3caa89dd",
   "metadata": {},
   "outputs": [],
   "source": [
    "df_bc_log = df.copy() \n",
    "df_bc_log['wage'] = df_bc_log['wage'].apply(lambda x: np.log(x)/st.gmean(np.log(df.wage))) \n",
    "bc_part_log = lr.ols(f'wage ~ age + high + male + children + urban', data=df_bc_log).fit()"
   ]
  },
  {
   "cell_type": "code",
   "execution_count": 70,
   "id": "bf7e8859",
   "metadata": {},
   "outputs": [],
   "source": [
    "chi_sq = len(df)/2*abs(np.log(np.sum(bc_lin_reg.resid**2)/np.sum(bc_part_log.resid**2)))"
   ]
  },
  {
   "cell_type": "code",
   "execution_count": 71,
   "id": "285f3deb",
   "metadata": {},
   "outputs": [
    {
     "name": "stdout",
     "output_type": "stream",
     "text": [
      "Тестовя статистика:178.6210967996069\n",
      "p-value: 0.9999999998047637\n"
     ]
    }
   ],
   "source": [
    "print(f'Тестовя статистика:{chi_sq}\\np-value: {st.chi2.cdf(chi_sq, len(df)-1)}')"
   ]
  },
  {
   "cell_type": "markdown",
   "id": "788bf8cb",
   "metadata": {},
   "source": [
    "Очевидно, что нулевая гипотеза отвергается, и лучшая модель будет с меньшим RSS"
   ]
  },
  {
   "cell_type": "code",
   "execution_count": 72,
   "id": "925dfc6a",
   "metadata": {},
   "outputs": [
    {
     "name": "stdout",
     "output_type": "stream",
     "text": [
      "30.137438332575424 0.2739562158216452\n"
     ]
    }
   ],
   "source": [
    "print(np.sum(bc_lin_reg.resid**2), #линейная \n",
    "      np.sum(bc_part_log.resid**2)) # в частичных логарифмах"
   ]
  },
  {
   "cell_type": "markdown",
   "id": "3dd52496",
   "metadata": {},
   "source": [
    "Делаем вывод, что лучше модель в частичных логарифмах так как у нее меньше RSS"
   ]
  },
  {
   "cell_type": "markdown",
   "id": "c4f6b89f",
   "metadata": {},
   "source": [
    "Теперь сравним ее с моделью в полных логарифмах"
   ]
  },
  {
   "cell_type": "code",
   "execution_count": 73,
   "id": "bbe225f5",
   "metadata": {},
   "outputs": [],
   "source": [
    "bc_full_log = lr.ols(f'wage ~ np.log(age) + high + male + children + urban', data=df_bc_log).fit()"
   ]
  },
  {
   "cell_type": "code",
   "execution_count": 74,
   "id": "47293527",
   "metadata": {},
   "outputs": [],
   "source": [
    "chi_sq = len(df)/2*abs(np.log(np.sum(bc_full_log.resid**2)/np.sum(bc_part_log.resid**2)))"
   ]
  },
  {
   "cell_type": "code",
   "execution_count": 75,
   "id": "48447f96",
   "metadata": {},
   "outputs": [
    {
     "name": "stdout",
     "output_type": "stream",
     "text": [
      "Тестовя статистика:0.02639308911891069\n",
      "p-value: 3.841281701697651e-115\n"
     ]
    }
   ],
   "source": [
    "print(f'Тестовя статистика:{chi_sq}\\np-value: {st.chi2.cdf(chi_sq, len(df)-1)}')"
   ]
  },
  {
   "cell_type": "markdown",
   "id": "c5f4514a",
   "metadata": {},
   "source": [
    "Нулевая гипотеза не отвергается на уровне значимости 1%, следовательно модели имеют одинаковое качество. Так как модель в полных логарфимах имееть $adjR^2$ больше (хоть и на тысячную) будем использовать ее в последующих заданиях как лучшую"
   ]
  },
  {
   "cell_type": "markdown",
   "id": "a2a06e05",
   "metadata": {},
   "source": [
    "#### Задание 5"
   ]
  },
  {
   "cell_type": "markdown",
   "id": "4c71ebea",
   "metadata": {},
   "source": [
    "**Тест Чоу**"
   ]
  },
  {
   "cell_type": "code",
   "execution_count": 76,
   "id": "c9dd4598",
   "metadata": {},
   "outputs": [
    {
     "data": {
      "text/plain": [
       "0.2739562158216452"
      ]
     },
     "execution_count": 76,
     "metadata": {},
     "output_type": "execute_result"
    }
   ],
   "source": [
    "np.sum(bc_part_log.resid**2)"
   ]
  },
  {
   "cell_type": "markdown",
   "id": "4e3f67b1",
   "metadata": {},
   "source": [
    "У нас есть две модели: одна обученая на выборках, где male = 1, другая - male = 0.\n",
    "\n",
    "$ logY_m = \\beta_{m} + log(age_{m}) + high_m + children_m + urban_m; \\\\\n",
    "logY_f = \\beta_{f} + log(age_{f}) + high_f + children_f + urban_f\n",
    "$\n",
    "\n",
    "$$\n",
    "\\begin{aligned}\n",
    "&H_0: \\beta_m=\\beta_f, age_m=age_f, ..., \\sigma^2_f=\\sigma^2_m\\\\\n",
    "&H_1: \\exists \\text{признак} f \\neq \\text{признак} m\n",
    "\\end{aligned}\n",
    "$$\n",
    "\n",
    "Проверим гипотезу с помощтю теста Чоу:\n",
    "\n",
    "$$\n",
    "\\begin{aligned}\n",
    "F = \\frac{(RSS - [RSSm + RSSf])/(k_1 + 1)}{(RSSf + RSSm)/(n-2k-2)} \\sim F_{k+1,n-2k-2}\n",
    "\\end{aligned}\n",
    "$$\n",
    "$$  \\begin{align}\n",
    "\\text{где k - количество регрессоров в базовой модели без учета константы}, \\\\\n",
    "\\text{n - количество наблюдений} \\\\\n",
    "\\text{RSS - сумма квадратов остатков по базовой модели}\\\\\n",
    "\\text{RSSm - сумма остатков квадратов по модели с мужчинами}\\\\\n",
    "\\text{RSSf - cуммаа остатков квадратов по содели с женщинами в выборке}\n",
    "\\end{align}$$"
   ]
  },
  {
   "cell_type": "code",
   "execution_count": 77,
   "id": "063d1a3a",
   "metadata": {},
   "outputs": [],
   "source": [
    "full_log_male = lr.ols('np.log(wage) ~ np.log(age) + high + male + children + urban',\n",
    "                  data=df[df['male'] == 1]).fit()\n",
    "\n",
    "full_log_female = lr.ols('np.log(wage) ~ np.log(age) + high + male + children + urban',\n",
    "                  data=df[df['male'] == 0]).fit()\n",
    "\n",
    "full_log = lr.ols('np.log(wage) ~ np.log(age) + high + male + children + urban',\n",
    "                  data=df).fit()"
   ]
  },
  {
   "cell_type": "code",
   "execution_count": 78,
   "id": "6a18d901",
   "metadata": {},
   "outputs": [],
   "source": [
    "RSSm = np.sum(full_log_male.resid**2)\n",
    "RSSf = np.sum(full_log_female.resid**2)\n",
    "RSS = np.sum(full_log.resid**2)\n"
   ]
  },
  {
   "cell_type": "code",
   "execution_count": 79,
   "id": "be050824",
   "metadata": {},
   "outputs": [
    {
     "data": {
      "text/plain": [
       "0.02639308911891069"
      ]
     },
     "execution_count": 79,
     "metadata": {},
     "output_type": "execute_result"
    }
   ],
   "source": [
    "chi_sq"
   ]
  },
  {
   "cell_type": "code",
   "execution_count": 80,
   "id": "7c212d5f",
   "metadata": {},
   "outputs": [],
   "source": [
    "F = ((RSS - (RSSm + RSSf))/(5 + 1))/((RSSf + RSSm)/(len(df) - 2*5 -2))"
   ]
  },
  {
   "cell_type": "code",
   "execution_count": 81,
   "id": "1601cbca",
   "metadata": {},
   "outputs": [],
   "source": [
    "# p-value(F)\n",
    "p = st.f.cdf(F, 5 + 1, len(df)) "
   ]
  },
  {
   "cell_type": "code",
   "execution_count": 82,
   "id": "40cf9100",
   "metadata": {},
   "outputs": [],
   "source": [
    "alphas = [0.01, 0.05, 0.1]"
   ]
  },
  {
   "cell_type": "code",
   "execution_count": 83,
   "id": "3b09a0bc",
   "metadata": {},
   "outputs": [],
   "source": [
    "def make_hyp_test(alpha: float, p: float) -> None:\n",
    "    if p <= alpha:\n",
    "        print(f'Ho отвергается в пользу H1 на уровне значимости {alpha}: p-value = {p} ')\n",
    "    else:\n",
    "        print(f'Ho не отвергается на уровне значимости {alpha}: p-value = {p} ')"
   ]
  },
  {
   "cell_type": "code",
   "execution_count": 84,
   "id": "02b3aec4",
   "metadata": {},
   "outputs": [
    {
     "name": "stdout",
     "output_type": "stream",
     "text": [
      "Ho не отвергается на уровне значимости 0.01: p-value = 0.2951234760247851 \n",
      "Ho не отвергается на уровне значимости 0.05: p-value = 0.2951234760247851 \n",
      "Ho не отвергается на уровне значимости 0.1: p-value = 0.2951234760247851 \n"
     ]
    }
   ],
   "source": [
    "for alpha in alphas:\n",
    "    make_hyp_test(alpha, p)"
   ]
  },
  {
   "cell_type": "markdown",
   "id": "9eb4eb79",
   "metadata": {},
   "source": [
    "Таким образом, тест Чоу не выявил различий по зарплатам среди мужчин и женщин. Значимой зависимости между моделями объяснения зп для мужчин и женщин по отдельности нет. В тверской области явно не наблюдается гендерная дискриминация в заработной плате"
   ]
  },
  {
   "cell_type": "code",
   "execution_count": 85,
   "id": "7d139ede",
   "metadata": {},
   "outputs": [
    {
     "data": {
      "image/png": "[encoded data removed]",
      "text/plain": [
       "<Figure size 864x432 with 1 Axes>"
      ]
     },
     "metadata": {},
     "output_type": "display_data"
    }
   ],
   "source": [
    "fig, ax = plt.subplots(1, 1, figsize=(12,6))\n",
    "\n",
    "sns.scatterplot(data=df, y='wage', x='age', hue='male', ax=ax);"
   ]
  },
  {
   "cell_type": "markdown",
   "id": "b20aba5d",
   "metadata": {},
   "source": [
    "На грфике в целом тоже видно, что мы не можем провести строго разделющую плоскость между мужчинами и женщинам, что подтверждает валидность теста Чоу"
   ]
  },
  {
   "cell_type": "markdown",
   "id": "b0afa189",
   "metadata": {},
   "source": [
    "**Дамми переменные**"
   ]
  },
  {
   "cell_type": "markdown",
   "id": "37e72be4",
   "metadata": {},
   "source": [
    "Создадим переменную возраст на флаг, что объект в выборке - мужчина, чтобы провести тест дамми переменных и оценить разные зависимости зарплаты для каждого пола "
   ]
  },
  {
   "cell_type": "markdown",
   "id": "d048dcba",
   "metadata": {},
   "source": [
    "$$UR: ln(\\hat{wage}) = \\hat{\\beta_0} +  \\hat{\\beta_1}  ln(age) +\\hat{\\beta_2}  high + \\hat{\\beta_3} male + \\hat{\\beta_4}  children + \\hat{\\beta_5}  urban + \\hat{\\beta_6} malexage \\\\\n",
    "R: ln(\\hat{wage}) = \\hat{\\beta_0} +  \\hat{\\beta_1}  ln(age) +\\hat{\\beta_2}  high  + \\hat{\\beta_4}  children + \\hat{\\beta_5}  urban $$\n",
    "\n",
    "$$\n",
    "H_0: \\hat\\beta_3 = 0 \\text{ and } \\hat\\beta_6 = 0  \\\\\n",
    "H_1:  \\hat\\beta_3 \\neq 0 \\text{ or } \\hat\\beta_6 \\neq 0\n",
    "$$\n",
    "\n",
    "$$\n",
    "\\begin{aligned}\n",
    "F = \\frac{(RSS_R - RSS_{UR})/(2)}{RSS_{UR}/(n-k -1)}F_{2,n-k -1}\n",
    "\\end{aligned}\n",
    "$$\n",
    "n - количество объектов в выборке \n",
    "\n",
    "k - количество регрессоров "
   ]
  },
  {
   "cell_type": "code",
   "execution_count": 86,
   "id": "6eeeec10",
   "metadata": {},
   "outputs": [],
   "source": [
    "df['malexage'] = np.log(df['age'])*df['male']"
   ]
  },
  {
   "cell_type": "code",
   "execution_count": 87,
   "id": "ea785e6b",
   "metadata": {},
   "outputs": [],
   "source": [
    "dummy_lr = lr.ols('np.log(wage) ~ np.log(age) + high + male + children + urban + malexage',\n",
    "                  data=df).fit()"
   ]
  },
  {
   "cell_type": "code",
   "execution_count": 88,
   "id": "31a95e98",
   "metadata": {},
   "outputs": [],
   "source": [
    "RSSr = np.sum(full_log.resid**2)\n",
    "RSSur = np.sum(dummy_lr.resid**2)\n",
    "F = ((RSSr - RSSur) / 2)/(RSSur/(len(df) - 7 - 1))"
   ]
  },
  {
   "cell_type": "code",
   "execution_count": 89,
   "id": "8c1b62a1",
   "metadata": {},
   "outputs": [
    {
     "data": {
      "text/plain": [
       "0.48568410792255284"
      ]
     },
     "execution_count": 89,
     "metadata": {},
     "output_type": "execute_result"
    }
   ],
   "source": [
    "F"
   ]
  },
  {
   "cell_type": "code",
   "execution_count": 90,
   "id": "a26cc34f",
   "metadata": {},
   "outputs": [],
   "source": [
    "p = st.f.cdf(F, 2, len(df) - 7 - 1) "
   ]
  },
  {
   "cell_type": "code",
   "execution_count": 91,
   "id": "b70f9a18",
   "metadata": {},
   "outputs": [
    {
     "name": "stdout",
     "output_type": "stream",
     "text": [
      "Ho не отвергается на уровне значимости 0.01: p-value = 0.3826059702581576 \n",
      "Ho не отвергается на уровне значимости 0.05: p-value = 0.3826059702581576 \n",
      "Ho не отвергается на уровне значимости 0.1: p-value = 0.3826059702581576 \n"
     ]
    }
   ],
   "source": [
    "for alpha in alphas:\n",
    "    make_hyp_test(alpha, p)"
   ]
  },
  {
   "cell_type": "markdown",
   "id": "5bc60f0c",
   "metadata": {},
   "source": [
    "Таким образом, тест дамми переменных не обнаружел различий в зависимости заработных плат от пола "
   ]
  },
  {
   "cell_type": "markdown",
   "id": "d958c5ad",
   "metadata": {},
   "source": [
    "#### Задание 6"
   ]
  },
  {
   "cell_type": "markdown",
   "id": "0b6fd3c3",
   "metadata": {},
   "source": [
    "*Источник: https://towardsdatascience.com/linear-regression-models-and-influential-points-4ee844adac6d*"
   ]
  },
  {
   "cell_type": "code",
   "execution_count": 92,
   "id": "9db30029",
   "metadata": {},
   "outputs": [
    {
     "data": {
      "text/html": [
       "<div>\n",
       "<style scoped>\n",
       "    .dataframe tbody tr th:only-of-type {\n",
       "        vertical-align: middle;\n",
       "    }\n",
       "\n",
       "    .dataframe tbody tr th {\n",
       "        vertical-align: top;\n",
       "    }\n",
       "\n",
       "    .dataframe thead th {\n",
       "        text-align: right;\n",
       "    }\n",
       "</style>\n",
       "<table border=\"1\" class=\"dataframe\">\n",
       "  <thead>\n",
       "    <tr style=\"text-align: right;\">\n",
       "      <th></th>\n",
       "      <th>dfb_Intercept</th>\n",
       "      <th>dfb_np.log(age)</th>\n",
       "      <th>dfb_high</th>\n",
       "      <th>dfb_male</th>\n",
       "      <th>dfb_children</th>\n",
       "      <th>dfb_urban</th>\n",
       "      <th>cooks_d</th>\n",
       "      <th>standard_resid</th>\n",
       "      <th>hat_diag</th>\n",
       "      <th>dffits_internal</th>\n",
       "      <th>student_resid</th>\n",
       "      <th>dffits</th>\n",
       "    </tr>\n",
       "    <tr>\n",
       "      <th>idind</th>\n",
       "      <th></th>\n",
       "      <th></th>\n",
       "      <th></th>\n",
       "      <th></th>\n",
       "      <th></th>\n",
       "      <th></th>\n",
       "      <th></th>\n",
       "      <th></th>\n",
       "      <th></th>\n",
       "      <th></th>\n",
       "      <th></th>\n",
       "      <th></th>\n",
       "    </tr>\n",
       "  </thead>\n",
       "  <tbody>\n",
       "    <tr>\n",
       "      <th>163</th>\n",
       "      <td>0.063657</td>\n",
       "      <td>-0.069777</td>\n",
       "      <td>-0.040331</td>\n",
       "      <td>0.062590</td>\n",
       "      <td>0.021595</td>\n",
       "      <td>0.047982</td>\n",
       "      <td>0.002528</td>\n",
       "      <td>0.503733</td>\n",
       "      <td>0.056413</td>\n",
       "      <td>0.123169</td>\n",
       "      <td>0.501031</td>\n",
       "      <td>0.122508</td>\n",
       "    </tr>\n",
       "    <tr>\n",
       "      <th>164</th>\n",
       "      <td>-0.021455</td>\n",
       "      <td>0.018161</td>\n",
       "      <td>-0.011224</td>\n",
       "      <td>0.018751</td>\n",
       "      <td>0.015687</td>\n",
       "      <td>0.013489</td>\n",
       "      <td>0.000249</td>\n",
       "      <td>0.134211</td>\n",
       "      <td>0.076652</td>\n",
       "      <td>0.038669</td>\n",
       "      <td>0.133266</td>\n",
       "      <td>0.038397</td>\n",
       "    </tr>\n",
       "    <tr>\n",
       "      <th>165</th>\n",
       "      <td>-0.073172</td>\n",
       "      <td>0.065777</td>\n",
       "      <td>-0.073527</td>\n",
       "      <td>0.120442</td>\n",
       "      <td>-0.003335</td>\n",
       "      <td>0.076652</td>\n",
       "      <td>0.007633</td>\n",
       "      <td>1.020950</td>\n",
       "      <td>0.042086</td>\n",
       "      <td>0.213999</td>\n",
       "      <td>1.021264</td>\n",
       "      <td>0.214064</td>\n",
       "    </tr>\n",
       "    <tr>\n",
       "      <th>166</th>\n",
       "      <td>-0.050230</td>\n",
       "      <td>0.068946</td>\n",
       "      <td>0.057219</td>\n",
       "      <td>-0.090235</td>\n",
       "      <td>-0.106222</td>\n",
       "      <td>-0.076639</td>\n",
       "      <td>0.004820</td>\n",
       "      <td>-0.613573</td>\n",
       "      <td>0.071336</td>\n",
       "      <td>-0.170055</td>\n",
       "      <td>-0.610819</td>\n",
       "      <td>-0.169292</td>\n",
       "    </tr>\n",
       "    <tr>\n",
       "      <th>167</th>\n",
       "      <td>-1.237390</td>\n",
       "      <td>1.288190</td>\n",
       "      <td>0.794141</td>\n",
       "      <td>0.608510</td>\n",
       "      <td>-1.003724</td>\n",
       "      <td>-0.697310</td>\n",
       "      <td>0.411617</td>\n",
       "      <td>-5.116160</td>\n",
       "      <td>0.086218</td>\n",
       "      <td>-1.571529</td>\n",
       "      <td>-6.419603</td>\n",
       "      <td>-1.971908</td>\n",
       "    </tr>\n",
       "  </tbody>\n",
       "</table>\n",
       "</div>"
      ],
      "text/plain": [
       "       dfb_Intercept  dfb_np.log(age)  dfb_high  dfb_male  dfb_children  \\\n",
       "idind                                                                     \n",
       "163         0.063657        -0.069777 -0.040331  0.062590      0.021595   \n",
       "164        -0.021455         0.018161 -0.011224  0.018751      0.015687   \n",
       "165        -0.073172         0.065777 -0.073527  0.120442     -0.003335   \n",
       "166        -0.050230         0.068946  0.057219 -0.090235     -0.106222   \n",
       "167        -1.237390         1.288190  0.794141  0.608510     -1.003724   \n",
       "\n",
       "       dfb_urban   cooks_d  standard_resid  hat_diag  dffits_internal  \\\n",
       "idind                                                                   \n",
       "163     0.047982  0.002528        0.503733  0.056413         0.123169   \n",
       "164     0.013489  0.000249        0.134211  0.076652         0.038669   \n",
       "165     0.076652  0.007633        1.020950  0.042086         0.213999   \n",
       "166    -0.076639  0.004820       -0.613573  0.071336        -0.170055   \n",
       "167    -0.697310  0.411617       -5.116160  0.086218        -1.571529   \n",
       "\n",
       "       student_resid    dffits  \n",
       "idind                           \n",
       "163         0.501031  0.122508  \n",
       "164         0.133266  0.038397  \n",
       "165         1.021264  0.214064  \n",
       "166        -0.610819 -0.169292  \n",
       "167        -6.419603 -1.971908  "
      ]
     },
     "execution_count": 92,
     "metadata": {},
     "output_type": "execute_result"
    }
   ],
   "source": [
    "influence = full_log.get_influence()\n",
    "inf_sum = influence.summary_frame()\n",
    "inf_sum.head()"
   ]
  },
  {
   "cell_type": "code",
   "execution_count": 103,
   "id": "e4dd74bd",
   "metadata": {},
   "outputs": [
    {
     "name": "stdout",
     "output_type": "stream",
     "text": [
      "Leverage vs. Studentized Residuals\n"
     ]
    },
    {
     "name": "stderr",
     "output_type": "stream",
     "text": [
      "C:\\Users\\clank\\anaconda3\\lib\\site-packages\\seaborn\\_decorators.py:36: FutureWarning: Pass the following variables as keyword args: x, y. From version 0.12, the only valid positional argument will be `data`, and passing other arguments without an explicit keyword will result in an error or misinterpretation.\n",
      "  warnings.warn(\n"
     ]
    },
    {
     "data": {
      "image/png": "[encoded data removed]",
      "text/plain": [
       "<Figure size 864x432 with 1 Axes>"
      ]
     },
     "metadata": {},
     "output_type": "display_data"
    }
   ],
   "source": [
    "fig, ax = plt.subplots(1, 1, figsize=(12,6))\n",
    "student_resid = influence.resid_studentized_external\n",
    "(cooks, p) = influence.cooks_distance\n",
    "(dffits, p) = influence.dffits\n",
    "leverage = influence.hat_matrix_diag\n",
    "#print ('\\n')\n",
    "\n",
    "print ('Leverage vs. Studentized Residuals')\n",
    "sns.regplot(leverage, lin_reg.resid_pearson,  fit_reg=False, ax=ax)\n",
    "plt.title('Leverage vs. Studentized Residuals')\n",
    "plt.xlabel('Leverage')\n",
    "plt.ylabel('Studentized Residuals');"
   ]
  },
  {
   "cell_type": "code",
   "execution_count": 104,
   "id": "79e3c201",
   "metadata": {},
   "outputs": [
    {
     "name": "stdout",
     "output_type": "stream",
     "text": [
      "******************** Most Negative Residuals ********************\n",
      "       dfb_Intercept  dfb_np.log(age)  dfb_high  dfb_male  dfb_children  \\\n",
      "idind                                                                     \n",
      "167        -1.237390         1.288190  0.794141  0.608510     -1.003724   \n",
      "491        -0.178077         0.174306 -0.419590 -0.275603      0.280503   \n",
      "3148       -0.007741        -0.011890  0.118852 -0.190174      0.243322   \n",
      "2568        0.197988        -0.198537  0.151653  0.144539     -0.107218   \n",
      "3338        0.137749        -0.162885  0.128527  0.168018      0.072731   \n",
      "\n",
      "       dfb_urban   cooks_d  standard_resid  hat_diag  dffits_internal  \\\n",
      "idind                                                                   \n",
      "167    -0.697310  0.411617       -5.116160  0.086218        -1.571529   \n",
      "491    -0.042748  0.072536       -2.060145  0.093007        -0.659711   \n",
      "3148   -0.096939  0.034048       -1.903788  0.053356        -0.451979   \n",
      "2568   -0.102581  0.023313       -1.379555  0.068464        -0.374000   \n",
      "3338   -0.059068  0.016409       -1.336758  0.052221        -0.313778   \n",
      "\n",
      "       student_resid    dffits  \n",
      "idind                           \n",
      "167        -6.419603 -1.971908  \n",
      "491        -2.110354 -0.675789  \n",
      "3148       -1.941060 -0.460828  \n",
      "2568       -1.388674 -0.376472  \n",
      "3338       -1.344447 -0.315583  \n",
      "\n",
      "\n",
      "******************** Largest Positive Residuals ********************\n",
      "       dfb_Intercept  dfb_np.log(age)  dfb_high  dfb_male  dfb_children  \\\n",
      "idind                                                                     \n",
      "1703        0.287224        -0.274051 -0.136432 -0.143941      0.028968   \n",
      "1682       -0.007052         0.019505  0.200782 -0.119152     -0.068768   \n",
      "1691        0.325373        -0.284408 -0.131188 -0.190311     -0.159257   \n",
      "733         0.047890        -0.008705 -0.084674  0.215225      0.158424   \n",
      "1685        0.618803        -0.523379 -0.291752 -0.433533     -0.386895   \n",
      "\n",
      "       dfb_urban   cooks_d  standard_resid  hat_diag  dffits_internal  \\\n",
      "idind                                                                   \n",
      "1703    0.097095  0.022933        1.228067  0.083608         0.370942   \n",
      "1682    0.019767  0.014646        1.254199  0.052909         0.296438   \n",
      "1691    0.062022  0.034538        1.337040  0.103880         0.455225   \n",
      "733    -0.360936  0.051518        1.880714  0.080367         0.555975   \n",
      "1685    0.128368  0.138604        2.892913  0.090388         0.911934   \n",
      "\n",
      "       student_resid    dffits  \n",
      "idind                           \n",
      "1703        1.232614  0.372316  \n",
      "1682        1.259439  0.297677  \n",
      "1691        1.344738  0.457846  \n",
      "733         1.916275  0.566488  \n",
      "1685        3.060978  0.964913  \n",
      "\n",
      "\n"
     ]
    }
   ],
   "source": [
    "#Highest Negative Residuals\n",
    "studentized_resid_sort = inf_sum.sort_values(by = 'student_resid')\n",
    "print ('*'*20 + ' Most Negative Residuals ' + '*'*20)\n",
    "print (studentized_resid_sort.head())\n",
    "print ('\\n')\n",
    "#Highest Positive Residuals\n",
    "print ('*'*20 + ' Largest Positive Residuals ' + '*'*20)\n",
    "print (studentized_resid_sort.tail())\n",
    "print ('\\n')"
   ]
  },
  {
   "cell_type": "markdown",
   "id": "2d66a599",
   "metadata": {},
   "source": [
    "Чтобы определить кретерии для распознания выбросов воспользуемся правилом трех сигм и leverage cutoff\n",
    "\n",
    "$$\n",
    "\\text{leverage cutoff} = \\frac{2k + 2}{n}\n",
    "$$\n",
    " k - количество предикатов \n",
    " \n",
    " n - размер выборки"
   ]
  },
  {
   "cell_type": "code",
   "execution_count": 99,
   "id": "fde1f1aa",
   "metadata": {},
   "outputs": [],
   "source": [
    "#Number of observations\n",
    "n = len(df)\n",
    "#Predictors\n",
    "k = 5\n",
    "#Leverage\n",
    "cutoff_leverage = (2*k + 2)/n"
   ]
  },
  {
   "cell_type": "code",
   "execution_count": 100,
   "id": "7a5e97f0",
   "metadata": {},
   "outputs": [
    {
     "data": {
      "text/plain": [
       "0.15789473684210525"
      ]
     },
     "execution_count": 100,
     "metadata": {},
     "output_type": "execute_result"
    }
   ],
   "source": [
    "cutoff_leverage"
   ]
  },
  {
   "cell_type": "code",
   "execution_count": 111,
   "id": "e322a74d",
   "metadata": {},
   "outputs": [
    {
     "data": {
      "text/html": [
       "<div>\n",
       "<style scoped>\n",
       "    .dataframe tbody tr th:only-of-type {\n",
       "        vertical-align: middle;\n",
       "    }\n",
       "\n",
       "    .dataframe tbody tr th {\n",
       "        vertical-align: top;\n",
       "    }\n",
       "\n",
       "    .dataframe thead th {\n",
       "        text-align: right;\n",
       "    }\n",
       "</style>\n",
       "<table border=\"1\" class=\"dataframe\">\n",
       "  <thead>\n",
       "    <tr style=\"text-align: right;\">\n",
       "      <th></th>\n",
       "      <th>psu</th>\n",
       "      <th>status</th>\n",
       "      <th>age</th>\n",
       "      <th>male</th>\n",
       "      <th>industry</th>\n",
       "      <th>wage</th>\n",
       "      <th>public</th>\n",
       "      <th>internet</th>\n",
       "      <th>children</th>\n",
       "      <th>urban</th>\n",
       "      <th>educ</th>\n",
       "      <th>high</th>\n",
       "      <th>malexage</th>\n",
       "    </tr>\n",
       "    <tr>\n",
       "      <th>idind</th>\n",
       "      <th></th>\n",
       "      <th></th>\n",
       "      <th></th>\n",
       "      <th></th>\n",
       "      <th></th>\n",
       "      <th></th>\n",
       "      <th></th>\n",
       "      <th></th>\n",
       "      <th></th>\n",
       "      <th></th>\n",
       "      <th></th>\n",
       "      <th></th>\n",
       "      <th></th>\n",
       "    </tr>\n",
       "  </thead>\n",
       "  <tbody>\n",
       "    <tr>\n",
       "      <th>1685</th>\n",
       "      <td>Ржев и Ржевс</td>\n",
       "      <td>Город</td>\n",
       "      <td>26</td>\n",
       "      <td>0</td>\n",
       "      <td>ФИНАНСЫ</td>\n",
       "      <td>80500</td>\n",
       "      <td>0</td>\n",
       "      <td>1</td>\n",
       "      <td>0</td>\n",
       "      <td>1</td>\n",
       "      <td>1</td>\n",
       "      <td>0</td>\n",
       "      <td>0.0</td>\n",
       "    </tr>\n",
       "  </tbody>\n",
       "</table>\n",
       "</div>"
      ],
      "text/plain": [
       "                psu status  age  male industry   wage  public  internet  \\\n",
       "idind                                                                     \n",
       "1685   Ржев и Ржевс  Город   26     0  ФИНАНСЫ  80500       0         1   \n",
       "\n",
       "       children  urban  educ  high  malexage  \n",
       "idind                                         \n",
       "1685          0      1     1     0       0.0  "
      ]
     },
     "execution_count": 111,
     "metadata": {},
     "output_type": "execute_result"
    }
   ],
   "source": [
    "#Merge the observations that are outliers and have high leverage\n",
    "outliers = pd.DataFrame(abs(inf_sum.student_resid > 3))\n",
    "high_leverage = pd.DataFrame(abs(inf_sum.hat_diag > cutoff_leverage))\n",
    "\n",
    "#Influential Dataset\n",
    "influential_points =pd.merge(outliers,high_leverage, left_index=True, right_index=True)\n",
    "df[influential_points.any(1)]"
   ]
  },
  {
   "cell_type": "markdown",
   "id": "4225c5a3",
   "metadata": {},
   "source": [
    "По этому критерию удалось задетектить один сочный выброс, посмотрим на визуальную составляющую  наших остатков и левереджей"
   ]
  },
  {
   "cell_type": "code",
   "execution_count": 56,
   "id": "b4996094",
   "metadata": {},
   "outputs": [
    {
     "data": {
      "image/png": "[encoded data removed]",
      "text/plain": [
       "<Figure size 864x576 with 1 Axes>"
      ]
     },
     "metadata": {},
     "output_type": "display_data"
    }
   ],
   "source": [
    "fig, ax = plt.subplots(figsize=(12,8))\n",
    "fig = sm.graphics.influence_plot(full_log, ax= ax, criterion=\"cooks\", alpha = 0.05)"
   ]
  },
  {
   "cell_type": "markdown",
   "id": "dcf4a8f1",
   "metadata": {},
   "source": [
    "Формально наблюдаем один сильный выброс, который мы не смогли задетектить такими тестами, так как он удаляет по двум критерям сразу, а тут только большие остатки, а leverage в рамках разумного "
   ]
  },
  {
   "cell_type": "markdown",
   "id": "29dc0a06",
   "metadata": {},
   "source": [
    "**DFBETAS**"
   ]
  },
  {
   "cell_type": "code",
   "execution_count": 113,
   "id": "3c301fc9",
   "metadata": {},
   "outputs": [
    {
     "data": {
      "image/png": "[encoded data removed]",
      "text/plain": [
       "<Figure size 864x576 with 1 Axes>"
      ]
     },
     "metadata": {},
     "output_type": "display_data"
    }
   ],
   "source": [
    "markers = ['o','v', '^', 'p', '_', '+']\n",
    "dfbetas = [x for x in inf_sum.columns.to_list() if ('dfb' in x)]\n",
    "dfbeta_cutoff =  2/(n)**(0.5)\n",
    "fig,ax = plt.subplots(figsize=(12,8))\n",
    "for i in range(len(dfbetas)):\n",
    "    ax.scatter(df.wage, \n",
    "               inf_sum[dfbetas[i]], \n",
    "               marker = markers[i],\n",
    "              label = dfbetas[i],\n",
    "                alpha=0.5,\n",
    "              s=100)\n",
    "    ax.legend(loc='best')\n",
    "    \n",
    "plt.plot((0, max(df.wage)+ 1000), (dfbeta_cutoff, dfbeta_cutoff), '-.r*')\n",
    "plt.plot((0, max(df.wage)+ 1000), (-dfbeta_cutoff, -dfbeta_cutoff), '-.r*');"
   ]
  },
  {
   "cell_type": "code",
   "execution_count": 114,
   "id": "f232ca24",
   "metadata": {},
   "outputs": [
    {
     "data": {
      "text/html": [
       "<div>\n",
       "<style scoped>\n",
       "    .dataframe tbody tr th:only-of-type {\n",
       "        vertical-align: middle;\n",
       "    }\n",
       "\n",
       "    .dataframe tbody tr th {\n",
       "        vertical-align: top;\n",
       "    }\n",
       "\n",
       "    .dataframe thead th {\n",
       "        text-align: right;\n",
       "    }\n",
       "</style>\n",
       "<table border=\"1\" class=\"dataframe\">\n",
       "  <thead>\n",
       "    <tr style=\"text-align: right;\">\n",
       "      <th></th>\n",
       "      <th>psu</th>\n",
       "      <th>status</th>\n",
       "      <th>age</th>\n",
       "      <th>male</th>\n",
       "      <th>industry</th>\n",
       "      <th>wage</th>\n",
       "      <th>public</th>\n",
       "      <th>internet</th>\n",
       "      <th>children</th>\n",
       "      <th>urban</th>\n",
       "      <th>educ</th>\n",
       "      <th>high</th>\n",
       "      <th>malexage</th>\n",
       "    </tr>\n",
       "    <tr>\n",
       "      <th>idind</th>\n",
       "      <th></th>\n",
       "      <th></th>\n",
       "      <th></th>\n",
       "      <th></th>\n",
       "      <th></th>\n",
       "      <th></th>\n",
       "      <th></th>\n",
       "      <th></th>\n",
       "      <th></th>\n",
       "      <th></th>\n",
       "      <th></th>\n",
       "      <th></th>\n",
       "      <th></th>\n",
       "    </tr>\n",
       "  </thead>\n",
       "  <tbody>\n",
       "    <tr>\n",
       "      <th>167</th>\n",
       "      <td>Ржев и Ржевс</td>\n",
       "      <td>Город</td>\n",
       "      <td>28</td>\n",
       "      <td>0</td>\n",
       "      <td>ТРАНСПОРТ, С</td>\n",
       "      <td>550</td>\n",
       "      <td>1</td>\n",
       "      <td>1</td>\n",
       "      <td>2</td>\n",
       "      <td>1</td>\n",
       "      <td>1</td>\n",
       "      <td>0</td>\n",
       "      <td>0.000000</td>\n",
       "    </tr>\n",
       "    <tr>\n",
       "      <th>423</th>\n",
       "      <td>Ржев и Ржевс</td>\n",
       "      <td>Село</td>\n",
       "      <td>51</td>\n",
       "      <td>1</td>\n",
       "      <td>ГРАЖДАНСКОЕ</td>\n",
       "      <td>18500</td>\n",
       "      <td>0</td>\n",
       "      <td>0</td>\n",
       "      <td>0</td>\n",
       "      <td>0</td>\n",
       "      <td>1</td>\n",
       "      <td>0</td>\n",
       "      <td>3.931826</td>\n",
       "    </tr>\n",
       "    <tr>\n",
       "      <th>491</th>\n",
       "      <td>Ржев и Ржевс</td>\n",
       "      <td>Город</td>\n",
       "      <td>31</td>\n",
       "      <td>1</td>\n",
       "      <td>ЖИЛИЩНО-КОММ</td>\n",
       "      <td>9300</td>\n",
       "      <td>1</td>\n",
       "      <td>1</td>\n",
       "      <td>0</td>\n",
       "      <td>1</td>\n",
       "      <td>3</td>\n",
       "      <td>1</td>\n",
       "      <td>3.433987</td>\n",
       "    </tr>\n",
       "    <tr>\n",
       "      <th>733</th>\n",
       "      <td>Ржев и Ржевс</td>\n",
       "      <td>Село</td>\n",
       "      <td>40</td>\n",
       "      <td>1</td>\n",
       "      <td>ТРАНСПОРТ, С</td>\n",
       "      <td>65000</td>\n",
       "      <td>0</td>\n",
       "      <td>1</td>\n",
       "      <td>2</td>\n",
       "      <td>0</td>\n",
       "      <td>0</td>\n",
       "      <td>0</td>\n",
       "      <td>3.688879</td>\n",
       "    </tr>\n",
       "    <tr>\n",
       "      <th>1685</th>\n",
       "      <td>Ржев и Ржевс</td>\n",
       "      <td>Город</td>\n",
       "      <td>26</td>\n",
       "      <td>0</td>\n",
       "      <td>ФИНАНСЫ</td>\n",
       "      <td>80500</td>\n",
       "      <td>0</td>\n",
       "      <td>1</td>\n",
       "      <td>0</td>\n",
       "      <td>1</td>\n",
       "      <td>1</td>\n",
       "      <td>0</td>\n",
       "      <td>0.000000</td>\n",
       "    </tr>\n",
       "    <tr>\n",
       "      <th>1691</th>\n",
       "      <td>Ржев и Ржевс</td>\n",
       "      <td>Город</td>\n",
       "      <td>24</td>\n",
       "      <td>0</td>\n",
       "      <td>АРМИЯ, МВД,</td>\n",
       "      <td>30500</td>\n",
       "      <td>0</td>\n",
       "      <td>1</td>\n",
       "      <td>0</td>\n",
       "      <td>1</td>\n",
       "      <td>2</td>\n",
       "      <td>0</td>\n",
       "      <td>0.000000</td>\n",
       "    </tr>\n",
       "    <tr>\n",
       "      <th>1698</th>\n",
       "      <td>Ржев и Ржевс</td>\n",
       "      <td>Село</td>\n",
       "      <td>44</td>\n",
       "      <td>1</td>\n",
       "      <td>СТРОИТЕЛЬСТВ</td>\n",
       "      <td>10500</td>\n",
       "      <td>0</td>\n",
       "      <td>1</td>\n",
       "      <td>3</td>\n",
       "      <td>0</td>\n",
       "      <td>0</td>\n",
       "      <td>0</td>\n",
       "      <td>3.784190</td>\n",
       "    </tr>\n",
       "    <tr>\n",
       "      <th>1701</th>\n",
       "      <td>Ржев и Ржевс</td>\n",
       "      <td>Село</td>\n",
       "      <td>38</td>\n",
       "      <td>0</td>\n",
       "      <td>ГРАЖДАНСКОЕ</td>\n",
       "      <td>8500</td>\n",
       "      <td>0</td>\n",
       "      <td>1</td>\n",
       "      <td>2</td>\n",
       "      <td>0</td>\n",
       "      <td>3</td>\n",
       "      <td>1</td>\n",
       "      <td>0.000000</td>\n",
       "    </tr>\n",
       "    <tr>\n",
       "      <th>1703</th>\n",
       "      <td>Ржев и Ржевс</td>\n",
       "      <td>Город</td>\n",
       "      <td>25</td>\n",
       "      <td>0</td>\n",
       "      <td>ТОРГОВЛЯ, БЫ</td>\n",
       "      <td>25500</td>\n",
       "      <td>0</td>\n",
       "      <td>1</td>\n",
       "      <td>1</td>\n",
       "      <td>1</td>\n",
       "      <td>1</td>\n",
       "      <td>0</td>\n",
       "      <td>0.000000</td>\n",
       "    </tr>\n",
       "    <tr>\n",
       "      <th>3148</th>\n",
       "      <td>Ржев и Ржевс</td>\n",
       "      <td>Город</td>\n",
       "      <td>38</td>\n",
       "      <td>1</td>\n",
       "      <td>ТРАНСПОРТ, С</td>\n",
       "      <td>9500</td>\n",
       "      <td>0</td>\n",
       "      <td>1</td>\n",
       "      <td>0</td>\n",
       "      <td>1</td>\n",
       "      <td>1</td>\n",
       "      <td>0</td>\n",
       "      <td>3.637586</td>\n",
       "    </tr>\n",
       "  </tbody>\n",
       "</table>\n",
       "</div>"
      ],
      "text/plain": [
       "                psu status  age  male      industry   wage  public  internet  \\\n",
       "idind                                                                          \n",
       "167    Ржев и Ржевс  Город   28     0  ТРАНСПОРТ, С    550       1         1   \n",
       "423    Ржев и Ржевс   Село   51     1   ГРАЖДАНСКОЕ  18500       0         0   \n",
       "491    Ржев и Ржевс  Город   31     1  ЖИЛИЩНО-КОММ   9300       1         1   \n",
       "733    Ржев и Ржевс   Село   40     1  ТРАНСПОРТ, С  65000       0         1   \n",
       "1685   Ржев и Ржевс  Город   26     0       ФИНАНСЫ  80500       0         1   \n",
       "1691   Ржев и Ржевс  Город   24     0   АРМИЯ, МВД,  30500       0         1   \n",
       "1698   Ржев и Ржевс   Село   44     1  СТРОИТЕЛЬСТВ  10500       0         1   \n",
       "1701   Ржев и Ржевс   Село   38     0   ГРАЖДАНСКОЕ   8500       0         1   \n",
       "1703   Ржев и Ржевс  Город   25     0  ТОРГОВЛЯ, БЫ  25500       0         1   \n",
       "3148   Ржев и Ржевс  Город   38     1  ТРАНСПОРТ, С   9500       0         1   \n",
       "\n",
       "       children  urban  educ  high  malexage  \n",
       "idind                                         \n",
       "167           2      1     1     0  0.000000  \n",
       "423           0      0     1     0  3.931826  \n",
       "491           0      1     3     1  3.433987  \n",
       "733           2      0     0     0  3.688879  \n",
       "1685          0      1     1     0  0.000000  \n",
       "1691          0      1     2     0  0.000000  \n",
       "1698          3      0     0     0  3.784190  \n",
       "1701          2      0     3     1  0.000000  \n",
       "1703          1      1     1     0  0.000000  \n",
       "3148          0      1     1     0  3.637586  "
      ]
     },
     "execution_count": 114,
     "metadata": {},
     "output_type": "execute_result"
    }
   ],
   "source": [
    "df.loc[inf_sum[(abs(inf_sum[dfbetas]) > dfbeta_cutoff).any(1)].index]"
   ]
  },
  {
   "cell_type": "markdown",
   "id": "f8dae0a7",
   "metadata": {},
   "source": [
    "Вот здесь можно увидеть выбросы отобранные по DFBETA. Что где-то человек получает 550р при нормальных признаках, кто-то 80к без высшего и тд"
   ]
  },
  {
   "cell_type": "markdown",
   "id": "f0212282",
   "metadata": {},
   "source": [
    "#### Задание 7"
   ]
  },
  {
   "cell_type": "markdown",
   "id": "2c721b2a",
   "metadata": {},
   "source": [
    "**1) Посчитать корреляцию в лоб**"
   ]
  },
  {
   "cell_type": "code",
   "execution_count": 115,
   "id": "1f609b23",
   "metadata": {},
   "outputs": [
    {
     "data": {
      "image/png": "[encoded data removed]",
      "text/plain": [
       "<Figure size 864x648 with 2 Axes>"
      ]
     },
     "metadata": {},
     "output_type": "display_data"
    }
   ],
   "source": [
    "fig, ax = plt.subplots(1, 1, figsize=(12,9))\n",
    "\n",
    "corr = df[['age', 'high', 'male', 'children', 'urban']].corr()\n",
    "sns.heatmap(corr,\n",
    "            xticklabels=corr.columns, yticklabels=corr.columns, \n",
    "            cmap='rocket', annot=True, fmt='.2g', ax=ax)\n",
    "plt.show()"
   ]
  },
  {
   "cell_type": "markdown",
   "id": "ad9c59fb",
   "metadata": {},
   "source": [
    "Не видно явных корреляций между признаками при этом подходе. Заметен намек на свзязь проживания в городе и меньшего количества детей. Проверим более формальными спомобами мультиколлиниарность "
   ]
  },
  {
   "cell_type": "markdown",
   "id": "4b440ff4",
   "metadata": {},
   "source": [
    "**2) VIF**"
   ]
  },
  {
   "cell_type": "code",
   "execution_count": 116,
   "id": "7358f305",
   "metadata": {},
   "outputs": [],
   "source": [
    "from statsmodels.stats.outliers_influence import variance_inflation_factor"
   ]
  },
  {
   "cell_type": "code",
   "execution_count": 117,
   "id": "19b92c70",
   "metadata": {},
   "outputs": [],
   "source": [
    "reg_vars = ['age', 'high', 'male', 'children', 'urban']"
   ]
  },
  {
   "cell_type": "code",
   "execution_count": 118,
   "id": "aa3f9031",
   "metadata": {},
   "outputs": [],
   "source": [
    "vif = pd.DataFrame({'variables':reg_vars,\n",
    "                    'VIF':[variance_inflation_factor(df[reg_vars].values, i) for i in range(len(reg_vars))]})"
   ]
  },
  {
   "cell_type": "code",
   "execution_count": 119,
   "id": "0bfe9db5",
   "metadata": {},
   "outputs": [
    {
     "data": {
      "text/html": [
       "<div>\n",
       "<style scoped>\n",
       "    .dataframe tbody tr th:only-of-type {\n",
       "        vertical-align: middle;\n",
       "    }\n",
       "\n",
       "    .dataframe tbody tr th {\n",
       "        vertical-align: top;\n",
       "    }\n",
       "\n",
       "    .dataframe thead th {\n",
       "        text-align: right;\n",
       "    }\n",
       "</style>\n",
       "<table border=\"1\" class=\"dataframe\">\n",
       "  <thead>\n",
       "    <tr style=\"text-align: right;\">\n",
       "      <th></th>\n",
       "      <th>variables</th>\n",
       "      <th>VIF</th>\n",
       "    </tr>\n",
       "  </thead>\n",
       "  <tbody>\n",
       "    <tr>\n",
       "      <th>0</th>\n",
       "      <td>age</td>\n",
       "      <td>8.227057</td>\n",
       "    </tr>\n",
       "    <tr>\n",
       "      <th>1</th>\n",
       "      <td>high</td>\n",
       "      <td>1.514165</td>\n",
       "    </tr>\n",
       "    <tr>\n",
       "      <th>2</th>\n",
       "      <td>male</td>\n",
       "      <td>1.816625</td>\n",
       "    </tr>\n",
       "    <tr>\n",
       "      <th>3</th>\n",
       "      <td>children</td>\n",
       "      <td>3.135239</td>\n",
       "    </tr>\n",
       "    <tr>\n",
       "      <th>4</th>\n",
       "      <td>urban</td>\n",
       "      <td>4.501158</td>\n",
       "    </tr>\n",
       "  </tbody>\n",
       "</table>\n",
       "</div>"
      ],
      "text/plain": [
       "  variables       VIF\n",
       "0       age  8.227057\n",
       "1      high  1.514165\n",
       "2      male  1.816625\n",
       "3  children  3.135239\n",
       "4     urban  4.501158"
      ]
     },
     "execution_count": 119,
     "metadata": {},
     "output_type": "execute_result"
    }
   ],
   "source": [
    "vif"
   ]
  },
  {
   "cell_type": "markdown",
   "id": "23b30a8e",
   "metadata": {},
   "source": [
    "В целом предположения не оправдались и мультиколлинеарности в данных как таковой нет"
   ]
  },
  {
   "cell_type": "markdown",
   "id": "46986a43",
   "metadata": {},
   "source": [
    "#### Задание 8"
   ]
  },
  {
   "cell_type": "markdown",
   "id": "eeb6c7c8",
   "metadata": {},
   "source": [
    "1) Нет неуместно, так как проблема мультиколлинеарности не была обнаружена в предыдущих пунктах\n",
    "\n",
    "2) Метод используется для устранения проблемы мультиколлинеарности через понижение размерности вектора регрессоров и устранение самых изменчивых\n",
    "\n",
    "3) Проблемы применения МГК:\n",
    " * Интерпретировать коэффициенты свободно больше нельзя\n",
    " * Могут плохо спроецироваться новые значения и модель станет еще хуже "
   ]
  },
  {
   "cell_type": "markdown",
   "id": "cf2bdc54",
   "metadata": {},
   "source": [
    "#### Задание 9"
   ]
  },
  {
   "cell_type": "code",
   "execution_count": 121,
   "id": "1ed34df8",
   "metadata": {},
   "outputs": [
    {
     "name": "stderr",
     "output_type": "stream",
     "text": [
      "C:\\Users\\clank\\anaconda3\\lib\\site-packages\\seaborn\\_decorators.py:36: FutureWarning: Pass the following variables as keyword args: x, y. From version 0.12, the only valid positional argument will be `data`, and passing other arguments without an explicit keyword will result in an error or misinterpretation.\n",
      "  warnings.warn(\n"
     ]
    },
    {
     "data": {
      "image/png": "[encoded data removed]",
      "text/plain": [
       "<Figure size 1152x432 with 1 Axes>"
      ]
     },
     "metadata": {},
     "output_type": "display_data"
    }
   ],
   "source": [
    "fig, ax = plt.subplots(1, 1, figsize=(16, 6))\n",
    "predict = full_log.fittedvalues\n",
    "error = np.log(df['wage']) - predict\n",
    "\n",
    "sns.scatterplot(predict, error)\n",
    "plt.axhline(y=0,\n",
    "            color='g')\n",
    "plt.xlabel('predict', fontsize=16)\n",
    "plt.ylabel('error', fontsize=16);"
   ]
  },
  {
   "cell_type": "markdown",
   "id": "ee1e16a3",
   "metadata": {},
   "source": [
    "Если сравнить с модель из прошлого дз, то вышло в какой-то степени лучше: остатки ближе прижлись к 0 с обеих сторон, но есть сильно выбивающиеся прогнозы по даннным все еще. Судя по остаткам модели, гетероскедстичность в данной выборке не наблюдается. Хотя модель далеко не идеальная, но в целом она достаточно неплохо может пресдказывать зарабботную плату по *возрасту, полу, наличию высшего, кол-ву детей и факту проживания в городе*"
   ]
  },
  {
   "cell_type": "markdown",
   "id": "ed9abdba",
   "metadata": {},
   "source": [
    "#### Задание 10"
   ]
  },
  {
   "cell_type": "markdown",
   "id": "1a1e5a8d",
   "metadata": {},
   "source": [
    "**0) Анализ графиков**"
   ]
  },
  {
   "cell_type": "markdown",
   "id": "0652f47e",
   "metadata": {},
   "source": [
    "В прошлом задании, анализируя график остатков, можно прийти к выводу, что гетероскедастичности нет, так как остатки равномерно прижаты к 0 и нет расширения десперсии в остатках в определенных участках "
   ]
  },
  {
   "cell_type": "markdown",
   "id": "4e1a96bb",
   "metadata": {},
   "source": [
    "**1) Тест Уайта**\n",
    "\n",
    "*Источник: https://towardsdatascience.com/a-tutorial-on-whites-heteroskedasticity-consistent-estimator-using-python-and-statsmodels-7d38789150d1*\n",
    "\n",
    "https://www.codecamp.ru/blog/white-test-in-python/?ysclid=lb54194yeh23172096"
   ]
  },
  {
   "cell_type": "markdown",
   "id": "78dc32f6",
   "metadata": {},
   "source": [
    "$$\n",
    "\\begin{aligned}\n",
    "&H_0: \\text{присутствует гомоскедастичность (остатки равномерно разбросаны)}\\\\\n",
    "&H_1: \\text{присутствует гетероскедастичность (остатки разбросаны неравномерно)}\n",
    "\\end{aligned}\n",
    "$$\n"
   ]
  },
  {
   "cell_type": "markdown",
   "id": "495ed0d0",
   "metadata": {},
   "source": [
    "$$\n",
    "H_0: \\sigma^2_{\\epsilon_i} = \\sigma^2, \\\\\n",
    "Var_{\\epsilon_i} = \\sigma^2;\\\\\n",
    "H_1: Var_{\\epsilon_i} = \\sigma^2_i\n",
    "$$"
   ]
  },
  {
   "cell_type": "code",
   "execution_count": 122,
   "id": "97caec4b",
   "metadata": {},
   "outputs": [],
   "source": [
    "from statsmodels.stats.diagnostic import het_white"
   ]
  },
  {
   "cell_type": "code",
   "execution_count": 123,
   "id": "7ca98001",
   "metadata": {},
   "outputs": [],
   "source": [
    "labels = ['Test Statistic', 'Test Statistic p-value', 'F-Statistic', 'F-Test p-value']\n",
    "white_test = het_white(lin_reg.resid, lin_reg.model.exog)\n",
    "\n",
    "white_res = dict(zip(labels, white_test))"
   ]
  },
  {
   "cell_type": "code",
   "execution_count": 124,
   "id": "4861eec2",
   "metadata": {},
   "outputs": [
    {
     "data": {
      "text/plain": [
       "{'Test Statistic': 14.70537502737671,\n",
       " 'Test Statistic p-value': 0.6166938065641436,\n",
       " 'F-Statistic': 0.8185265759856784,\n",
       " 'F-Test p-value': 0.6658854754684981}"
      ]
     },
     "execution_count": 124,
     "metadata": {},
     "output_type": "execute_result"
    }
   ],
   "source": [
    "white_res"
   ]
  },
  {
   "cell_type": "code",
   "execution_count": 125,
   "id": "e0a3d85f",
   "metadata": {},
   "outputs": [
    {
     "name": "stdout",
     "output_type": "stream",
     "text": [
      "Ho не отвергается на уровне значимости 0.01: p-value = 0.6166938065641436 \n",
      "Ho не отвергается на уровне значимости 0.05: p-value = 0.6166938065641436 \n",
      "Ho не отвергается на уровне значимости 0.1: p-value = 0.6166938065641436 \n"
     ]
    }
   ],
   "source": [
    "for alpha in alphas:\n",
    "    make_hyp_test(alpha, white_res['Test Statistic p-value'])"
   ]
  },
  {
   "cell_type": "markdown",
   "id": "bee90afc",
   "metadata": {},
   "source": [
    "Так как нулевая гипотеза теста Уайта не отвергается на любом адекватном уровне значимости, то гетероскедастичности в данных нет"
   ]
  },
  {
   "cell_type": "markdown",
   "id": "cddd2528",
   "metadata": {},
   "source": [
    "**2) Тест Бройша-Пагана**"
   ]
  },
  {
   "cell_type": "markdown",
   "id": "f10c0fe4",
   "metadata": {},
   "source": [
    "*Источники: https://www.statology.org/breusch-pagan-test-python/*\n",
    "\n",
    "*https://www.statsmodels.org/dev/generated/statsmodels.stats.diagnostic.het_breuschpagan.html*"
   ]
  },
  {
   "cell_type": "code",
   "execution_count": 126,
   "id": "0110da03",
   "metadata": {},
   "outputs": [],
   "source": [
    "from statsmodels.stats.diagnostic import het_breuschpagan"
   ]
  },
  {
   "cell_type": "code",
   "execution_count": 127,
   "id": "7265c7a8",
   "metadata": {},
   "outputs": [],
   "source": [
    "labels = ['Lagrange multiplier statistic', 'p-value', 'f-value', 'f p-value']\n",
    "bp_test = het_breuschpagan(lin_reg.resid, lin_reg.model.exog)\n",
    "\n",
    "bp_res = dict(zip(labels, bp_test))"
   ]
  },
  {
   "cell_type": "code",
   "execution_count": 128,
   "id": "f7058f24",
   "metadata": {},
   "outputs": [
    {
     "data": {
      "text/plain": [
       "{'Lagrange multiplier statistic': 3.6322714764331208,\n",
       " 'p-value': 0.603474479414838,\n",
       " 'f-value': 0.7026861517907615,\n",
       " 'f p-value': 0.623287510134254}"
      ]
     },
     "execution_count": 128,
     "metadata": {},
     "output_type": "execute_result"
    }
   ],
   "source": [
    "bp_res"
   ]
  },
  {
   "cell_type": "code",
   "execution_count": 129,
   "id": "5d336c8d",
   "metadata": {},
   "outputs": [
    {
     "name": "stdout",
     "output_type": "stream",
     "text": [
      "Ho не отвергается на уровне значимости 0.01: p-value = 0.623287510134254 \n",
      "Ho не отвергается на уровне значимости 0.05: p-value = 0.623287510134254 \n",
      "Ho не отвергается на уровне значимости 0.1: p-value = 0.623287510134254 \n"
     ]
    }
   ],
   "source": [
    "for alpha in alphas:\n",
    "    make_hyp_test(alpha, bp_res['f p-value'])\n",
    "#В статье утверждается, что на малых выборках значение LM теста, может быть переоценено\n",
    "# поэтому используем F-тест и соответсущее p-value"
   ]
  },
  {
   "cell_type": "markdown",
   "id": "ca2fd5a3",
   "metadata": {},
   "source": [
    "Так как нулевая гипотеза теста Бройша-Пагана не отвергается на любом адекватном уровне значимости, то гетероскедастичности в данных так же нет"
   ]
  },
  {
   "cell_type": "markdown",
   "id": "5cb0f318",
   "metadata": {},
   "source": [
    "#### Задание 11"
   ]
  },
  {
   "cell_type": "markdown",
   "id": "41b9b934",
   "metadata": {},
   "source": [
    "У нас есть две модели: одна обученая на выборках, где male = 1, другая - male = 0.\n",
    "\n",
    "$ \\hat Y = \\alpha + \\hat{\\beta_1} X_1 + \\hat{\\beta_2} X_2 + \\hat{\\beta_2} X_2 + ... +\\hat{\\beta_k} X_k (1) \\\\\n",
    "\\hat Y = \\alpha + \\hat{\\beta_1} X_1 + \\hat{\\beta_2} X_2 + \\hat{\\beta_2} X_2 + ... +\\hat{\\beta_k} X_k + \\alpha_2 \\hat {Y^2} (2)\n",
    "$\n",
    "\n",
    "Будем проверят на необходимость наличия квадрата количества детей (children) в модели\n",
    "\n",
    "$$\n",
    "\\begin{aligned}\n",
    "&H_0: \\alpha_2 = 0:\\text{Модель (1) задана верно}\\\\\n",
    "&H_1: \\alpha_2 \\neq 0: \\text{Модель (1) задана неверно} \n",
    "\\end{aligned}\n",
    "$$\n",
    "\n",
    "Тестовая статистика :\n",
    "\n",
    "$$\n",
    "\\begin{aligned}\n",
    "F = \\frac{(RSS_R - RSS_{UR})/(m - 1)}{RSS_{UR}/(n-(k+m))} \\sim F_{m-1,n-(k+m)}\n",
    "\\end{aligned}\n",
    "$$\n",
    "\n",
    "$$  \n",
    "\\begin{align*}\n",
    "& \\text{где k - количество регрессоров в базовой модели без учета константы}, \\\\\n",
    "& \\text{n - количество наблюдений}, \\\\\n",
    "& \\text{m - максимальная степень нового регрессора},\\\\\n",
    "&\\text{RSSr - сумма квадратов остатков модели (1)},\\\\\n",
    "&\\text{RSSur - сумма остатков квадратов по модели (2)}\n",
    "\\end{align*}\n",
    "$$"
   ]
  },
  {
   "cell_type": "code",
   "execution_count": 130,
   "id": "e47be3bc",
   "metadata": {},
   "outputs": [],
   "source": [
    "from statsmodels.stats.outliers_influence import reset_ramsey"
   ]
  },
  {
   "cell_type": "code",
   "execution_count": 131,
   "id": "499b0949",
   "metadata": {},
   "outputs": [],
   "source": [
    "log_reg = lr.ols('np.log(wage) ~ np.log(age) + high + male + children + urban',\n",
    "                  data=df).fit()"
   ]
  },
  {
   "cell_type": "code",
   "execution_count": 132,
   "id": "8694adcb",
   "metadata": {},
   "outputs": [
    {
     "data": {
      "text/plain": [
       "<class 'statsmodels.stats.contrast.ContrastResults'>\n",
       "<F test: F=0.9398444824530897, p=0.33570389592790617, df_denom=69, df_num=1>"
      ]
     },
     "execution_count": 132,
     "metadata": {},
     "output_type": "execute_result"
    }
   ],
   "source": [
    "reset_ramsey(log_reg, degree=2)"
   ]
  },
  {
   "cell_type": "markdown",
   "id": "8536d81a",
   "metadata": {},
   "source": [
    "**Вывод:** нулевая гипотеза не отвергется на любом адекватном уровне значимости, а следовательно модель задана верно и все зависимости учтены "
   ]
  },
  {
   "cell_type": "markdown",
   "id": "b03dff49",
   "metadata": {},
   "source": [
    "#### Задание 12"
   ]
  },
  {
   "cell_type": "markdown",
   "id": "afdf9f33",
   "metadata": {},
   "source": [
    "Рассмотрим уровень значимости $\\alpha = 0.1$. Тогда значимые признаки:\n",
    "* age - возраст\n",
    "* male - 1 если мужчина, 0 если женщина\n",
    "* children - количество детей\n",
    "\n",
    "Модель имеет вид:\n",
    "$$\n",
    "\\begin{aligned}\n",
    "ln(\\hat{wage}) = \\hat{\\beta_0} +  \\hat{\\beta_1}ln(age) + \\hat{\\beta_2} male + \\hat{\\beta_3}  children \n",
    "\\end{aligned}\n",
    "$$"
   ]
  },
  {
   "cell_type": "code",
   "execution_count": 133,
   "id": "ec6164fb",
   "metadata": {},
   "outputs": [],
   "source": [
    "log_mod_sign = lr.ols('np.log(wage) ~ np.log(age) + male + children', data=df).fit()"
   ]
  },
  {
   "cell_type": "code",
   "execution_count": 134,
   "id": "ad6302a9",
   "metadata": {},
   "outputs": [
    {
     "data": {
      "text/html": [
       "<table class=\"simpletable\">\n",
       "<caption>OLS Regression Results</caption>\n",
       "<tr>\n",
       "  <th>Dep. Variable:</th>      <td>np.log(wage)</td>   <th>  R-squared:         </th> <td>   0.209</td>\n",
       "</tr>\n",
       "<tr>\n",
       "  <th>Model:</th>                   <td>OLS</td>       <th>  Adj. R-squared:    </th> <td>   0.176</td>\n",
       "</tr>\n",
       "<tr>\n",
       "  <th>Method:</th>             <td>Least Squares</td>  <th>  F-statistic:       </th> <td>   6.342</td>\n",
       "</tr>\n",
       "<tr>\n",
       "  <th>Date:</th>             <td>Thu, 15 Dec 2022</td> <th>  Prob (F-statistic):</th> <td>0.000708</td>\n",
       "</tr>\n",
       "<tr>\n",
       "  <th>Time:</th>                 <td>23:17:41</td>     <th>  Log-Likelihood:    </th> <td> -69.035</td>\n",
       "</tr>\n",
       "<tr>\n",
       "  <th>No. Observations:</th>      <td>    76</td>      <th>  AIC:               </th> <td>   146.1</td>\n",
       "</tr>\n",
       "<tr>\n",
       "  <th>Df Residuals:</th>          <td>    72</td>      <th>  BIC:               </th> <td>   155.4</td>\n",
       "</tr>\n",
       "<tr>\n",
       "  <th>Df Model:</th>              <td>     3</td>      <th>                     </th>     <td> </td>   \n",
       "</tr>\n",
       "<tr>\n",
       "  <th>Covariance Type:</th>      <td>nonrobust</td>    <th>                     </th>     <td> </td>   \n",
       "</tr>\n",
       "</table>\n",
       "<table class=\"simpletable\">\n",
       "<tr>\n",
       "       <td></td>          <th>coef</th>     <th>std err</th>      <th>t</th>      <th>P>|t|</th>  <th>[0.025</th>    <th>0.975]</th>  \n",
       "</tr>\n",
       "<tr>\n",
       "  <th>Intercept</th>   <td>    7.7471</td> <td>    1.035</td> <td>    7.485</td> <td> 0.000</td> <td>    5.684</td> <td>    9.810</td>\n",
       "</tr>\n",
       "<tr>\n",
       "  <th>np.log(age)</th> <td>    0.5802</td> <td>    0.285</td> <td>    2.039</td> <td> 0.045</td> <td>    0.013</td> <td>    1.148</td>\n",
       "</tr>\n",
       "<tr>\n",
       "  <th>male</th>        <td>    0.4721</td> <td>    0.143</td> <td>    3.294</td> <td> 0.002</td> <td>    0.186</td> <td>    0.758</td>\n",
       "</tr>\n",
       "<tr>\n",
       "  <th>children</th>    <td>   -0.1490</td> <td>    0.083</td> <td>   -1.797</td> <td> 0.077</td> <td>   -0.314</td> <td>    0.016</td>\n",
       "</tr>\n",
       "</table>\n",
       "<table class=\"simpletable\">\n",
       "<tr>\n",
       "  <th>Omnibus:</th>       <td>43.012</td> <th>  Durbin-Watson:     </th> <td>   1.834</td>\n",
       "</tr>\n",
       "<tr>\n",
       "  <th>Prob(Omnibus):</th> <td> 0.000</td> <th>  Jarque-Bera (JB):  </th> <td> 217.339</td>\n",
       "</tr>\n",
       "<tr>\n",
       "  <th>Skew:</th>          <td>-1.543</td> <th>  Prob(JB):          </th> <td>6.39e-48</td>\n",
       "</tr>\n",
       "<tr>\n",
       "  <th>Kurtosis:</th>      <td>10.689</td> <th>  Cond. No.          </th> <td>    61.5</td>\n",
       "</tr>\n",
       "</table><br/><br/>Notes:<br/>[1] Standard Errors assume that the covariance matrix of the errors is correctly specified."
      ],
      "text/plain": [
       "<class 'statsmodels.iolib.summary.Summary'>\n",
       "\"\"\"\n",
       "                            OLS Regression Results                            \n",
       "==============================================================================\n",
       "Dep. Variable:           np.log(wage)   R-squared:                       0.209\n",
       "Model:                            OLS   Adj. R-squared:                  0.176\n",
       "Method:                 Least Squares   F-statistic:                     6.342\n",
       "Date:                Thu, 15 Dec 2022   Prob (F-statistic):           0.000708\n",
       "Time:                        23:17:41   Log-Likelihood:                -69.035\n",
       "No. Observations:                  76   AIC:                             146.1\n",
       "Df Residuals:                      72   BIC:                             155.4\n",
       "Df Model:                           3                                         \n",
       "Covariance Type:            nonrobust                                         \n",
       "===============================================================================\n",
       "                  coef    std err          t      P>|t|      [0.025      0.975]\n",
       "-------------------------------------------------------------------------------\n",
       "Intercept       7.7471      1.035      7.485      0.000       5.684       9.810\n",
       "np.log(age)     0.5802      0.285      2.039      0.045       0.013       1.148\n",
       "male            0.4721      0.143      3.294      0.002       0.186       0.758\n",
       "children       -0.1490      0.083     -1.797      0.077      -0.314       0.016\n",
       "==============================================================================\n",
       "Omnibus:                       43.012   Durbin-Watson:                   1.834\n",
       "Prob(Omnibus):                  0.000   Jarque-Bera (JB):              217.339\n",
       "Skew:                          -1.543   Prob(JB):                     6.39e-48\n",
       "Kurtosis:                      10.689   Cond. No.                         61.5\n",
       "==============================================================================\n",
       "\n",
       "Notes:\n",
       "[1] Standard Errors assume that the covariance matrix of the errors is correctly specified.\n",
       "\"\"\""
      ]
     },
     "execution_count": 134,
     "metadata": {},
     "output_type": "execute_result"
    }
   ],
   "source": [
    "log_mod_sign.summary()"
   ]
  },
  {
   "cell_type": "markdown",
   "id": "ccf1f3cd",
   "metadata": {},
   "source": [
    "$$\n",
    "\\begin{aligned}\n",
    "ln(\\hat{wage}) = 7.7471 +  0.5802*ln(age) + 0.4721*male -0.1490*children \n",
    "\\end{aligned}\n",
    "$$"
   ]
  },
  {
   "cell_type": "markdown",
   "id": "10f9c1ab",
   "metadata": {},
   "source": [
    "Нетрудно заметить, что $R^2$ модели со значимыми параметрами показывает качество хуже, чем на полной модели (0.209 < 0.205) Несмотря на то что $adjR^2$: (0.176>0.169), $AIC$: (146.1 < 148.8) и $BIC$: (155.4 < 162.6) показывает, что можель со значимыми переменными оказывается лучше первой, это лишь говорит о том, что модел обладает примуществом за счет компактности из-за  меньшего количества переменных в модели. Скорректированный $R^2$ оказался больше, так как при сокращении переменных он вырастет, аналогично при сокращении переменных в модели улучшится $AIC$ и $BIC$.\n",
    "\n",
    "**Резюме:** стоит отдать предпочтение модели со значимыми переменными, так как она облажает лучшей объясняющкй способностью и в ней нет шумовых переменных которые смещают неправильные зависимости при объяснении размера заработной платы"
   ]
  },
  {
   "cell_type": "markdown",
   "id": "9a69c195",
   "metadata": {},
   "source": [
    "#### Задание 13"
   ]
  },
  {
   "cell_type": "markdown",
   "id": "165a56f0",
   "metadata": {},
   "source": [
    "Ище раз посмотрим на нашу текущую модель"
   ]
  },
  {
   "cell_type": "code",
   "execution_count": 135,
   "id": "9fc2fc8f",
   "metadata": {},
   "outputs": [
    {
     "data": {
      "text/html": [
       "<table class=\"simpletable\">\n",
       "<caption>OLS Regression Results</caption>\n",
       "<tr>\n",
       "  <th>Dep. Variable:</th>      <td>np.log(wage)</td>   <th>  R-squared:         </th> <td>   0.225</td>\n",
       "</tr>\n",
       "<tr>\n",
       "  <th>Model:</th>                   <td>OLS</td>       <th>  Adj. R-squared:    </th> <td>   0.170</td>\n",
       "</tr>\n",
       "<tr>\n",
       "  <th>Method:</th>             <td>Least Squares</td>  <th>  F-statistic:       </th> <td>   4.064</td>\n",
       "</tr>\n",
       "<tr>\n",
       "  <th>Date:</th>             <td>Thu, 15 Dec 2022</td> <th>  Prob (F-statistic):</th>  <td>0.00269</td>\n",
       "</tr>\n",
       "<tr>\n",
       "  <th>Time:</th>                 <td>23:17:44</td>     <th>  Log-Likelihood:    </th> <td> -68.261</td>\n",
       "</tr>\n",
       "<tr>\n",
       "  <th>No. Observations:</th>      <td>    76</td>      <th>  AIC:               </th> <td>   148.5</td>\n",
       "</tr>\n",
       "<tr>\n",
       "  <th>Df Residuals:</th>          <td>    70</td>      <th>  BIC:               </th> <td>   162.5</td>\n",
       "</tr>\n",
       "<tr>\n",
       "  <th>Df Model:</th>              <td>     5</td>      <th>                     </th>     <td> </td>   \n",
       "</tr>\n",
       "<tr>\n",
       "  <th>Covariance Type:</th>      <td>nonrobust</td>    <th>                     </th>     <td> </td>   \n",
       "</tr>\n",
       "</table>\n",
       "<table class=\"simpletable\">\n",
       "<tr>\n",
       "       <td></td>          <th>coef</th>     <th>std err</th>      <th>t</th>      <th>P>|t|</th>  <th>[0.025</th>    <th>0.975]</th>  \n",
       "</tr>\n",
       "<tr>\n",
       "  <th>Intercept</th>   <td>    7.6348</td> <td>    1.044</td> <td>    7.314</td> <td> 0.000</td> <td>    5.553</td> <td>    9.717</td>\n",
       "</tr>\n",
       "<tr>\n",
       "  <th>np.log(age)</th> <td>    0.5763</td> <td>    0.287</td> <td>    2.006</td> <td> 0.049</td> <td>    0.003</td> <td>    1.149</td>\n",
       "</tr>\n",
       "<tr>\n",
       "  <th>high</th>        <td>    0.1640</td> <td>    0.156</td> <td>    1.049</td> <td> 0.298</td> <td>   -0.148</td> <td>    0.476</td>\n",
       "</tr>\n",
       "<tr>\n",
       "  <th>male</th>        <td>    0.4988</td> <td>    0.146</td> <td>    3.419</td> <td> 0.001</td> <td>    0.208</td> <td>    0.790</td>\n",
       "</tr>\n",
       "<tr>\n",
       "  <th>children</th>    <td>   -0.1468</td> <td>    0.086</td> <td>   -1.707</td> <td> 0.092</td> <td>   -0.318</td> <td>    0.025</td>\n",
       "</tr>\n",
       "<tr>\n",
       "  <th>urban</th>       <td>    0.0758</td> <td>    0.182</td> <td>    0.416</td> <td> 0.678</td> <td>   -0.287</td> <td>    0.439</td>\n",
       "</tr>\n",
       "</table>\n",
       "<table class=\"simpletable\">\n",
       "<tr>\n",
       "  <th>Omnibus:</th>       <td>42.137</td> <th>  Durbin-Watson:     </th> <td>   1.807</td>\n",
       "</tr>\n",
       "<tr>\n",
       "  <th>Prob(Omnibus):</th> <td> 0.000</td> <th>  Jarque-Bera (JB):  </th> <td> 217.131</td>\n",
       "</tr>\n",
       "<tr>\n",
       "  <th>Skew:</th>          <td>-1.491</td> <th>  Prob(JB):          </th> <td>7.09e-48</td>\n",
       "</tr>\n",
       "<tr>\n",
       "  <th>Kurtosis:</th>      <td>10.725</td> <th>  Cond. No.          </th> <td>    63.0</td>\n",
       "</tr>\n",
       "</table><br/><br/>Notes:<br/>[1] Standard Errors assume that the covariance matrix of the errors is correctly specified."
      ],
      "text/plain": [
       "<class 'statsmodels.iolib.summary.Summary'>\n",
       "\"\"\"\n",
       "                            OLS Regression Results                            \n",
       "==============================================================================\n",
       "Dep. Variable:           np.log(wage)   R-squared:                       0.225\n",
       "Model:                            OLS   Adj. R-squared:                  0.170\n",
       "Method:                 Least Squares   F-statistic:                     4.064\n",
       "Date:                Thu, 15 Dec 2022   Prob (F-statistic):            0.00269\n",
       "Time:                        23:17:44   Log-Likelihood:                -68.261\n",
       "No. Observations:                  76   AIC:                             148.5\n",
       "Df Residuals:                      70   BIC:                             162.5\n",
       "Df Model:                           5                                         \n",
       "Covariance Type:            nonrobust                                         \n",
       "===============================================================================\n",
       "                  coef    std err          t      P>|t|      [0.025      0.975]\n",
       "-------------------------------------------------------------------------------\n",
       "Intercept       7.6348      1.044      7.314      0.000       5.553       9.717\n",
       "np.log(age)     0.5763      0.287      2.006      0.049       0.003       1.149\n",
       "high            0.1640      0.156      1.049      0.298      -0.148       0.476\n",
       "male            0.4988      0.146      3.419      0.001       0.208       0.790\n",
       "children       -0.1468      0.086     -1.707      0.092      -0.318       0.025\n",
       "urban           0.0758      0.182      0.416      0.678      -0.287       0.439\n",
       "==============================================================================\n",
       "Omnibus:                       42.137   Durbin-Watson:                   1.807\n",
       "Prob(Omnibus):                  0.000   Jarque-Bera (JB):              217.131\n",
       "Skew:                          -1.491   Prob(JB):                     7.09e-48\n",
       "Kurtosis:                      10.725   Cond. No.                         63.0\n",
       "==============================================================================\n",
       "\n",
       "Notes:\n",
       "[1] Standard Errors assume that the covariance matrix of the errors is correctly specified.\n",
       "\"\"\""
      ]
     },
     "execution_count": 135,
     "metadata": {},
     "output_type": "execute_result"
    }
   ],
   "source": [
    "full_log.summary()"
   ]
  },
  {
   "cell_type": "markdown",
   "id": "0eb10147",
   "metadata": {},
   "source": [
    "Проверим наличие обратной зависимости в возрасте"
   ]
  },
  {
   "cell_type": "code",
   "execution_count": 136,
   "id": "721346dd",
   "metadata": {},
   "outputs": [],
   "source": [
    "df['re_age'] = 1 / df['age']"
   ]
  },
  {
   "cell_type": "code",
   "execution_count": 137,
   "id": "156ce0aa",
   "metadata": {},
   "outputs": [],
   "source": [
    "log_reg = lr.ols('np.log(wage) ~ re_age + high + male + children + urban',\n",
    "                  data=df).fit()"
   ]
  },
  {
   "cell_type": "code",
   "execution_count": 138,
   "id": "10365162",
   "metadata": {},
   "outputs": [
    {
     "data": {
      "text/html": [
       "<table class=\"simpletable\">\n",
       "<caption>OLS Regression Results</caption>\n",
       "<tr>\n",
       "  <th>Dep. Variable:</th>      <td>np.log(wage)</td>   <th>  R-squared:         </th> <td>   0.222</td>\n",
       "</tr>\n",
       "<tr>\n",
       "  <th>Model:</th>                   <td>OLS</td>       <th>  Adj. R-squared:    </th> <td>   0.166</td>\n",
       "</tr>\n",
       "<tr>\n",
       "  <th>Method:</th>             <td>Least Squares</td>  <th>  F-statistic:       </th> <td>   3.988</td>\n",
       "</tr>\n",
       "<tr>\n",
       "  <th>Date:</th>             <td>Thu, 15 Dec 2022</td> <th>  Prob (F-statistic):</th>  <td>0.00306</td>\n",
       "</tr>\n",
       "<tr>\n",
       "  <th>Time:</th>                 <td>23:17:46</td>     <th>  Log-Likelihood:    </th> <td> -68.420</td>\n",
       "</tr>\n",
       "<tr>\n",
       "  <th>No. Observations:</th>      <td>    76</td>      <th>  AIC:               </th> <td>   148.8</td>\n",
       "</tr>\n",
       "<tr>\n",
       "  <th>Df Residuals:</th>          <td>    70</td>      <th>  BIC:               </th> <td>   162.8</td>\n",
       "</tr>\n",
       "<tr>\n",
       "  <th>Df Model:</th>              <td>     5</td>      <th>                     </th>     <td> </td>   \n",
       "</tr>\n",
       "<tr>\n",
       "  <th>Covariance Type:</th>      <td>nonrobust</td>    <th>                     </th>     <td> </td>   \n",
       "</tr>\n",
       "</table>\n",
       "<table class=\"simpletable\">\n",
       "<tr>\n",
       "      <td></td>         <th>coef</th>     <th>std err</th>      <th>t</th>      <th>P>|t|</th>  <th>[0.025</th>    <th>0.975]</th>  \n",
       "</tr>\n",
       "<tr>\n",
       "  <th>Intercept</th> <td>   10.2754</td> <td>    0.385</td> <td>   26.722</td> <td> 0.000</td> <td>    9.508</td> <td>   11.042</td>\n",
       "</tr>\n",
       "<tr>\n",
       "  <th>re_age</th>    <td>  -19.9840</td> <td>   10.367</td> <td>   -1.928</td> <td> 0.058</td> <td>  -40.660</td> <td>    0.692</td>\n",
       "</tr>\n",
       "<tr>\n",
       "  <th>high</th>      <td>    0.1592</td> <td>    0.157</td> <td>    1.017</td> <td> 0.313</td> <td>   -0.153</td> <td>    0.472</td>\n",
       "</tr>\n",
       "<tr>\n",
       "  <th>male</th>      <td>    0.4910</td> <td>    0.146</td> <td>    3.354</td> <td> 0.001</td> <td>    0.199</td> <td>    0.783</td>\n",
       "</tr>\n",
       "<tr>\n",
       "  <th>children</th>  <td>   -0.1484</td> <td>    0.087</td> <td>   -1.715</td> <td> 0.091</td> <td>   -0.321</td> <td>    0.024</td>\n",
       "</tr>\n",
       "<tr>\n",
       "  <th>urban</th>     <td>    0.0866</td> <td>    0.182</td> <td>    0.476</td> <td> 0.636</td> <td>   -0.276</td> <td>    0.450</td>\n",
       "</tr>\n",
       "</table>\n",
       "<table class=\"simpletable\">\n",
       "<tr>\n",
       "  <th>Omnibus:</th>       <td>42.742</td> <th>  Durbin-Watson:     </th> <td>   1.822</td>\n",
       "</tr>\n",
       "<tr>\n",
       "  <th>Prob(Omnibus):</th> <td> 0.000</td> <th>  Jarque-Bera (JB):  </th> <td> 222.075</td>\n",
       "</tr>\n",
       "<tr>\n",
       "  <th>Skew:</th>          <td>-1.516</td> <th>  Prob(JB):          </th> <td>5.99e-49</td>\n",
       "</tr>\n",
       "<tr>\n",
       "  <th>Kurtosis:</th>      <td>10.806</td> <th>  Cond. No.          </th> <td>    285.</td>\n",
       "</tr>\n",
       "</table><br/><br/>Notes:<br/>[1] Standard Errors assume that the covariance matrix of the errors is correctly specified."
      ],
      "text/plain": [
       "<class 'statsmodels.iolib.summary.Summary'>\n",
       "\"\"\"\n",
       "                            OLS Regression Results                            \n",
       "==============================================================================\n",
       "Dep. Variable:           np.log(wage)   R-squared:                       0.222\n",
       "Model:                            OLS   Adj. R-squared:                  0.166\n",
       "Method:                 Least Squares   F-statistic:                     3.988\n",
       "Date:                Thu, 15 Dec 2022   Prob (F-statistic):            0.00306\n",
       "Time:                        23:17:46   Log-Likelihood:                -68.420\n",
       "No. Observations:                  76   AIC:                             148.8\n",
       "Df Residuals:                      70   BIC:                             162.8\n",
       "Df Model:                           5                                         \n",
       "Covariance Type:            nonrobust                                         \n",
       "==============================================================================\n",
       "                 coef    std err          t      P>|t|      [0.025      0.975]\n",
       "------------------------------------------------------------------------------\n",
       "Intercept     10.2754      0.385     26.722      0.000       9.508      11.042\n",
       "re_age       -19.9840     10.367     -1.928      0.058     -40.660       0.692\n",
       "high           0.1592      0.157      1.017      0.313      -0.153       0.472\n",
       "male           0.4910      0.146      3.354      0.001       0.199       0.783\n",
       "children      -0.1484      0.087     -1.715      0.091      -0.321       0.024\n",
       "urban          0.0866      0.182      0.476      0.636      -0.276       0.450\n",
       "==============================================================================\n",
       "Omnibus:                       42.742   Durbin-Watson:                   1.822\n",
       "Prob(Omnibus):                  0.000   Jarque-Bera (JB):              222.075\n",
       "Skew:                          -1.516   Prob(JB):                     5.99e-49\n",
       "Kurtosis:                      10.806   Cond. No.                         285.\n",
       "==============================================================================\n",
       "\n",
       "Notes:\n",
       "[1] Standard Errors assume that the covariance matrix of the errors is correctly specified.\n",
       "\"\"\""
      ]
     },
     "execution_count": 138,
     "metadata": {},
     "output_type": "execute_result"
    }
   ],
   "source": [
    "log_reg.summary()"
   ]
  },
  {
   "cell_type": "markdown",
   "id": "cbe309ba",
   "metadata": {},
   "source": [
    "Проведем теперь тест Харке-Бера, чтобы проверить нормальность распределения остатков с новой зависимостью:\n",
    "\n",
    "$$ JB = n(\\frac{S^2}{6}  + \\frac{(K-3)^2}{24}) \\sim \\chi^2_2 $$ ,\n",
    "где S - коэффициент симметрии \n",
    "\n",
    "K - коэффифиент эксцесса"
   ]
  },
  {
   "cell_type": "code",
   "execution_count": 139,
   "id": "edf62096",
   "metadata": {},
   "outputs": [],
   "source": [
    "JB = 227.075"
   ]
  },
  {
   "cell_type": "code",
   "execution_count": 140,
   "id": "a29ee112",
   "metadata": {},
   "outputs": [
    {
     "data": {
      "text/plain": [
       "4.605170185988092"
      ]
     },
     "execution_count": 140,
     "metadata": {},
     "output_type": "execute_result"
    }
   ],
   "source": [
    "st.chi2.ppf(1 - 0.1, 2)"
   ]
  },
  {
   "cell_type": "markdown",
   "id": "cec0173b",
   "metadata": {},
   "source": [
    "$F_{наб} = 227 > F_{крит} = 4.6$ => Нулевая гипотеза отвергается, следовательно остатки модели не распределены нормально. Мы не попали зависимостью "
   ]
  },
  {
   "cell_type": "markdown",
   "id": "d584d1a2",
   "metadata": {},
   "source": [
    "#### Задание 14"
   ]
  },
  {
   "cell_type": "markdown",
   "id": "b65cd001",
   "metadata": {},
   "source": [
    "Наилучшей моделью оказалась **модель в полных логарифмах**. Она не обладает гетеросткедастичностью, правильно специфицирована и не имеет не расммотренных зависимостей, мультиколлинеарность не обнаружена, но замечены выбросы"
   ]
  },
  {
   "cell_type": "markdown",
   "id": "6421c3d9",
   "metadata": {},
   "source": [
    "1) Мало наблюдений. В выборке одердится 76 наблюдений. Нужно расширить выборку, чтобы избежать возможные проблемы мультиколлинеарности и неправильные зависимости \n",
    "\n",
    "2) Нет нормльных объясняющих признаков. Здесь не хватает значимых признаков, которые хорошо смогут определить уровень заработных плат. Нужно расширить список признаков, провести к примеру более детальный опрос\n",
    "\n",
    "3) Было бы круто все-таки почистить в итоге модель от выбросов. Потому что они могут смещать оценки. По DFBETAS видно, что там есть явно очень неприятные выбросы"
   ]
  }
 ],
 "metadata": {
  "kernelspec": {
   "display_name": "Python 3 (ipykernel)",
   "language": "python",
   "name": "python3"
  },
  "language_info": {
   "codemirror_mode": {
    "name": "ipython",
    "version": 3
   },
   "file_extension": ".py",
   "mimetype": "text/x-python",
   "name": "python",
   "nbconvert_exporter": "python",
   "pygments_lexer": "ipython3",
   "version": "3.9.12"
  }
 },
 "nbformat": 4,
 "nbformat_minor": 5
}
