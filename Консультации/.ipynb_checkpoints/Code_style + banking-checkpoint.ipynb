{
 "cells": [
  {
   "cell_type": "markdown",
   "id": "eda177ec",
   "metadata": {},
   "source": [
    "## Немного о важном... Код-стайл"
   ]
  },
  {
   "cell_type": "markdown",
   "id": "d2f833b3",
   "metadata": {},
   "source": [
    "Придерживайтесь этих правил, иначе при каждом косяке в мире будет плакать один котик(("
   ]
  },
  {
   "cell_type": "markdown",
   "id": "708dcf0a",
   "metadata": {},
   "source": [
    "Полное руководство по всем аспектам хорошего кодстайла тут: https://pythonworld.ru/osnovy/pep-8-rukovodstvo-po-napisaniyu-koda-na-python.html"
   ]
  },
  {
   "cell_type": "markdown",
   "id": "66afaaee",
   "metadata": {},
   "source": [
    "1. Расставляйте пробелы между любыми арифметическими операциями "
   ]
  },
  {
   "cell_type": "code",
   "execution_count": 1,
   "id": "3c2d583f",
   "metadata": {},
   "outputs": [],
   "source": [
    "a = 2 #присвоение туда же относится как любая другая арифметическая операция => нужен пробел\n",
    "b = 3"
   ]
  },
  {
   "cell_type": "code",
   "execution_count": 5,
   "id": "09057afd",
   "metadata": {},
   "outputs": [
    {
     "data": {
      "text/plain": [
       "5"
      ]
     },
     "execution_count": 5,
     "metadata": {},
     "output_type": "execute_result"
    }
   ],
   "source": [
    "a + b"
   ]
  },
  {
   "cell_type": "code",
   "execution_count": 6,
   "id": "371cf953",
   "metadata": {},
   "outputs": [
    {
     "data": {
      "text/plain": [
       "False"
      ]
     },
     "execution_count": 6,
     "metadata": {},
     "output_type": "execute_result"
    }
   ],
   "source": [
    "a == b"
   ]
  },
  {
   "cell_type": "code",
   "execution_count": 8,
   "id": "0e5e4fa9",
   "metadata": {},
   "outputs": [
    {
     "data": {
      "text/plain": [
       "True"
      ]
     },
     "execution_count": 8,
     "metadata": {},
     "output_type": "execute_result"
    }
   ],
   "source": [
    "a < b"
   ]
  },
  {
   "cell_type": "markdown",
   "id": "f5546318",
   "metadata": {},
   "source": [
    "! Используйте пробелы в арифметических действиях с наименьшим приоритетом. То есть то, что считайте в первую очередь без пробелов, а то что менее важно, то будет с пробелами"
   ]
  },
  {
   "cell_type": "code",
   "execution_count": 9,
   "id": "82d604fb",
   "metadata": {},
   "outputs": [
    {
     "data": {
      "text/plain": [
       "4"
      ]
     },
     "execution_count": 9,
     "metadata": {},
     "output_type": "execute_result"
    }
   ],
   "source": [
    " a*b - 2"
   ]
  },
  {
   "cell_type": "code",
   "execution_count": 10,
   "id": "1d3d754e",
   "metadata": {},
   "outputs": [
    {
     "data": {
      "text/plain": [
       "1.0"
      ]
     },
     "execution_count": 10,
     "metadata": {},
     "output_type": "execute_result"
    }
   ],
   "source": [
    "(a+b) / 5"
   ]
  },
  {
   "cell_type": "markdown",
   "id": "0a2f1dd8",
   "metadata": {},
   "source": [
    "2. Обзывайте переменные так, чтобы даже кофеварки поняли, о чем ваш код)"
   ]
  },
  {
   "cell_type": "code",
   "execution_count": 4,
   "id": "d77f5cc2",
   "metadata": {},
   "outputs": [],
   "source": [
    "length = 100 #а не l и иные буквы, которые не несут никакой смысловой нагрузки"
   ]
  },
  {
   "cell_type": "code",
   "execution_count": 11,
   "id": "2e1b328b",
   "metadata": {},
   "outputs": [],
   "source": [
    "long_name = 'abc' #пробелы отделяйте нижним подчеркиванием"
   ]
  },
  {
   "cell_type": "markdown",
   "id": "a1d266f8",
   "metadata": {},
   "source": [
    "3. НЕ ПУТАЕМ С 1. Внутри функции, между именем функции и ее значением знак \"равно\" пробелами не окружается"
   ]
  },
  {
   "cell_type": "code",
   "execution_count": 28,
   "id": "d7445e6c",
   "metadata": {},
   "outputs": [],
   "source": [
    "def plus_one(number, how_much): #функция прибавляет к числу how_much единиц\n",
    "    return number + how_much"
   ]
  },
  {
   "cell_type": "code",
   "execution_count": 30,
   "id": "41b5f6f8",
   "metadata": {},
   "outputs": [],
   "source": [
    "example = 0 # пробел есть"
   ]
  },
  {
   "cell_type": "code",
   "execution_count": 31,
   "id": "8b64f7d0",
   "metadata": {},
   "outputs": [
    {
     "data": {
      "text/plain": [
       "3"
      ]
     },
     "execution_count": 31,
     "metadata": {},
     "output_type": "execute_result"
    }
   ],
   "source": [
    "plus_one(example, how_much=3) #пробелов возле = нет"
   ]
  },
  {
   "cell_type": "markdown",
   "id": "8f41514b",
   "metadata": {},
   "source": [
    "4. Скорее не урок по написанию кода, а по выживанию. Не используйте существующие названия функций для нейминга новых переменных!!"
   ]
  },
  {
   "cell_type": "code",
   "execution_count": 33,
   "id": "97185982",
   "metadata": {},
   "outputs": [],
   "source": [
    "str = 'abcd' #допустим у вас есть строка, и вы решила ее записать в переменную str (Так не нужно делать!)\n",
    "number = 16"
   ]
  },
  {
   "cell_type": "code",
   "execution_count": 36,
   "id": "8dbc335c",
   "metadata": {},
   "outputs": [
    {
     "ename": "TypeError",
     "evalue": "'str' object is not callable",
     "output_type": "error",
     "traceback": [
      "\u001b[1;31m---------------------------------------------------------------------------\u001b[0m",
      "\u001b[1;31mTypeError\u001b[0m                                 Traceback (most recent call last)",
      "\u001b[1;32m~\\AppData\\Local\\Temp/ipykernel_2960/3543251458.py\u001b[0m in \u001b[0;36m<module>\u001b[1;34m\u001b[0m\n\u001b[0;32m      1\u001b[0m \u001b[1;31m#вы решили перевести число в строку\u001b[0m\u001b[1;33m\u001b[0m\u001b[1;33m\u001b[0m\u001b[1;33m\u001b[0m\u001b[0m\n\u001b[1;32m----> 2\u001b[1;33m \u001b[0mstr\u001b[0m\u001b[1;33m(\u001b[0m\u001b[0mnumber\u001b[0m\u001b[1;33m)\u001b[0m\u001b[1;33m\u001b[0m\u001b[1;33m\u001b[0m\u001b[0m\n\u001b[0m",
      "\u001b[1;31mTypeError\u001b[0m: 'str' object is not callable"
     ]
    }
   ],
   "source": [
    "#вы решили перевести число в строку\n",
    "str(number)"
   ]
  },
  {
   "cell_type": "markdown",
   "id": "11ccd3bf",
   "metadata": {},
   "source": [
    "Но ничего не вышло... \n",
    "\n",
    "Так происходит потому, что когда мы называем переменную существующей функцией, питон переориентирует это название в переменную, и функция как будто перестает существовать"
   ]
  },
  {
   "cell_type": "markdown",
   "id": "9d0a9d5a",
   "metadata": {},
   "source": [
    "5. Отступы в коде"
   ]
  },
  {
   "cell_type": "markdown",
   "id": "d7c3d57d",
   "metadata": {},
   "source": [
    "В коде можно и нужно делать отступы между какими-то определнными блоками, которые делают какую-то однородную часть большой задачи. Иными словами, после каждого этапа"
   ]
  },
  {
   "cell_type": "markdown",
   "id": "903e4998",
   "metadata": {},
   "source": [
    "Приведу пример задачи из прошлой тетрадки"
   ]
  },
  {
   "cell_type": "code",
   "execution_count": 37,
   "id": "65b7f4bc",
   "metadata": {},
   "outputs": [
    {
     "ename": "KeyboardInterrupt",
     "evalue": "Interrupted by user",
     "output_type": "error",
     "traceback": [
      "\u001b[1;31m---------------------------------------------------------------------------\u001b[0m",
      "\u001b[1;31mKeyboardInterrupt\u001b[0m                         Traceback (most recent call last)",
      "\u001b[1;32m~\\AppData\\Local\\Temp/ipykernel_2960/1087795714.py\u001b[0m in \u001b[0;36m<module>\u001b[1;34m\u001b[0m\n\u001b[1;32m----> 1\u001b[1;33m \u001b[0musername\u001b[0m \u001b[1;33m=\u001b[0m \u001b[0minput\u001b[0m\u001b[1;33m(\u001b[0m\u001b[1;34m'Enter your username: '\u001b[0m\u001b[1;33m)\u001b[0m\u001b[1;33m\u001b[0m\u001b[1;33m\u001b[0m\u001b[0m\n\u001b[0m\u001b[0;32m      2\u001b[0m \u001b[1;33m\u001b[0m\u001b[0m\n\u001b[0;32m      3\u001b[0m \u001b[1;31m#шаг 1 (регистрируемся и проверяем пароль на корректность)\u001b[0m\u001b[1;33m\u001b[0m\u001b[1;33m\u001b[0m\u001b[1;33m\u001b[0m\u001b[0m\n\u001b[0;32m      4\u001b[0m \u001b[1;32mwhile\u001b[0m \u001b[1;32mTrue\u001b[0m\u001b[1;33m:\u001b[0m\u001b[1;33m\u001b[0m\u001b[1;33m\u001b[0m\u001b[0m\n\u001b[0;32m      5\u001b[0m     \u001b[0mpassword\u001b[0m \u001b[1;33m=\u001b[0m \u001b[0minput\u001b[0m\u001b[1;33m(\u001b[0m\u001b[1;34m'Enter your password: '\u001b[0m\u001b[1;33m)\u001b[0m\u001b[1;33m\u001b[0m\u001b[1;33m\u001b[0m\u001b[0m\n",
      "\u001b[1;32m~\\anaconda3\\lib\\site-packages\\ipykernel\\kernelbase.py\u001b[0m in \u001b[0;36mraw_input\u001b[1;34m(self, prompt)\u001b[0m\n\u001b[0;32m   1004\u001b[0m                 \u001b[1;34m\"raw_input was called, but this frontend does not support input requests.\"\u001b[0m\u001b[1;33m\u001b[0m\u001b[1;33m\u001b[0m\u001b[0m\n\u001b[0;32m   1005\u001b[0m             )\n\u001b[1;32m-> 1006\u001b[1;33m         return self._input_request(\n\u001b[0m\u001b[0;32m   1007\u001b[0m             \u001b[0mstr\u001b[0m\u001b[1;33m(\u001b[0m\u001b[0mprompt\u001b[0m\u001b[1;33m)\u001b[0m\u001b[1;33m,\u001b[0m\u001b[1;33m\u001b[0m\u001b[1;33m\u001b[0m\u001b[0m\n\u001b[0;32m   1008\u001b[0m             \u001b[0mself\u001b[0m\u001b[1;33m.\u001b[0m\u001b[0m_parent_ident\u001b[0m\u001b[1;33m[\u001b[0m\u001b[1;34m\"shell\"\u001b[0m\u001b[1;33m]\u001b[0m\u001b[1;33m,\u001b[0m\u001b[1;33m\u001b[0m\u001b[1;33m\u001b[0m\u001b[0m\n",
      "\u001b[1;32m~\\anaconda3\\lib\\site-packages\\ipykernel\\kernelbase.py\u001b[0m in \u001b[0;36m_input_request\u001b[1;34m(self, prompt, ident, parent, password)\u001b[0m\n\u001b[0;32m   1049\u001b[0m             \u001b[1;32mexcept\u001b[0m \u001b[0mKeyboardInterrupt\u001b[0m\u001b[1;33m:\u001b[0m\u001b[1;33m\u001b[0m\u001b[1;33m\u001b[0m\u001b[0m\n\u001b[0;32m   1050\u001b[0m                 \u001b[1;31m# re-raise KeyboardInterrupt, to truncate traceback\u001b[0m\u001b[1;33m\u001b[0m\u001b[1;33m\u001b[0m\u001b[1;33m\u001b[0m\u001b[0m\n\u001b[1;32m-> 1051\u001b[1;33m                 \u001b[1;32mraise\u001b[0m \u001b[0mKeyboardInterrupt\u001b[0m\u001b[1;33m(\u001b[0m\u001b[1;34m\"Interrupted by user\"\u001b[0m\u001b[1;33m)\u001b[0m \u001b[1;32mfrom\u001b[0m \u001b[1;32mNone\u001b[0m\u001b[1;33m\u001b[0m\u001b[1;33m\u001b[0m\u001b[0m\n\u001b[0m\u001b[0;32m   1052\u001b[0m             \u001b[1;32mexcept\u001b[0m \u001b[0mException\u001b[0m\u001b[1;33m:\u001b[0m\u001b[1;33m\u001b[0m\u001b[1;33m\u001b[0m\u001b[0m\n\u001b[0;32m   1053\u001b[0m                 \u001b[0mself\u001b[0m\u001b[1;33m.\u001b[0m\u001b[0mlog\u001b[0m\u001b[1;33m.\u001b[0m\u001b[0mwarning\u001b[0m\u001b[1;33m(\u001b[0m\u001b[1;34m\"Invalid Message:\"\u001b[0m\u001b[1;33m,\u001b[0m \u001b[0mexc_info\u001b[0m\u001b[1;33m=\u001b[0m\u001b[1;32mTrue\u001b[0m\u001b[1;33m)\u001b[0m\u001b[1;33m\u001b[0m\u001b[1;33m\u001b[0m\u001b[0m\n",
      "\u001b[1;31mKeyboardInterrupt\u001b[0m: Interrupted by user"
     ]
    }
   ],
   "source": [
    "username = input('Enter your username: ')\n",
    "\n",
    "#шаг 1 (регистрируемся и проверяем пароль на корректность)\n",
    "while True:\n",
    "    password = input('Enter your password: ')\n",
    "    if password == input('Подтверждение: '):\n",
    "        print('Регистрация прошла успешно\\n') #\\n - спец символ отступа от строки, как enter \n",
    "        break\n",
    "    else:\n",
    "        print('Пароли не совпадают')\n",
    "\n",
    "#шаг 2 (блок  с шагами 2+3 авторизация)\n",
    "count = 0\n",
    "while True:\n",
    "    #шаг 3\n",
    "    if count >= 3:\n",
    "        print('Превышен лимит попыток')\n",
    "        break\n",
    "        \n",
    "    if check_logging(username, password) == True :\n",
    "        print('logging is successful')\n",
    "        break\n",
    "    else:\n",
    "        print('wrong username/password \\n')\n",
    "        count += 1"
   ]
  },
  {
   "cell_type": "markdown",
   "id": "814cc848",
   "metadata": {},
   "source": [
    "### Задача для ближайшей консы"
   ]
  },
  {
   "cell_type": "markdown",
   "id": "40763bff",
   "metadata": {},
   "source": [
    "ДИСКЛЕЙМЕР:\n",
    "Для решения задачи нужны следующие важные темы ИЛИ, **решив эту задачу, вы узнаете следующие темы** (зависит от такого с какой мотивацией подойти к этой задаче): \n",
    "   1. Функции\n",
    "   2. Хранение информации во внешних файлах (txt json и тд) умение обращаться и изменять их\n",
    "   3. То что вы уже прошли на курсе (Циклы, условные операторы и элементарные функции)\n",
    "   4. Ваша логика и умение продумывать алгориты решения)))))\n",
    "\n",
    "Ваш босс попросил написать вас приложение для банка и дал вам следующее ТЗ:\n",
    "   1. На начальном экране у клиента появляется строка ввода, которая может получить следующие команды:\n",
    "   \n",
    "       NEW ACCOUNT - клиент вводит навый логин, пароль и ему дается счет, номер которого генерируется из 5 случайных чисел, стартовый баланс - ноль. После регистрации нужно указать имя и фамилию \n",
    "       \n",
    "       LOGIN - клиент должен авторизоваться в существующий аккаунт \n",
    "       \n",
    "       \n",
    "   2. Когда клиент войдет в свой банковский акаунт, он сможет выполнить следующие операции:\n",
    "   \n",
    "       BALANCE - показывает все счета их балансы. Важно стилизовать вывод удобно для пользователя\n",
    "       \n",
    "       ADD CARD - добавляет еще один счет. Номер генерируется из 5 случайных чисел, текущий баланс ноль\n",
    "       \n",
    "       TRANSFER - переводит деньги с одного счета ну другой. При переводе нужно будет уточнить имя владельца карты \n",
    "       \n",
    "       DEPOSIT - положить деньги на один из своих счетов\n",
    "       \n",
    "       \n",
    "   3. Все данные о клиентах: логин, пароль, фио, счета и их балансы. Должны храниться в отдельных файлах\n",
    "   4. Клиент должен иметь возможность выйти из своего аккаунта на начальный экран с помощью команды BACK. Команда EXIT прекращает работу банковского приложения"
   ]
  }
 ],
 "metadata": {
  "kernelspec": {
   "display_name": "Python 3 (ipykernel)",
   "language": "python",
   "name": "python3"
  },
  "language_info": {
   "codemirror_mode": {
    "name": "ipython",
    "version": 3
   },
   "file_extension": ".py",
   "mimetype": "text/x-python",
   "name": "python",
   "nbconvert_exporter": "python",
   "pygments_lexer": "ipython3",
   "version": "3.9.12"
  }
 },
 "nbformat": 4,
 "nbformat_minor": 5
}
