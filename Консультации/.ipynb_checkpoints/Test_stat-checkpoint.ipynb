{
 "cells": [
  {
   "cell_type": "code",
   "execution_count": 2,
   "id": "0ff42436",
   "metadata": {},
   "outputs": [],
   "source": [
    "import scipy.stats as sps\n",
    "import numpy as np"
   ]
  },
  {
   "cell_type": "markdown",
   "id": "44ceda92",
   "metadata": {},
   "source": [
    "**Задача 1**\n",
    "\n",
    "В нормальном распределении $N(\\mu_0, \\sigma^2_0)$, увеличение $\\mu$ и $\\sigma^2$ относительно начальных значений приведет к:\n",
    "\n",
    "* **К сдвигу центра графика плотности вправо**\n",
    "* К сдвигу центра графика плотности влево\n",
    "* Центр плотности останется на том же месте\n",
    "* График станет вытянутым \n",
    "* **График станет приплюснутым к оси X**\n",
    "* Форма графика не изменится"
   ]
  },
  {
   "cell_type": "markdown",
   "id": "a01b1910",
   "metadata": {},
   "source": [
    "**Задача 2**\n",
    "\n",
    "В каких случаях во время тестирования гипотез можно использовать t-тест \n",
    "\n",
    "* **Дисперсии двух выборок равны**\n",
    "* Независимось двух выборок\n",
    "* **Дисперсия выборки исследуемой выборки неизвестна**\n",
    "* Сравнительно большой размер выборки, которая стремится к нормальному распределению"
   ]
  },
  {
   "cell_type": "markdown",
   "id": "a25b442a",
   "metadata": {},
   "source": [
    "**Задача 3**"
   ]
  },
  {
   "cell_type": "markdown",
   "id": "ce14eb7f",
   "metadata": {},
   "source": [
    "Итак, вам дана выборка определенных данных (дисперсия неизвестна), и вы хотите проверить гипотезу о $\\mu$, который выглядит следующим образом. Как вы будете выстраивать процесс тестирования и какие шаги вы включите\n",
    "\n",
    "$$\n",
    "\\begin{aligned}\n",
    "&H_0: \\mu = 18 \\\\\n",
    "&H_1: \\mu < 18\n",
    "\\end{aligned}\n",
    "$$\n",
    "\n",
    "* Будем проводить z-тест\n",
    "* **Будем проводить t-тест**\n",
    "* **Будем проводить левосторонний тест**\n",
    "* Будем проводить двусторонний тест\n",
    "* Будем проводить правосторонний тест\n"
   ]
  },
  {
   "cell_type": "markdown",
   "id": "6d771462",
   "metadata": {},
   "source": [
    "**Задача 4**"
   ]
  },
  {
   "cell_type": "markdown",
   "id": "9007e85a",
   "metadata": {},
   "source": [
    " Пусть $X_i$ — независимы и нормальны $N(\\mu, 1)$. Какова вероятность того, что интервал $[\\overline{X}_{10} −\n",
    "1; \\overline{X}_{10} + 1]$ накроет неизвестное µ? Ответ на задачу запишите в формате: **#.####** десятичное число через точку,  округленное до четырех знаков после запятой"
   ]
  },
  {
   "cell_type": "markdown",
   "id": "cc117050",
   "metadata": {},
   "source": [
    "**Задача 5**\n",
    "\n",
    "Из прошлой задачи найдите параметр $k$ для 90%-ого доверительного интервала для µ вида $[\\overline{X}_{10} − k; \\overline{X}_{10} + k]$. Ответ на задачу запишите в формате: **#.####** десятичное число через точку,  округленное до четырех знаков после запятой"
   ]
  },
  {
   "cell_type": "markdown",
   "id": "50e47d03",
   "metadata": {},
   "source": [
    "*Решение:*\n",
    "\n",
    "Мы знаем, что для оценки $\\mu$ константа k принимает значение $ k = z_{1 -\\frac{\\alpha}{2}}\\sqrt{\\frac{\\sigma^2}{n}}$, поэтому ответ для первого пункта можно найти, решив уравнение\n",
    "\n",
    "$z_{1 -\\frac{\\alpha}{2}}\\sqrt{\\frac{\\sigma^2}{n}}=1$\n",
    "\n",
    "Отсюда выражаем $z_{1 -\\frac{\\alpha}{2}} = \\sqrt{10}$, и теперь осталось восстановить значение квантиля"
   ]
  },
  {
   "cell_type": "code",
   "execution_count": null,
   "id": "b80e5667",
   "metadata": {},
   "outputs": [],
   "source": [
    "# 1 пункт"
   ]
  },
  {
   "cell_type": "code",
   "execution_count": 10,
   "id": "70490f54",
   "metadata": {},
   "outputs": [
    {
     "data": {
      "text/plain": [
       "0.0015654022580025018"
      ]
     },
     "execution_count": 10,
     "metadata": {},
     "output_type": "execute_result"
    }
   ],
   "source": [
    "alpha = (1 - sps.norm.cdf(np.sqrt(10))) * 2\n",
    "alpha"
   ]
  },
  {
   "cell_type": "code",
   "execution_count": 12,
   "id": "33689c47",
   "metadata": {},
   "outputs": [
    {
     "name": "stdout",
     "output_type": "stream",
     "text": [
      "Ответ на первый вопрос: 0.9984\n"
     ]
    }
   ],
   "source": [
    "print('Ответ на первый вопрос: {:.4f}'.format(1 - alpha))"
   ]
  },
  {
   "cell_type": "code",
   "execution_count": null,
   "id": "b1ecc182",
   "metadata": {},
   "outputs": [],
   "source": [
    "# 2 пункт"
   ]
  },
  {
   "cell_type": "code",
   "execution_count": 15,
   "id": "f846d72d",
   "metadata": {},
   "outputs": [],
   "source": [
    "k = sps.norm.ppf(0.95)*np.sqrt(1/10)"
   ]
  },
  {
   "cell_type": "code",
   "execution_count": 17,
   "id": "b6c3d5c9",
   "metadata": {},
   "outputs": [
    {
     "name": "stdout",
     "output_type": "stream",
     "text": [
      "Ответ на второй вопрос: 0.5201\n"
     ]
    }
   ],
   "source": [
    "print('Ответ на второй вопрос: {:.4f}'.format(k))"
   ]
  }
 ],
 "metadata": {
  "kernelspec": {
   "display_name": "Python 3 (ipykernel)",
   "language": "python",
   "name": "python3"
  },
  "language_info": {
   "codemirror_mode": {
    "name": "ipython",
    "version": 3
   },
   "file_extension": ".py",
   "mimetype": "text/x-python",
   "name": "python",
   "nbconvert_exporter": "python",
   "pygments_lexer": "ipython3",
   "version": "3.8.5"
  }
 },
 "nbformat": 4,
 "nbformat_minor": 5
}
