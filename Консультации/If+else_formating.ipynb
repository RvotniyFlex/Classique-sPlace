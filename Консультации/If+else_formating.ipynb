{
 "cells": [
  {
   "cell_type": "markdown",
   "id": "84db32f2",
   "metadata": {},
   "source": [
    "### Задача 1. Подсчет вершин"
   ]
  },
  {
   "cell_type": "markdown",
   "id": "ff95e2f9",
   "metadata": {},
   "source": [
    "**Условие** "
   ]
  },
  {
   "cell_type": "markdown",
   "id": "50719851",
   "metadata": {},
   "source": [
    "Флатландия - двумерное государство, состоящее из столбиков. Вам дана последовательность высот столбиков в Главной Флатландской Горной цепи. Вершиной называется столбик, который строго выше своего соседа слева и справа. Первый и последний столбики не являются вершинами.\n",
    "\n",
    "Подсчитайте количество вершин в Главной Флатландской Горной цепи."
   ]
  },
  {
   "cell_type": "markdown",
   "id": "cc10266b",
   "metadata": {},
   "source": [
    "**Ввод**"
   ]
  },
  {
   "cell_type": "markdown",
   "id": "568ce233",
   "metadata": {},
   "source": [
    "Вводится последовательность высот столбиков — целых чисел, оканчивающаяся числом 0 (само число 0 в последовательность не входит, а служит как признак ее окончания)."
   ]
  },
  {
   "cell_type": "markdown",
   "id": "5ec69bb3",
   "metadata": {},
   "source": [
    "**Решение:**"
   ]
  },
  {
   "cell_type": "code",
   "execution_count": 5,
   "id": "fa410b90",
   "metadata": {},
   "outputs": [
    {
     "name": "stdout",
     "output_type": "stream",
     "text": [
      "1\n",
      "2\n",
      "1\n",
      "1\n",
      "2\n",
      "1\n",
      "2\n",
      "0\n",
      "2\n"
     ]
    }
   ],
   "source": [
    "path = [] #cюда задаем горный массив\n",
    "count = 0 # счетчик для кол-ва вершин\n",
    "\n",
    "\"\"\"Конструкция для неограниченного ввода данных\n",
    "\n",
    "Прерываем, когда поступает на вход какое-то определенное число или строка \n",
    "(в данном случае 0)\n",
    "\"\"\"\n",
    "\n",
    "while True: \n",
    "    n = int(input())\n",
    "    if n == 0:\n",
    "        break\n",
    "    path.append(n)\n",
    "    \n",
    "#Пробегаем все значения кроме крайних (по условию не могут быть вершинами) и смотрим больше или меньше соседей\n",
    "#Если это так увеличиваем счетчик \n",
    "\n",
    "for i in range(1, len(path) - 2):\n",
    "    if path[i - 1] < path [i] and path[i + 1] < path[i]: \n",
    "        count += 1\n",
    "        \n",
    "print (count)"
   ]
  },
  {
   "cell_type": "markdown",
   "id": "19890c9f",
   "metadata": {},
   "source": [
    "### Задача 2. Авторизация"
   ]
  },
  {
   "cell_type": "markdown",
   "id": "80d76c29",
   "metadata": {},
   "source": [
    "**Условие** "
   ]
  },
  {
   "cell_type": "markdown",
   "id": "b07568c7",
   "metadata": {},
   "source": [
    "Вы уважающий себя разработчик приложений и решили написать собственную приложение. Вы решили начать с процесса регистрации и авторизации пользователя. На начальном этапе вам нужно:\n",
    "\n",
    "1. Ввести логин и пароль для нового пользователя, затем подвердить пароль. Пароли должны совпадать,в проивном случае нужно ввести пароли снова\n",
    "\n",
    "2. Сделать авторизацию для пользователя. Нужно ввести логил и пароль, если что-то из эого не совпадает, попросить ввести снова \n",
    "\n",
    "3. Если пароль введен неверно больше 3 раз, принудительно прервать авторизацию и выдать сообщение о том, чтобы пользователь попробовал снова позже\n"
   ]
  },
  {
   "cell_type": "markdown",
   "id": "95b6ee67",
   "metadata": {},
   "source": [
    "**Ввод**"
   ]
  },
  {
   "cell_type": "markdown",
   "id": "46842962",
   "metadata": {},
   "source": [
    "Логин и два пароля для регистрации. + логин и пароль для авторизации "
   ]
  },
  {
   "cell_type": "markdown",
   "id": "ddee9878",
   "metadata": {},
   "source": [
    "**Алгоритм** "
   ]
  },
  {
   "cell_type": "markdown",
   "id": "eda04d5e",
   "metadata": {},
   "source": [
    "1. Создаем бесконеный цикл while True, пока не совпадет два пароля. Пишем условие на совпадение вводимых паролей\n",
    "\n",
    "2. После первого бесконечного цикла создаем еще один на авторизацию, пока логин и пароль не совпадут.\n",
    "\n",
    "3. Помним про ограничение и внутри этого цикла так же заводим счетчи, с условием, которые будут проверят чтобы он был меньше 3"
   ]
  },
  {
   "cell_type": "markdown",
   "id": "eb27ff4f",
   "metadata": {},
   "source": [
    "**Решение:**"
   ]
  },
  {
   "cell_type": "code",
   "execution_count": 10,
   "id": "fcedc191",
   "metadata": {},
   "outputs": [
    {
     "name": "stdout",
     "output_type": "stream",
     "text": [
      "Enter your username: RvotniyFlex\n",
      "Enter your password: hochupelmeni\n",
      "Подтверждение: hochupelmeni\n",
      "Регистрация прошла успешно\n",
      "\n",
      "username: abobus\n",
      "password: Ti kto\n",
      "wrong username/password \n",
      "\n",
      "username: RvotniyFlex\n",
      "password: hochupelmeni\n",
      "logging is successful\n"
     ]
    }
   ],
   "source": [
    "username = input('Enter your username: ')\n",
    "\n",
    "\n",
    "#шаг 1\n",
    "while True:\n",
    "    password = input('Enter your password: ')\n",
    "    if password == input('Подтверждение: '):\n",
    "        print('Регистрация прошла успешно\\n') #\\n - спец символ отступа от строки, как enter \n",
    "        break\n",
    "    else:\n",
    "        print('Пароли не совпадают')\n",
    "\n",
    "#шаг 2\n",
    "count = 0\n",
    "while True:\n",
    "    #шаг 3\n",
    "    if count >= 3:\n",
    "        print('Превышен лимит попыток')\n",
    "        break\n",
    "    check_usrnm = input('username: ')\n",
    "    check_pass = input ('password: ')\n",
    "    if username == check_usrnm and password == check_pass :\n",
    "        print('logging is successful')\n",
    "        break\n",
    "    else:\n",
    "        print('wrong username/password \\n')\n",
    "        count += 1\n",
    "        \n"
   ]
  },
  {
   "cell_type": "markdown",
   "id": "5808e9e3",
   "metadata": {},
   "source": [
    "**Мы хотим более прикладное решение, а не костыль**\n",
    "Так что встречайте - функции!! (для особо любознательных)"
   ]
  },
  {
   "cell_type": "markdown",
   "id": "ae4509e2",
   "metadata": {},
   "source": [
    "В целом функция, которые мы пишем - это тоже самое, что и функции в питоне, только своими руками))"
   ]
  },
  {
   "cell_type": "markdown",
   "id": "61a2d5ff",
   "metadata": {},
   "source": [
    "например len() это функция, input() тоже, вообще все что в скобочках это функция\n",
    "\n",
    "То что слева от скобочек - это название функции (то, как мы к ней потом будем обращаться), а внутри скобочек будут передаваться аргументы (их может быть сколько угодно от нуля до бескнонечности) "
   ]
  },
  {
   "cell_type": "markdown",
   "id": "30a1f193",
   "metadata": {},
   "source": [
    "**Механизм работы:** "
   ]
  },
  {
   "cell_type": "markdown",
   "id": "8b84cf0a",
   "metadata": {},
   "source": [
    "1. К функции передаются в скобочках аргументы. Оюычно это какие-то переменные, которые будут обрабатываться внутри самой функции\n",
    "\n",
    "2. Дальше все обрабтывается исходя из ваших желаний и задача\n",
    "\n",
    "3. На выходе получаем нужные результат"
   ]
  },
  {
   "cell_type": "markdown",
   "id": "0d365bc9",
   "metadata": {},
   "source": [
    "**Синтаксис**"
   ]
  },
  {
   "cell_type": "code",
   "execution_count": 24,
   "id": "a03ba3ff",
   "metadata": {},
   "outputs": [],
   "source": [
    " #называем функцию delete_zeros, которой на вход будет поступать список line. В нем нам нужно убрать все нули\n",
    "def delete_zeros(line):\n",
    "    res = []\n",
    "    for i in line:\n",
    "        if i != 0:\n",
    "            res.append(i)\n",
    "    return res # return - ключевое слово. То что стоит после него, будет резульатом выполнения функции"
   ]
  },
  {
   "cell_type": "code",
   "execution_count": 22,
   "id": "86039fc8",
   "metadata": {},
   "outputs": [],
   "source": [
    "a = [0, 1, 2, 3, 4, 5, 0, 6, 7, 0, 0]"
   ]
  },
  {
   "cell_type": "code",
   "execution_count": 23,
   "id": "f6d5b529",
   "metadata": {},
   "outputs": [
    {
     "data": {
      "text/plain": [
       "[1, 2, 3, 4, 5, 6, 7]"
      ]
     },
     "execution_count": 23,
     "metadata": {},
     "output_type": "execute_result"
    }
   ],
   "source": [
    "delete_zeros(a)"
   ]
  },
  {
   "cell_type": "markdown",
   "id": "3a9b7466",
   "metadata": {},
   "source": [
    "**К нашему примеру:**"
   ]
  },
  {
   "cell_type": "markdown",
   "id": "c509cf42",
   "metadata": {},
   "source": [
    "Напишем функцию, которая будет возвращать True или False по результату проверки во время авторизации"
   ]
  },
  {
   "cell_type": "code",
   "execution_count": 28,
   "id": "aaab0f83",
   "metadata": {},
   "outputs": [],
   "source": [
    "def check_logging(username, password):\n",
    "    check_usrnm = input('username: ')\n",
    "    check_pass = input ('password: ')\n",
    "    if username == check_usrnm and password == check_pass:\n",
    "        return True\n",
    "    else:\n",
    "        return False"
   ]
  },
  {
   "cell_type": "markdown",
   "id": "7eb12f8d",
   "metadata": {},
   "source": [
    "Теперь встроим ее в наше решение, и сделаем чуть красивее "
   ]
  },
  {
   "cell_type": "code",
   "execution_count": 29,
   "id": "1cfacf17",
   "metadata": {},
   "outputs": [
    {
     "name": "stdout",
     "output_type": "stream",
     "text": [
      "Enter your username: biba\n",
      "Enter your password: boba\n",
      "Подтверждение: boba\n",
      "Регистрация прошла успешно\n",
      "\n",
      "username: aboba\n",
      "password: boba\n",
      "wrong username/password \n",
      "\n",
      "username: biba\n",
      "password: boba\n",
      "logging is successful\n"
     ]
    }
   ],
   "source": [
    "username = input('Enter your username: ')\n",
    "\n",
    "\n",
    "#шаг 1\n",
    "while True:\n",
    "    password = input('Enter your password: ')\n",
    "    if password == input('Подтверждение: '):\n",
    "        print('Регистрация прошла успешно\\n') #\\n - спец символ отступа от строки, как enter \n",
    "        break\n",
    "    else:\n",
    "        print('Пароли не совпадают')\n",
    "\n",
    "#шаг 2\n",
    "count = 0\n",
    "while True:\n",
    "    #шаг 3\n",
    "    if count >= 3:\n",
    "        print('Превышен лимит попыток')\n",
    "        break\n",
    "        \n",
    "    if check_logging(username, password) == True :\n",
    "        print('logging is successful')\n",
    "        break\n",
    "    else:\n",
    "        print('wrong username/password \\n')\n",
    "        count += 1\n",
    "        "
   ]
  },
  {
   "cell_type": "markdown",
   "id": "e3f47e0f",
   "metadata": {},
   "source": [
    "Визуально стало чуть изящнее!!"
   ]
  },
  {
   "cell_type": "markdown",
   "id": "18e7e7a8",
   "metadata": {},
   "source": [
    "#### Задача на закрепление"
   ]
  },
  {
   "cell_type": "markdown",
   "id": "8cd5b795",
   "metadata": {},
   "source": [
    "Добавьте в решение функцию для поверки корректности ввода пароля. Он должен быть:\n",
    "\n",
    "1. Длиной не меньше 8 символов\n",
    "\n",
    "2. Как минимум одна большая буква \n",
    "\n",
    "3. Как минимум 1 цифра \n",
    "\n",
    "4. Один символ (! , ? ; : # и тд)"
   ]
  },
  {
   "cell_type": "markdown",
   "id": "2e5f70f8",
   "metadata": {},
   "source": [
    "**Когда нужна функция:**\n",
    "\n",
    "В основном, когда вы повторяете какой-то определенный набор операций несколько раз.\n",
    "\n",
    "Но так же для визуального упрощения кода, но это когда у вас какой-то мощный код на 1к + строк идет\n",
    "\n",
    "В целом это хороший тон))"
   ]
  },
  {
   "cell_type": "markdown",
   "id": "9dda36de",
   "metadata": {},
   "source": [
    "### try/except"
   ]
  },
  {
   "cell_type": "markdown",
   "id": "9ba6a990",
   "metadata": {},
   "source": [
    "Допустим ситуация. Вы на тервере и вас попрасили нормализовать выборку, вычев из каждого элемента ряда среднее и поделив это на среднее\n"
   ]
  },
  {
   "cell_type": "markdown",
   "id": "014d5884",
   "metadata": {},
   "source": [
    "Вроде все просто, а вроде и вопрос с подвохом"
   ]
  },
  {
   "cell_type": "code",
   "execution_count": null,
   "id": "a65ad52b",
   "metadata": {},
   "outputs": [],
   "source": [
    "try:\n",
    "    #Ваш код\n",
    "except:\n",
    "    #Ваш код, если внутри выполнения строк под трай возникнет ошибка"
   ]
  },
  {
   "cell_type": "markdown",
   "id": "8fc88955",
   "metadata": {},
   "source": [
    "Это работает просто: вы сначала выполняете код внутри try, но если там выползает ошибка, то вы переползаете на блок кода except, игнорируя ошибку и не останавливая работу кода\n",
    "\n",
    "Просто по итогу код будет выполнен, который был внутри except"
   ]
  },
  {
   "cell_type": "code",
   "execution_count": 33,
   "id": "79b7bce7",
   "metadata": {},
   "outputs": [],
   "source": [
    "import statistics as stat"
   ]
  },
  {
   "cell_type": "code",
   "execution_count": 41,
   "id": "5995f632",
   "metadata": {},
   "outputs": [],
   "source": [
    "def normalize(line):\n",
    "    mu = stat.mean(line)\n",
    "    sig = stat.stdev(line)\n",
    "    for i in range(len(line)):\n",
    "        line[i] = (line[i] - mu)/sig\n",
    "    return line"
   ]
  },
  {
   "cell_type": "code",
   "execution_count": 42,
   "id": "ea63e8b0",
   "metadata": {},
   "outputs": [],
   "source": [
    "a = [0, 1, 2, 3, 4]"
   ]
  },
  {
   "cell_type": "code",
   "execution_count": 43,
   "id": "feee7173",
   "metadata": {},
   "outputs": [
    {
     "data": {
      "text/plain": [
       "[-1.2649110640673518,\n",
       " -0.6324555320336759,\n",
       " 0.0,\n",
       " 0.6324555320336759,\n",
       " 1.2649110640673518]"
      ]
     },
     "execution_count": 43,
     "metadata": {},
     "output_type": "execute_result"
    }
   ],
   "source": [
    "normalize(a)"
   ]
  },
  {
   "cell_type": "markdown",
   "id": "fa24e71a",
   "metadata": {},
   "source": [
    "А теперь подвох"
   ]
  },
  {
   "cell_type": "markdown",
   "id": "947814ef",
   "metadata": {},
   "source": [
    "Что если все значения одинаковы?\n",
    "\n",
    "Тогда среднее равно значению списка, а отклонению нулю\n",
    "\n",
    "Тогда поделим на ноль, а так вроде не очень можно делать"
   ]
  },
  {
   "cell_type": "code",
   "execution_count": 45,
   "id": "1ebffb1e",
   "metadata": {},
   "outputs": [],
   "source": [
    "b = [1, 1, 1, 1, 1]"
   ]
  },
  {
   "cell_type": "code",
   "execution_count": 46,
   "id": "24bca964",
   "metadata": {},
   "outputs": [
    {
     "ename": "ZeroDivisionError",
     "evalue": "float division by zero",
     "output_type": "error",
     "traceback": [
      "\u001b[1;31m---------------------------------------------------------------------------\u001b[0m",
      "\u001b[1;31mZeroDivisionError\u001b[0m                         Traceback (most recent call last)",
      "\u001b[1;32m~\\AppData\\Local\\Temp/ipykernel_7860/3532896647.py\u001b[0m in \u001b[0;36m<module>\u001b[1;34m\u001b[0m\n\u001b[1;32m----> 1\u001b[1;33m \u001b[0mnormalize\u001b[0m\u001b[1;33m(\u001b[0m\u001b[0mb\u001b[0m\u001b[1;33m)\u001b[0m\u001b[1;33m\u001b[0m\u001b[1;33m\u001b[0m\u001b[0m\n\u001b[0m",
      "\u001b[1;32m~\\AppData\\Local\\Temp/ipykernel_7860/3126375426.py\u001b[0m in \u001b[0;36mnormalize\u001b[1;34m(line)\u001b[0m\n\u001b[0;32m      3\u001b[0m     \u001b[0msig\u001b[0m \u001b[1;33m=\u001b[0m \u001b[0mstat\u001b[0m\u001b[1;33m.\u001b[0m\u001b[0mstdev\u001b[0m\u001b[1;33m(\u001b[0m\u001b[0mline\u001b[0m\u001b[1;33m)\u001b[0m\u001b[1;33m\u001b[0m\u001b[1;33m\u001b[0m\u001b[0m\n\u001b[0;32m      4\u001b[0m     \u001b[1;32mfor\u001b[0m \u001b[0mi\u001b[0m \u001b[1;32min\u001b[0m \u001b[0mrange\u001b[0m\u001b[1;33m(\u001b[0m\u001b[0mlen\u001b[0m\u001b[1;33m(\u001b[0m\u001b[0mline\u001b[0m\u001b[1;33m)\u001b[0m\u001b[1;33m)\u001b[0m\u001b[1;33m:\u001b[0m\u001b[1;33m\u001b[0m\u001b[1;33m\u001b[0m\u001b[0m\n\u001b[1;32m----> 5\u001b[1;33m         \u001b[0mline\u001b[0m\u001b[1;33m[\u001b[0m\u001b[0mi\u001b[0m\u001b[1;33m]\u001b[0m \u001b[1;33m=\u001b[0m \u001b[1;33m(\u001b[0m\u001b[0mline\u001b[0m\u001b[1;33m[\u001b[0m\u001b[0mi\u001b[0m\u001b[1;33m]\u001b[0m \u001b[1;33m-\u001b[0m \u001b[0mmu\u001b[0m\u001b[1;33m)\u001b[0m\u001b[1;33m/\u001b[0m\u001b[0msig\u001b[0m\u001b[1;33m\u001b[0m\u001b[1;33m\u001b[0m\u001b[0m\n\u001b[0m\u001b[0;32m      6\u001b[0m     \u001b[1;32mreturn\u001b[0m \u001b[0mline\u001b[0m\u001b[1;33m\u001b[0m\u001b[1;33m\u001b[0m\u001b[0m\n",
      "\u001b[1;31mZeroDivisionError\u001b[0m: float division by zero"
     ]
    }
   ],
   "source": [
    "normalize(b)"
   ]
  },
  {
   "cell_type": "markdown",
   "id": "a9b8aa88",
   "metadata": {},
   "source": [
    "Вылетела ошибка по понятныем причинам\n"
   ]
  },
  {
   "cell_type": "markdown",
   "id": "5e357a2c",
   "metadata": {},
   "source": [
    "Модифицируем функцию, зная что есть try/except"
   ]
  },
  {
   "cell_type": "code",
   "execution_count": 47,
   "id": "a9e8f590",
   "metadata": {},
   "outputs": [],
   "source": [
    "def normalize(line):\n",
    "    mu = stat.mean(line)\n",
    "    sig = stat.stdev(line)\n",
    "    for i in range(len(line)):\n",
    "        try:\n",
    "            line[i] = (line[i] - mu)/sig\n",
    "        except:\n",
    "            line = [0] * len(line)\n",
    "    return line"
   ]
  },
  {
   "cell_type": "code",
   "execution_count": 48,
   "id": "79b3063f",
   "metadata": {},
   "outputs": [
    {
     "data": {
      "text/plain": [
       "[0, 0, 0, 0, 0]"
      ]
     },
     "execution_count": 48,
     "metadata": {},
     "output_type": "execute_result"
    }
   ],
   "source": [
    "normalize(b)"
   ]
  },
  {
   "cell_type": "markdown",
   "id": "4371b197",
   "metadata": {},
   "source": [
    "Поздравляю! Мы переиграли питон"
   ]
  },
  {
   "cell_type": "markdown",
   "id": "b01379da",
   "metadata": {},
   "source": [
    "**Зачем это нужно опять же:**"
   ]
  },
  {
   "cell_type": "markdown",
   "id": "e77ca292",
   "metadata": {},
   "source": [
    "1. Могут возникнуть ситуации, когда ошибка возникает естественным образом, а вам не нужно прерывать работу кода"
   ]
  },
  {
   "cell_type": "markdown",
   "id": "b119947f",
   "metadata": {},
   "source": [
    "2. Некоторые ошибки нужно пропустить (а вдруг)"
   ]
  },
  {
   "cell_type": "code",
   "execution_count": null,
   "id": "5495c595",
   "metadata": {},
   "outputs": [],
   "source": [
    "try:\n",
    "    #место где может быть ошибка\n",
    "except: \n",
    "    pass #просто пропускаем блок кода с ошибкой "
   ]
  }
 ],
 "metadata": {
  "kernelspec": {
   "display_name": "Python 3 (ipykernel)",
   "language": "python",
   "name": "python3"
  },
  "language_info": {
   "codemirror_mode": {
    "name": "ipython",
    "version": 3
   },
   "file_extension": ".py",
   "mimetype": "text/x-python",
   "name": "python",
   "nbconvert_exporter": "python",
   "pygments_lexer": "ipython3",
   "version": "3.9.12"
  }
 },
 "nbformat": 4,
 "nbformat_minor": 5
}
